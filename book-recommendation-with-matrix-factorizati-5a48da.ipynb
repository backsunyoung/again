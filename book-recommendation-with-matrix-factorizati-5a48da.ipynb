{
 "cells": [
  {
   "cell_type": "code",
   "execution_count": 1,
   "id": "19524b2f",
   "metadata": {
    "_cell_guid": "b1076dfc-b9ad-4769-8c92-a6c4dae69d19",
    "_uuid": "8f2839f25d086af736a60e9eeb907d3b93b6e0e5",
    "execution": {
     "iopub.execute_input": "2023-01-22T08:58:10.941801Z",
     "iopub.status.busy": "2023-01-22T08:58:10.940478Z",
     "iopub.status.idle": "2023-01-22T08:58:12.131545Z",
     "shell.execute_reply": "2023-01-22T08:58:12.130223Z"
    },
    "papermill": {
     "duration": 1.209942,
     "end_time": "2023-01-22T08:58:12.134661",
     "exception": false,
     "start_time": "2023-01-22T08:58:10.924719",
     "status": "completed"
    },
    "tags": []
   },
   "outputs": [
    {
     "name": "stdout",
     "output_type": "stream",
     "text": [
      "/kaggle/input/book-recommendation-dataset/Ratings.csv\n",
      "/kaggle/input/book-recommendation-dataset/Users.csv\n",
      "/kaggle/input/book-recommendation-dataset/Books.csv\n"
     ]
    }
   ],
   "source": [
    "# This Python 3 environment comes with many helpful analytics libraries installed\n",
    "# It is defined by the kaggle/python Docker image: https://github.com/kaggle/docker-python\n",
    "# For example, here's several helpful packages to load\n",
    "\n",
    "import numpy as np # linear algebra\n",
    "import pandas as pd # data processing, CSV file I/O (e.g. pd.read_csv)\n",
    "import seaborn as sns\n",
    "import matplotlib.pyplot as plt\n",
    "import matplotlib.pyplot as plt\n",
    "%matplotlib inline\n",
    "\n",
    "# Input data files are available in the read-only \"../input/\" directory\n",
    "# For example, running this (by clicking run or pressing Shift+Enter) will list all files under the input directory\n",
    "\n",
    "import os\n",
    "for dirname, _, filenames in os.walk('/kaggle/input'):\n",
    "    for filename in filenames:\n",
    "        print(os.path.join(dirname, filename))\n",
    "\n",
    "# You can write up to 20GB to the current directory (/kaggle/working/) that gets preserved as output when you create a version using \"Save & Run All\" \n",
    "# You can also write temporary files to /kaggle/temp/, but they won't be saved outside of the current session"
   ]
  },
  {
   "cell_type": "code",
   "execution_count": 2,
   "id": "622740b9",
   "metadata": {
    "execution": {
     "iopub.execute_input": "2023-01-22T08:58:12.164471Z",
     "iopub.status.busy": "2023-01-22T08:58:12.163265Z",
     "iopub.status.idle": "2023-01-22T08:58:14.888920Z",
     "shell.execute_reply": "2023-01-22T08:58:14.887612Z"
    },
    "papermill": {
     "duration": 2.744275,
     "end_time": "2023-01-22T08:58:14.891715",
     "exception": false,
     "start_time": "2023-01-22T08:58:12.147440",
     "status": "completed"
    },
    "tags": []
   },
   "outputs": [
    {
     "name": "stderr",
     "output_type": "stream",
     "text": [
      "/opt/conda/lib/python3.7/site-packages/IPython/core/interactiveshell.py:3552: DtypeWarning: Columns (3) have mixed types.Specify dtype option on import or set low_memory=False.\n",
      "  exec(code_obj, self.user_global_ns, self.user_ns)\n"
     ]
    }
   ],
   "source": [
    "#read all the input files\n",
    "books = pd.read_csv(\"../input/book-recommendation-dataset/Books.csv\")"
   ]
  },
  {
   "cell_type": "code",
   "execution_count": 3,
   "id": "56cdd2a3",
   "metadata": {
    "execution": {
     "iopub.execute_input": "2023-01-22T08:58:14.918217Z",
     "iopub.status.busy": "2023-01-22T08:58:14.917749Z",
     "iopub.status.idle": "2023-01-22T08:58:16.356290Z",
     "shell.execute_reply": "2023-01-22T08:58:16.355153Z"
    },
    "papermill": {
     "duration": 1.455247,
     "end_time": "2023-01-22T08:58:16.359372",
     "exception": false,
     "start_time": "2023-01-22T08:58:14.904125",
     "status": "completed"
    },
    "tags": []
   },
   "outputs": [],
   "source": [
    "users = pd.read_csv(\"../input/book-recommendation-dataset/Users.csv\")\n",
    "ratings = pd.read_csv(\"../input/book-recommendation-dataset/Ratings.csv\")"
   ]
  },
  {
   "cell_type": "code",
   "execution_count": 4,
   "id": "5f37e6ce",
   "metadata": {
    "execution": {
     "iopub.execute_input": "2023-01-22T08:58:16.387382Z",
     "iopub.status.busy": "2023-01-22T08:58:16.386947Z",
     "iopub.status.idle": "2023-01-22T08:58:16.413081Z",
     "shell.execute_reply": "2023-01-22T08:58:16.411806Z"
    },
    "papermill": {
     "duration": 0.043454,
     "end_time": "2023-01-22T08:58:16.415708",
     "exception": false,
     "start_time": "2023-01-22T08:58:16.372254",
     "status": "completed"
    },
    "tags": []
   },
   "outputs": [
    {
     "data": {
      "text/html": [
       "<div>\n",
       "<style scoped>\n",
       "    .dataframe tbody tr th:only-of-type {\n",
       "        vertical-align: middle;\n",
       "    }\n",
       "\n",
       "    .dataframe tbody tr th {\n",
       "        vertical-align: top;\n",
       "    }\n",
       "\n",
       "    .dataframe thead th {\n",
       "        text-align: right;\n",
       "    }\n",
       "</style>\n",
       "<table border=\"1\" class=\"dataframe\">\n",
       "  <thead>\n",
       "    <tr style=\"text-align: right;\">\n",
       "      <th></th>\n",
       "      <th>ISBN</th>\n",
       "      <th>Book-Title</th>\n",
       "      <th>Book-Author</th>\n",
       "      <th>Year-Of-Publication</th>\n",
       "      <th>Publisher</th>\n",
       "      <th>Image-URL-S</th>\n",
       "      <th>Image-URL-M</th>\n",
       "      <th>Image-URL-L</th>\n",
       "    </tr>\n",
       "  </thead>\n",
       "  <tbody>\n",
       "    <tr>\n",
       "      <th>0</th>\n",
       "      <td>0195153448</td>\n",
       "      <td>Classical Mythology</td>\n",
       "      <td>Mark P. O. Morford</td>\n",
       "      <td>2002</td>\n",
       "      <td>Oxford University Press</td>\n",
       "      <td>http://images.amazon.com/images/P/0195153448.0...</td>\n",
       "      <td>http://images.amazon.com/images/P/0195153448.0...</td>\n",
       "      <td>http://images.amazon.com/images/P/0195153448.0...</td>\n",
       "    </tr>\n",
       "    <tr>\n",
       "      <th>1</th>\n",
       "      <td>0002005018</td>\n",
       "      <td>Clara Callan</td>\n",
       "      <td>Richard Bruce Wright</td>\n",
       "      <td>2001</td>\n",
       "      <td>HarperFlamingo Canada</td>\n",
       "      <td>http://images.amazon.com/images/P/0002005018.0...</td>\n",
       "      <td>http://images.amazon.com/images/P/0002005018.0...</td>\n",
       "      <td>http://images.amazon.com/images/P/0002005018.0...</td>\n",
       "    </tr>\n",
       "    <tr>\n",
       "      <th>2</th>\n",
       "      <td>0060973129</td>\n",
       "      <td>Decision in Normandy</td>\n",
       "      <td>Carlo D'Este</td>\n",
       "      <td>1991</td>\n",
       "      <td>HarperPerennial</td>\n",
       "      <td>http://images.amazon.com/images/P/0060973129.0...</td>\n",
       "      <td>http://images.amazon.com/images/P/0060973129.0...</td>\n",
       "      <td>http://images.amazon.com/images/P/0060973129.0...</td>\n",
       "    </tr>\n",
       "    <tr>\n",
       "      <th>3</th>\n",
       "      <td>0374157065</td>\n",
       "      <td>Flu: The Story of the Great Influenza Pandemic...</td>\n",
       "      <td>Gina Bari Kolata</td>\n",
       "      <td>1999</td>\n",
       "      <td>Farrar Straus Giroux</td>\n",
       "      <td>http://images.amazon.com/images/P/0374157065.0...</td>\n",
       "      <td>http://images.amazon.com/images/P/0374157065.0...</td>\n",
       "      <td>http://images.amazon.com/images/P/0374157065.0...</td>\n",
       "    </tr>\n",
       "    <tr>\n",
       "      <th>4</th>\n",
       "      <td>0393045218</td>\n",
       "      <td>The Mummies of Urumchi</td>\n",
       "      <td>E. J. W. Barber</td>\n",
       "      <td>1999</td>\n",
       "      <td>W. W. Norton &amp;amp; Company</td>\n",
       "      <td>http://images.amazon.com/images/P/0393045218.0...</td>\n",
       "      <td>http://images.amazon.com/images/P/0393045218.0...</td>\n",
       "      <td>http://images.amazon.com/images/P/0393045218.0...</td>\n",
       "    </tr>\n",
       "  </tbody>\n",
       "</table>\n",
       "</div>"
      ],
      "text/plain": [
       "         ISBN                                         Book-Title  \\\n",
       "0  0195153448                                Classical Mythology   \n",
       "1  0002005018                                       Clara Callan   \n",
       "2  0060973129                               Decision in Normandy   \n",
       "3  0374157065  Flu: The Story of the Great Influenza Pandemic...   \n",
       "4  0393045218                             The Mummies of Urumchi   \n",
       "\n",
       "            Book-Author Year-Of-Publication                   Publisher  \\\n",
       "0    Mark P. O. Morford                2002     Oxford University Press   \n",
       "1  Richard Bruce Wright                2001       HarperFlamingo Canada   \n",
       "2          Carlo D'Este                1991             HarperPerennial   \n",
       "3      Gina Bari Kolata                1999        Farrar Straus Giroux   \n",
       "4       E. J. W. Barber                1999  W. W. Norton &amp; Company   \n",
       "\n",
       "                                         Image-URL-S  \\\n",
       "0  http://images.amazon.com/images/P/0195153448.0...   \n",
       "1  http://images.amazon.com/images/P/0002005018.0...   \n",
       "2  http://images.amazon.com/images/P/0060973129.0...   \n",
       "3  http://images.amazon.com/images/P/0374157065.0...   \n",
       "4  http://images.amazon.com/images/P/0393045218.0...   \n",
       "\n",
       "                                         Image-URL-M  \\\n",
       "0  http://images.amazon.com/images/P/0195153448.0...   \n",
       "1  http://images.amazon.com/images/P/0002005018.0...   \n",
       "2  http://images.amazon.com/images/P/0060973129.0...   \n",
       "3  http://images.amazon.com/images/P/0374157065.0...   \n",
       "4  http://images.amazon.com/images/P/0393045218.0...   \n",
       "\n",
       "                                         Image-URL-L  \n",
       "0  http://images.amazon.com/images/P/0195153448.0...  \n",
       "1  http://images.amazon.com/images/P/0002005018.0...  \n",
       "2  http://images.amazon.com/images/P/0060973129.0...  \n",
       "3  http://images.amazon.com/images/P/0374157065.0...  \n",
       "4  http://images.amazon.com/images/P/0393045218.0...  "
      ]
     },
     "execution_count": 4,
     "metadata": {},
     "output_type": "execute_result"
    }
   ],
   "source": [
    "books.head()"
   ]
  },
  {
   "cell_type": "code",
   "execution_count": 5,
   "id": "35cfc3c3",
   "metadata": {
    "execution": {
     "iopub.execute_input": "2023-01-22T08:58:16.443352Z",
     "iopub.status.busy": "2023-01-22T08:58:16.442909Z",
     "iopub.status.idle": "2023-01-22T08:58:16.448779Z",
     "shell.execute_reply": "2023-01-22T08:58:16.447426Z"
    },
    "papermill": {
     "duration": 0.022986,
     "end_time": "2023-01-22T08:58:16.451427",
     "exception": false,
     "start_time": "2023-01-22T08:58:16.428441",
     "status": "completed"
    },
    "tags": []
   },
   "outputs": [],
   "source": [
    "#Selecting only useful information ( removing image URLs)\n",
    "books = books.iloc[:,:5]"
   ]
  },
  {
   "cell_type": "code",
   "execution_count": 6,
   "id": "b2dbbe1e",
   "metadata": {
    "execution": {
     "iopub.execute_input": "2023-01-22T08:58:16.479752Z",
     "iopub.status.busy": "2023-01-22T08:58:16.478923Z",
     "iopub.status.idle": "2023-01-22T08:58:16.493754Z",
     "shell.execute_reply": "2023-01-22T08:58:16.492503Z"
    },
    "papermill": {
     "duration": 0.032007,
     "end_time": "2023-01-22T08:58:16.496265",
     "exception": false,
     "start_time": "2023-01-22T08:58:16.464258",
     "status": "completed"
    },
    "tags": []
   },
   "outputs": [
    {
     "data": {
      "text/html": [
       "<div>\n",
       "<style scoped>\n",
       "    .dataframe tbody tr th:only-of-type {\n",
       "        vertical-align: middle;\n",
       "    }\n",
       "\n",
       "    .dataframe tbody tr th {\n",
       "        vertical-align: top;\n",
       "    }\n",
       "\n",
       "    .dataframe thead th {\n",
       "        text-align: right;\n",
       "    }\n",
       "</style>\n",
       "<table border=\"1\" class=\"dataframe\">\n",
       "  <thead>\n",
       "    <tr style=\"text-align: right;\">\n",
       "      <th></th>\n",
       "      <th>ISBN</th>\n",
       "      <th>Book-Title</th>\n",
       "      <th>Book-Author</th>\n",
       "      <th>Year-Of-Publication</th>\n",
       "      <th>Publisher</th>\n",
       "    </tr>\n",
       "  </thead>\n",
       "  <tbody>\n",
       "    <tr>\n",
       "      <th>0</th>\n",
       "      <td>0195153448</td>\n",
       "      <td>Classical Mythology</td>\n",
       "      <td>Mark P. O. Morford</td>\n",
       "      <td>2002</td>\n",
       "      <td>Oxford University Press</td>\n",
       "    </tr>\n",
       "    <tr>\n",
       "      <th>1</th>\n",
       "      <td>0002005018</td>\n",
       "      <td>Clara Callan</td>\n",
       "      <td>Richard Bruce Wright</td>\n",
       "      <td>2001</td>\n",
       "      <td>HarperFlamingo Canada</td>\n",
       "    </tr>\n",
       "    <tr>\n",
       "      <th>2</th>\n",
       "      <td>0060973129</td>\n",
       "      <td>Decision in Normandy</td>\n",
       "      <td>Carlo D'Este</td>\n",
       "      <td>1991</td>\n",
       "      <td>HarperPerennial</td>\n",
       "    </tr>\n",
       "    <tr>\n",
       "      <th>3</th>\n",
       "      <td>0374157065</td>\n",
       "      <td>Flu: The Story of the Great Influenza Pandemic...</td>\n",
       "      <td>Gina Bari Kolata</td>\n",
       "      <td>1999</td>\n",
       "      <td>Farrar Straus Giroux</td>\n",
       "    </tr>\n",
       "    <tr>\n",
       "      <th>4</th>\n",
       "      <td>0393045218</td>\n",
       "      <td>The Mummies of Urumchi</td>\n",
       "      <td>E. J. W. Barber</td>\n",
       "      <td>1999</td>\n",
       "      <td>W. W. Norton &amp;amp; Company</td>\n",
       "    </tr>\n",
       "  </tbody>\n",
       "</table>\n",
       "</div>"
      ],
      "text/plain": [
       "         ISBN                                         Book-Title  \\\n",
       "0  0195153448                                Classical Mythology   \n",
       "1  0002005018                                       Clara Callan   \n",
       "2  0060973129                               Decision in Normandy   \n",
       "3  0374157065  Flu: The Story of the Great Influenza Pandemic...   \n",
       "4  0393045218                             The Mummies of Urumchi   \n",
       "\n",
       "            Book-Author Year-Of-Publication                   Publisher  \n",
       "0    Mark P. O. Morford                2002     Oxford University Press  \n",
       "1  Richard Bruce Wright                2001       HarperFlamingo Canada  \n",
       "2          Carlo D'Este                1991             HarperPerennial  \n",
       "3      Gina Bari Kolata                1999        Farrar Straus Giroux  \n",
       "4       E. J. W. Barber                1999  W. W. Norton &amp; Company  "
      ]
     },
     "execution_count": 6,
     "metadata": {},
     "output_type": "execute_result"
    }
   ],
   "source": [
    "books.head()"
   ]
  },
  {
   "cell_type": "code",
   "execution_count": 7,
   "id": "3744631f",
   "metadata": {
    "execution": {
     "iopub.execute_input": "2023-01-22T08:58:16.524862Z",
     "iopub.status.busy": "2023-01-22T08:58:16.523906Z",
     "iopub.status.idle": "2023-01-22T08:58:16.538742Z",
     "shell.execute_reply": "2023-01-22T08:58:16.537587Z"
    },
    "papermill": {
     "duration": 0.032197,
     "end_time": "2023-01-22T08:58:16.541308",
     "exception": false,
     "start_time": "2023-01-22T08:58:16.509111",
     "status": "completed"
    },
    "tags": []
   },
   "outputs": [
    {
     "data": {
      "text/html": [
       "<div>\n",
       "<style scoped>\n",
       "    .dataframe tbody tr th:only-of-type {\n",
       "        vertical-align: middle;\n",
       "    }\n",
       "\n",
       "    .dataframe tbody tr th {\n",
       "        vertical-align: top;\n",
       "    }\n",
       "\n",
       "    .dataframe thead th {\n",
       "        text-align: right;\n",
       "    }\n",
       "</style>\n",
       "<table border=\"1\" class=\"dataframe\">\n",
       "  <thead>\n",
       "    <tr style=\"text-align: right;\">\n",
       "      <th></th>\n",
       "      <th>User-ID</th>\n",
       "      <th>Location</th>\n",
       "      <th>Age</th>\n",
       "    </tr>\n",
       "  </thead>\n",
       "  <tbody>\n",
       "    <tr>\n",
       "      <th>0</th>\n",
       "      <td>1</td>\n",
       "      <td>nyc, new york, usa</td>\n",
       "      <td>NaN</td>\n",
       "    </tr>\n",
       "    <tr>\n",
       "      <th>1</th>\n",
       "      <td>2</td>\n",
       "      <td>stockton, california, usa</td>\n",
       "      <td>18.0</td>\n",
       "    </tr>\n",
       "    <tr>\n",
       "      <th>2</th>\n",
       "      <td>3</td>\n",
       "      <td>moscow, yukon territory, russia</td>\n",
       "      <td>NaN</td>\n",
       "    </tr>\n",
       "    <tr>\n",
       "      <th>3</th>\n",
       "      <td>4</td>\n",
       "      <td>porto, v.n.gaia, portugal</td>\n",
       "      <td>17.0</td>\n",
       "    </tr>\n",
       "    <tr>\n",
       "      <th>4</th>\n",
       "      <td>5</td>\n",
       "      <td>farnborough, hants, united kingdom</td>\n",
       "      <td>NaN</td>\n",
       "    </tr>\n",
       "  </tbody>\n",
       "</table>\n",
       "</div>"
      ],
      "text/plain": [
       "   User-ID                            Location   Age\n",
       "0        1                  nyc, new york, usa   NaN\n",
       "1        2           stockton, california, usa  18.0\n",
       "2        3     moscow, yukon territory, russia   NaN\n",
       "3        4           porto, v.n.gaia, portugal  17.0\n",
       "4        5  farnborough, hants, united kingdom   NaN"
      ]
     },
     "execution_count": 7,
     "metadata": {},
     "output_type": "execute_result"
    }
   ],
   "source": [
    "users.head()"
   ]
  },
  {
   "cell_type": "code",
   "execution_count": 8,
   "id": "214f801d",
   "metadata": {
    "execution": {
     "iopub.execute_input": "2023-01-22T08:58:16.569627Z",
     "iopub.status.busy": "2023-01-22T08:58:16.569184Z",
     "iopub.status.idle": "2023-01-22T08:58:16.581156Z",
     "shell.execute_reply": "2023-01-22T08:58:16.580053Z"
    },
    "papermill": {
     "duration": 0.028937,
     "end_time": "2023-01-22T08:58:16.583524",
     "exception": false,
     "start_time": "2023-01-22T08:58:16.554587",
     "status": "completed"
    },
    "tags": []
   },
   "outputs": [
    {
     "data": {
      "text/html": [
       "<div>\n",
       "<style scoped>\n",
       "    .dataframe tbody tr th:only-of-type {\n",
       "        vertical-align: middle;\n",
       "    }\n",
       "\n",
       "    .dataframe tbody tr th {\n",
       "        vertical-align: top;\n",
       "    }\n",
       "\n",
       "    .dataframe thead th {\n",
       "        text-align: right;\n",
       "    }\n",
       "</style>\n",
       "<table border=\"1\" class=\"dataframe\">\n",
       "  <thead>\n",
       "    <tr style=\"text-align: right;\">\n",
       "      <th></th>\n",
       "      <th>User-ID</th>\n",
       "      <th>ISBN</th>\n",
       "      <th>Book-Rating</th>\n",
       "    </tr>\n",
       "  </thead>\n",
       "  <tbody>\n",
       "    <tr>\n",
       "      <th>0</th>\n",
       "      <td>276725</td>\n",
       "      <td>034545104X</td>\n",
       "      <td>0</td>\n",
       "    </tr>\n",
       "    <tr>\n",
       "      <th>1</th>\n",
       "      <td>276726</td>\n",
       "      <td>0155061224</td>\n",
       "      <td>5</td>\n",
       "    </tr>\n",
       "    <tr>\n",
       "      <th>2</th>\n",
       "      <td>276727</td>\n",
       "      <td>0446520802</td>\n",
       "      <td>0</td>\n",
       "    </tr>\n",
       "    <tr>\n",
       "      <th>3</th>\n",
       "      <td>276729</td>\n",
       "      <td>052165615X</td>\n",
       "      <td>3</td>\n",
       "    </tr>\n",
       "    <tr>\n",
       "      <th>4</th>\n",
       "      <td>276729</td>\n",
       "      <td>0521795028</td>\n",
       "      <td>6</td>\n",
       "    </tr>\n",
       "  </tbody>\n",
       "</table>\n",
       "</div>"
      ],
      "text/plain": [
       "   User-ID        ISBN  Book-Rating\n",
       "0   276725  034545104X            0\n",
       "1   276726  0155061224            5\n",
       "2   276727  0446520802            0\n",
       "3   276729  052165615X            3\n",
       "4   276729  0521795028            6"
      ]
     },
     "execution_count": 8,
     "metadata": {},
     "output_type": "execute_result"
    }
   ],
   "source": [
    "ratings.head()"
   ]
  },
  {
   "cell_type": "code",
   "execution_count": 9,
   "id": "61f68199",
   "metadata": {
    "execution": {
     "iopub.execute_input": "2023-01-22T08:58:16.613903Z",
     "iopub.status.busy": "2023-01-22T08:58:16.613451Z",
     "iopub.status.idle": "2023-01-22T08:58:16.839249Z",
     "shell.execute_reply": "2023-01-22T08:58:16.838087Z"
    },
    "papermill": {
     "duration": 0.245026,
     "end_time": "2023-01-22T08:58:16.842372",
     "exception": false,
     "start_time": "2023-01-22T08:58:16.597346",
     "status": "completed"
    },
    "tags": []
   },
   "outputs": [],
   "source": [
    "#Groupby to see which user has rated how many books\n",
    "user_rating_count = ratings.groupby('User-ID').count().sort_values(by = 'ISBN', ascending = False)"
   ]
  },
  {
   "cell_type": "code",
   "execution_count": 10,
   "id": "8c716366",
   "metadata": {
    "execution": {
     "iopub.execute_input": "2023-01-22T08:58:16.875222Z",
     "iopub.status.busy": "2023-01-22T08:58:16.874713Z",
     "iopub.status.idle": "2023-01-22T08:58:16.882553Z",
     "shell.execute_reply": "2023-01-22T08:58:16.881442Z"
    },
    "papermill": {
     "duration": 0.02518,
     "end_time": "2023-01-22T08:58:16.884724",
     "exception": false,
     "start_time": "2023-01-22T08:58:16.859544",
     "status": "completed"
    },
    "tags": []
   },
   "outputs": [
    {
     "data": {
      "text/plain": [
       "(105283, 2)"
      ]
     },
     "execution_count": 10,
     "metadata": {},
     "output_type": "execute_result"
    }
   ],
   "source": [
    "user_rating_count.shape"
   ]
  },
  {
   "cell_type": "code",
   "execution_count": 11,
   "id": "15016543",
   "metadata": {
    "execution": {
     "iopub.execute_input": "2023-01-22T08:58:16.916216Z",
     "iopub.status.busy": "2023-01-22T08:58:16.915521Z",
     "iopub.status.idle": "2023-01-22T08:58:16.924727Z",
     "shell.execute_reply": "2023-01-22T08:58:16.923280Z"
    },
    "papermill": {
     "duration": 0.028518,
     "end_time": "2023-01-22T08:58:16.927591",
     "exception": false,
     "start_time": "2023-01-22T08:58:16.899073",
     "status": "completed"
    },
    "tags": []
   },
   "outputs": [],
   "source": [
    "#keep only those users who have given ratings to more than 100 books)\n",
    "user_rating_count = user_rating_count[user_rating_count['ISBN']>100]"
   ]
  },
  {
   "cell_type": "code",
   "execution_count": 12,
   "id": "72b6c6b6",
   "metadata": {
    "execution": {
     "iopub.execute_input": "2023-01-22T08:58:16.956746Z",
     "iopub.status.busy": "2023-01-22T08:58:16.956236Z",
     "iopub.status.idle": "2023-01-22T08:58:16.963197Z",
     "shell.execute_reply": "2023-01-22T08:58:16.962232Z"
    },
    "papermill": {
     "duration": 0.024751,
     "end_time": "2023-01-22T08:58:16.965964",
     "exception": false,
     "start_time": "2023-01-22T08:58:16.941213",
     "status": "completed"
    },
    "tags": []
   },
   "outputs": [
    {
     "data": {
      "text/plain": [
       "(1825, 2)"
      ]
     },
     "execution_count": 12,
     "metadata": {},
     "output_type": "execute_result"
    }
   ],
   "source": [
    "user_rating_count.shape"
   ]
  },
  {
   "cell_type": "code",
   "execution_count": 13,
   "id": "c848a649",
   "metadata": {
    "execution": {
     "iopub.execute_input": "2023-01-22T08:58:16.997068Z",
     "iopub.status.busy": "2023-01-22T08:58:16.996598Z",
     "iopub.status.idle": "2023-01-22T08:58:18.025687Z",
     "shell.execute_reply": "2023-01-22T08:58:18.024282Z"
    },
    "papermill": {
     "duration": 1.048321,
     "end_time": "2023-01-22T08:58:18.028682",
     "exception": false,
     "start_time": "2023-01-22T08:58:16.980361",
     "status": "completed"
    },
    "tags": []
   },
   "outputs": [],
   "source": [
    "#Get counts of the ratings for each book\n",
    "book_rating_count = ratings.groupby('ISBN').count().sort_values(by = 'Book-Rating', ascending = False)"
   ]
  },
  {
   "cell_type": "code",
   "execution_count": 14,
   "id": "e7ec48a5",
   "metadata": {
    "execution": {
     "iopub.execute_input": "2023-01-22T08:58:18.058038Z",
     "iopub.status.busy": "2023-01-22T08:58:18.057513Z",
     "iopub.status.idle": "2023-01-22T08:58:18.069029Z",
     "shell.execute_reply": "2023-01-22T08:58:18.068124Z"
    },
    "papermill": {
     "duration": 0.028646,
     "end_time": "2023-01-22T08:58:18.071147",
     "exception": false,
     "start_time": "2023-01-22T08:58:18.042501",
     "status": "completed"
    },
    "tags": []
   },
   "outputs": [
    {
     "data": {
      "text/html": [
       "<div>\n",
       "<style scoped>\n",
       "    .dataframe tbody tr th:only-of-type {\n",
       "        vertical-align: middle;\n",
       "    }\n",
       "\n",
       "    .dataframe tbody tr th {\n",
       "        vertical-align: top;\n",
       "    }\n",
       "\n",
       "    .dataframe thead th {\n",
       "        text-align: right;\n",
       "    }\n",
       "</style>\n",
       "<table border=\"1\" class=\"dataframe\">\n",
       "  <thead>\n",
       "    <tr style=\"text-align: right;\">\n",
       "      <th></th>\n",
       "      <th>User-ID</th>\n",
       "      <th>Book-Rating</th>\n",
       "    </tr>\n",
       "    <tr>\n",
       "      <th>ISBN</th>\n",
       "      <th></th>\n",
       "      <th></th>\n",
       "    </tr>\n",
       "  </thead>\n",
       "  <tbody>\n",
       "    <tr>\n",
       "      <th>0971880107</th>\n",
       "      <td>2502</td>\n",
       "      <td>2502</td>\n",
       "    </tr>\n",
       "    <tr>\n",
       "      <th>0316666343</th>\n",
       "      <td>1295</td>\n",
       "      <td>1295</td>\n",
       "    </tr>\n",
       "    <tr>\n",
       "      <th>0385504209</th>\n",
       "      <td>883</td>\n",
       "      <td>883</td>\n",
       "    </tr>\n",
       "    <tr>\n",
       "      <th>0060928336</th>\n",
       "      <td>732</td>\n",
       "      <td>732</td>\n",
       "    </tr>\n",
       "    <tr>\n",
       "      <th>0312195516</th>\n",
       "      <td>723</td>\n",
       "      <td>723</td>\n",
       "    </tr>\n",
       "    <tr>\n",
       "      <th>044023722X</th>\n",
       "      <td>647</td>\n",
       "      <td>647</td>\n",
       "    </tr>\n",
       "    <tr>\n",
       "      <th>0679781587</th>\n",
       "      <td>639</td>\n",
       "      <td>639</td>\n",
       "    </tr>\n",
       "    <tr>\n",
       "      <th>0142001740</th>\n",
       "      <td>615</td>\n",
       "      <td>615</td>\n",
       "    </tr>\n",
       "    <tr>\n",
       "      <th>067976402X</th>\n",
       "      <td>614</td>\n",
       "      <td>614</td>\n",
       "    </tr>\n",
       "    <tr>\n",
       "      <th>0671027360</th>\n",
       "      <td>586</td>\n",
       "      <td>586</td>\n",
       "    </tr>\n",
       "  </tbody>\n",
       "</table>\n",
       "</div>"
      ],
      "text/plain": [
       "            User-ID  Book-Rating\n",
       "ISBN                            \n",
       "0971880107     2502         2502\n",
       "0316666343     1295         1295\n",
       "0385504209      883          883\n",
       "0060928336      732          732\n",
       "0312195516      723          723\n",
       "044023722X      647          647\n",
       "0679781587      639          639\n",
       "0142001740      615          615\n",
       "067976402X      614          614\n",
       "0671027360      586          586"
      ]
     },
     "execution_count": 14,
     "metadata": {},
     "output_type": "execute_result"
    }
   ],
   "source": [
    "book_rating_count.head(10)"
   ]
  },
  {
   "cell_type": "code",
   "execution_count": 15,
   "id": "f5f6c516",
   "metadata": {
    "execution": {
     "iopub.execute_input": "2023-01-22T08:58:18.100504Z",
     "iopub.status.busy": "2023-01-22T08:58:18.100028Z",
     "iopub.status.idle": "2023-01-22T08:58:18.108181Z",
     "shell.execute_reply": "2023-01-22T08:58:18.107017Z"
    },
    "papermill": {
     "duration": 0.026303,
     "end_time": "2023-01-22T08:58:18.111224",
     "exception": false,
     "start_time": "2023-01-22T08:58:18.084921",
     "status": "completed"
    },
    "tags": []
   },
   "outputs": [],
   "source": [
    "#only keep books with more than 50 ratings\n",
    "book_rating_count = book_rating_count[book_rating_count['User-ID'] > 50]"
   ]
  },
  {
   "cell_type": "code",
   "execution_count": 16,
   "id": "a6d7eae2",
   "metadata": {
    "execution": {
     "iopub.execute_input": "2023-01-22T08:58:18.142059Z",
     "iopub.status.busy": "2023-01-22T08:58:18.141547Z",
     "iopub.status.idle": "2023-01-22T08:58:19.276378Z",
     "shell.execute_reply": "2023-01-22T08:58:19.274895Z"
    },
    "papermill": {
     "duration": 1.153509,
     "end_time": "2023-01-22T08:58:19.279615",
     "exception": false,
     "start_time": "2023-01-22T08:58:18.126106",
     "status": "completed"
    },
    "tags": []
   },
   "outputs": [],
   "source": [
    "ratings = ratings.merge(books, on = 'ISBN')"
   ]
  },
  {
   "cell_type": "code",
   "execution_count": 17,
   "id": "3c7fc3e2",
   "metadata": {
    "execution": {
     "iopub.execute_input": "2023-01-22T08:58:19.310103Z",
     "iopub.status.busy": "2023-01-22T08:58:19.309542Z",
     "iopub.status.idle": "2023-01-22T08:58:19.325399Z",
     "shell.execute_reply": "2023-01-22T08:58:19.324008Z"
    },
    "papermill": {
     "duration": 0.034574,
     "end_time": "2023-01-22T08:58:19.328024",
     "exception": false,
     "start_time": "2023-01-22T08:58:19.293450",
     "status": "completed"
    },
    "tags": []
   },
   "outputs": [
    {
     "data": {
      "text/html": [
       "<div>\n",
       "<style scoped>\n",
       "    .dataframe tbody tr th:only-of-type {\n",
       "        vertical-align: middle;\n",
       "    }\n",
       "\n",
       "    .dataframe tbody tr th {\n",
       "        vertical-align: top;\n",
       "    }\n",
       "\n",
       "    .dataframe thead th {\n",
       "        text-align: right;\n",
       "    }\n",
       "</style>\n",
       "<table border=\"1\" class=\"dataframe\">\n",
       "  <thead>\n",
       "    <tr style=\"text-align: right;\">\n",
       "      <th></th>\n",
       "      <th>User-ID</th>\n",
       "      <th>ISBN</th>\n",
       "      <th>Book-Rating</th>\n",
       "      <th>Book-Title</th>\n",
       "      <th>Book-Author</th>\n",
       "      <th>Year-Of-Publication</th>\n",
       "      <th>Publisher</th>\n",
       "    </tr>\n",
       "  </thead>\n",
       "  <tbody>\n",
       "    <tr>\n",
       "      <th>0</th>\n",
       "      <td>276725</td>\n",
       "      <td>034545104X</td>\n",
       "      <td>0</td>\n",
       "      <td>Flesh Tones: A Novel</td>\n",
       "      <td>M. J. Rose</td>\n",
       "      <td>2002</td>\n",
       "      <td>Ballantine Books</td>\n",
       "    </tr>\n",
       "    <tr>\n",
       "      <th>1</th>\n",
       "      <td>2313</td>\n",
       "      <td>034545104X</td>\n",
       "      <td>5</td>\n",
       "      <td>Flesh Tones: A Novel</td>\n",
       "      <td>M. J. Rose</td>\n",
       "      <td>2002</td>\n",
       "      <td>Ballantine Books</td>\n",
       "    </tr>\n",
       "    <tr>\n",
       "      <th>2</th>\n",
       "      <td>6543</td>\n",
       "      <td>034545104X</td>\n",
       "      <td>0</td>\n",
       "      <td>Flesh Tones: A Novel</td>\n",
       "      <td>M. J. Rose</td>\n",
       "      <td>2002</td>\n",
       "      <td>Ballantine Books</td>\n",
       "    </tr>\n",
       "  </tbody>\n",
       "</table>\n",
       "</div>"
      ],
      "text/plain": [
       "   User-ID        ISBN  Book-Rating            Book-Title Book-Author  \\\n",
       "0   276725  034545104X            0  Flesh Tones: A Novel  M. J. Rose   \n",
       "1     2313  034545104X            5  Flesh Tones: A Novel  M. J. Rose   \n",
       "2     6543  034545104X            0  Flesh Tones: A Novel  M. J. Rose   \n",
       "\n",
       "  Year-Of-Publication         Publisher  \n",
       "0                2002  Ballantine Books  \n",
       "1                2002  Ballantine Books  \n",
       "2                2002  Ballantine Books  "
      ]
     },
     "execution_count": 17,
     "metadata": {},
     "output_type": "execute_result"
    }
   ],
   "source": [
    "ratings.head(3)"
   ]
  },
  {
   "cell_type": "code",
   "execution_count": 18,
   "id": "78a79c5a",
   "metadata": {
    "execution": {
     "iopub.execute_input": "2023-01-22T08:58:19.358603Z",
     "iopub.status.busy": "2023-01-22T08:58:19.357640Z",
     "iopub.status.idle": "2023-01-22T08:58:19.365340Z",
     "shell.execute_reply": "2023-01-22T08:58:19.364236Z"
    },
    "papermill": {
     "duration": 0.025547,
     "end_time": "2023-01-22T08:58:19.367729",
     "exception": false,
     "start_time": "2023-01-22T08:58:19.342182",
     "status": "completed"
    },
    "tags": []
   },
   "outputs": [
    {
     "data": {
      "text/plain": [
       "(1031136, 7)"
      ]
     },
     "execution_count": 18,
     "metadata": {},
     "output_type": "execute_result"
    }
   ],
   "source": [
    "ratings.shape"
   ]
  },
  {
   "cell_type": "code",
   "execution_count": 19,
   "id": "4eceee06",
   "metadata": {
    "execution": {
     "iopub.execute_input": "2023-01-22T08:58:19.397776Z",
     "iopub.status.busy": "2023-01-22T08:58:19.397326Z",
     "iopub.status.idle": "2023-01-22T08:58:19.853554Z",
     "shell.execute_reply": "2023-01-22T08:58:19.852077Z"
    },
    "papermill": {
     "duration": 0.475776,
     "end_time": "2023-01-22T08:58:19.857531",
     "exception": false,
     "start_time": "2023-01-22T08:58:19.381755",
     "status": "completed"
    },
    "tags": []
   },
   "outputs": [],
   "source": [
    "ratings = ratings[ratings['User-ID'].isin(user_rating_count.index)]"
   ]
  },
  {
   "cell_type": "code",
   "execution_count": 20,
   "id": "0cc834d5",
   "metadata": {
    "execution": {
     "iopub.execute_input": "2023-01-22T08:58:19.890688Z",
     "iopub.status.busy": "2023-01-22T08:58:19.890207Z",
     "iopub.status.idle": "2023-01-22T08:58:19.897941Z",
     "shell.execute_reply": "2023-01-22T08:58:19.896791Z"
    },
    "papermill": {
     "duration": 0.027376,
     "end_time": "2023-01-22T08:58:19.900459",
     "exception": false,
     "start_time": "2023-01-22T08:58:19.873083",
     "status": "completed"
    },
    "tags": []
   },
   "outputs": [
    {
     "data": {
      "text/plain": [
       "(604854, 7)"
      ]
     },
     "execution_count": 20,
     "metadata": {},
     "output_type": "execute_result"
    }
   ],
   "source": [
    "ratings.shape"
   ]
  },
  {
   "cell_type": "code",
   "execution_count": 21,
   "id": "786c3b70",
   "metadata": {
    "execution": {
     "iopub.execute_input": "2023-01-22T08:58:19.931374Z",
     "iopub.status.busy": "2023-01-22T08:58:19.930876Z",
     "iopub.status.idle": "2023-01-22T08:58:20.037448Z",
     "shell.execute_reply": "2023-01-22T08:58:20.036141Z"
    },
    "papermill": {
     "duration": 0.125625,
     "end_time": "2023-01-22T08:58:20.040664",
     "exception": false,
     "start_time": "2023-01-22T08:58:19.915039",
     "status": "completed"
    },
    "tags": []
   },
   "outputs": [],
   "source": [
    "ratings = ratings[ratings['ISBN'].isin(book_rating_count.index)]"
   ]
  },
  {
   "cell_type": "code",
   "execution_count": 22,
   "id": "d52f26ba",
   "metadata": {
    "execution": {
     "iopub.execute_input": "2023-01-22T08:58:20.070773Z",
     "iopub.status.busy": "2023-01-22T08:58:20.070307Z",
     "iopub.status.idle": "2023-01-22T08:58:20.077724Z",
     "shell.execute_reply": "2023-01-22T08:58:20.076491Z"
    },
    "papermill": {
     "duration": 0.025717,
     "end_time": "2023-01-22T08:58:20.080485",
     "exception": false,
     "start_time": "2023-01-22T08:58:20.054768",
     "status": "completed"
    },
    "tags": []
   },
   "outputs": [
    {
     "data": {
      "text/plain": [
       "(116873, 7)"
      ]
     },
     "execution_count": 22,
     "metadata": {},
     "output_type": "execute_result"
    }
   ],
   "source": [
    "ratings.shape"
   ]
  },
  {
   "cell_type": "code",
   "execution_count": 23,
   "id": "bc84baad",
   "metadata": {
    "execution": {
     "iopub.execute_input": "2023-01-22T08:58:20.112158Z",
     "iopub.status.busy": "2023-01-22T08:58:20.111514Z",
     "iopub.status.idle": "2023-01-22T08:58:20.127158Z",
     "shell.execute_reply": "2023-01-22T08:58:20.125918Z"
    },
    "papermill": {
     "duration": 0.035008,
     "end_time": "2023-01-22T08:58:20.130025",
     "exception": false,
     "start_time": "2023-01-22T08:58:20.095017",
     "status": "completed"
    },
    "tags": []
   },
   "outputs": [
    {
     "data": {
      "text/html": [
       "<div>\n",
       "<style scoped>\n",
       "    .dataframe tbody tr th:only-of-type {\n",
       "        vertical-align: middle;\n",
       "    }\n",
       "\n",
       "    .dataframe tbody tr th {\n",
       "        vertical-align: top;\n",
       "    }\n",
       "\n",
       "    .dataframe thead th {\n",
       "        text-align: right;\n",
       "    }\n",
       "</style>\n",
       "<table border=\"1\" class=\"dataframe\">\n",
       "  <thead>\n",
       "    <tr style=\"text-align: right;\">\n",
       "      <th></th>\n",
       "      <th>User-ID</th>\n",
       "      <th>ISBN</th>\n",
       "      <th>Book-Rating</th>\n",
       "      <th>Book-Title</th>\n",
       "      <th>Book-Author</th>\n",
       "      <th>Year-Of-Publication</th>\n",
       "      <th>Publisher</th>\n",
       "    </tr>\n",
       "  </thead>\n",
       "  <tbody>\n",
       "    <tr>\n",
       "      <th>2</th>\n",
       "      <td>6543</td>\n",
       "      <td>034545104X</td>\n",
       "      <td>0</td>\n",
       "      <td>Flesh Tones: A Novel</td>\n",
       "      <td>M. J. Rose</td>\n",
       "      <td>2002</td>\n",
       "      <td>Ballantine Books</td>\n",
       "    </tr>\n",
       "    <tr>\n",
       "      <th>4</th>\n",
       "      <td>10314</td>\n",
       "      <td>034545104X</td>\n",
       "      <td>9</td>\n",
       "      <td>Flesh Tones: A Novel</td>\n",
       "      <td>M. J. Rose</td>\n",
       "      <td>2002</td>\n",
       "      <td>Ballantine Books</td>\n",
       "    </tr>\n",
       "    <tr>\n",
       "      <th>5</th>\n",
       "      <td>23768</td>\n",
       "      <td>034545104X</td>\n",
       "      <td>0</td>\n",
       "      <td>Flesh Tones: A Novel</td>\n",
       "      <td>M. J. Rose</td>\n",
       "      <td>2002</td>\n",
       "      <td>Ballantine Books</td>\n",
       "    </tr>\n",
       "    <tr>\n",
       "      <th>7</th>\n",
       "      <td>28523</td>\n",
       "      <td>034545104X</td>\n",
       "      <td>0</td>\n",
       "      <td>Flesh Tones: A Novel</td>\n",
       "      <td>M. J. Rose</td>\n",
       "      <td>2002</td>\n",
       "      <td>Ballantine Books</td>\n",
       "    </tr>\n",
       "    <tr>\n",
       "      <th>14</th>\n",
       "      <td>77480</td>\n",
       "      <td>034545104X</td>\n",
       "      <td>8</td>\n",
       "      <td>Flesh Tones: A Novel</td>\n",
       "      <td>M. J. Rose</td>\n",
       "      <td>2002</td>\n",
       "      <td>Ballantine Books</td>\n",
       "    </tr>\n",
       "  </tbody>\n",
       "</table>\n",
       "</div>"
      ],
      "text/plain": [
       "    User-ID        ISBN  Book-Rating            Book-Title Book-Author  \\\n",
       "2      6543  034545104X            0  Flesh Tones: A Novel  M. J. Rose   \n",
       "4     10314  034545104X            9  Flesh Tones: A Novel  M. J. Rose   \n",
       "5     23768  034545104X            0  Flesh Tones: A Novel  M. J. Rose   \n",
       "7     28523  034545104X            0  Flesh Tones: A Novel  M. J. Rose   \n",
       "14    77480  034545104X            8  Flesh Tones: A Novel  M. J. Rose   \n",
       "\n",
       "   Year-Of-Publication         Publisher  \n",
       "2                 2002  Ballantine Books  \n",
       "4                 2002  Ballantine Books  \n",
       "5                 2002  Ballantine Books  \n",
       "7                 2002  Ballantine Books  \n",
       "14                2002  Ballantine Books  "
      ]
     },
     "execution_count": 23,
     "metadata": {},
     "output_type": "execute_result"
    }
   ],
   "source": [
    "ratings.head()"
   ]
  },
  {
   "cell_type": "code",
   "execution_count": 24,
   "id": "e7819dd1",
   "metadata": {
    "execution": {
     "iopub.execute_input": "2023-01-22T08:58:20.163112Z",
     "iopub.status.busy": "2023-01-22T08:58:20.162621Z",
     "iopub.status.idle": "2023-01-22T08:58:20.374417Z",
     "shell.execute_reply": "2023-01-22T08:58:20.372833Z"
    },
    "papermill": {
     "duration": 0.2315,
     "end_time": "2023-01-22T08:58:20.377241",
     "exception": false,
     "start_time": "2023-01-22T08:58:20.145741",
     "status": "completed"
    },
    "tags": []
   },
   "outputs": [],
   "source": [
    "piv_table = ratings.pivot_table(columns = \"User-ID\", index = \"ISBN\", values = \"Book-Rating\")"
   ]
  },
  {
   "cell_type": "code",
   "execution_count": 25,
   "id": "9ef1a6b9",
   "metadata": {
    "execution": {
     "iopub.execute_input": "2023-01-22T08:58:20.409038Z",
     "iopub.status.busy": "2023-01-22T08:58:20.408468Z",
     "iopub.status.idle": "2023-01-22T08:58:20.416700Z",
     "shell.execute_reply": "2023-01-22T08:58:20.415536Z"
    },
    "papermill": {
     "duration": 0.027375,
     "end_time": "2023-01-22T08:58:20.419393",
     "exception": false,
     "start_time": "2023-01-22T08:58:20.392018",
     "status": "completed"
    },
    "tags": []
   },
   "outputs": [
    {
     "data": {
      "text/plain": [
       "(2101, 1793)"
      ]
     },
     "execution_count": 25,
     "metadata": {},
     "output_type": "execute_result"
    }
   ],
   "source": [
    "piv_table.shape"
   ]
  },
  {
   "cell_type": "markdown",
   "id": "75cb9cad",
   "metadata": {
    "papermill": {
     "duration": 0.014468,
     "end_time": "2023-01-22T08:58:20.449684",
     "exception": false,
     "start_time": "2023-01-22T08:58:20.435216",
     "status": "completed"
    },
    "tags": []
   },
   "source": [
    "So we have 2101 books and 1792 users.\n"
   ]
  },
  {
   "cell_type": "code",
   "execution_count": 26,
   "id": "4f0ffdc2",
   "metadata": {
    "execution": {
     "iopub.execute_input": "2023-01-22T08:58:20.482684Z",
     "iopub.status.busy": "2023-01-22T08:58:20.481243Z",
     "iopub.status.idle": "2023-01-22T08:58:20.516705Z",
     "shell.execute_reply": "2023-01-22T08:58:20.515383Z"
    },
    "papermill": {
     "duration": 0.054589,
     "end_time": "2023-01-22T08:58:20.519644",
     "exception": false,
     "start_time": "2023-01-22T08:58:20.465055",
     "status": "completed"
    },
    "tags": []
   },
   "outputs": [
    {
     "data": {
      "text/html": [
       "<div>\n",
       "<style scoped>\n",
       "    .dataframe tbody tr th:only-of-type {\n",
       "        vertical-align: middle;\n",
       "    }\n",
       "\n",
       "    .dataframe tbody tr th {\n",
       "        vertical-align: top;\n",
       "    }\n",
       "\n",
       "    .dataframe thead th {\n",
       "        text-align: right;\n",
       "    }\n",
       "</style>\n",
       "<table border=\"1\" class=\"dataframe\">\n",
       "  <thead>\n",
       "    <tr style=\"text-align: right;\">\n",
       "      <th>User-ID</th>\n",
       "      <th>254</th>\n",
       "      <th>507</th>\n",
       "      <th>882</th>\n",
       "      <th>1424</th>\n",
       "      <th>1435</th>\n",
       "      <th>1733</th>\n",
       "      <th>1903</th>\n",
       "      <th>2033</th>\n",
       "      <th>2110</th>\n",
       "      <th>2276</th>\n",
       "      <th>...</th>\n",
       "      <th>16161</th>\n",
       "      <th>16413</th>\n",
       "      <th>16488</th>\n",
       "      <th>16601</th>\n",
       "      <th>16634</th>\n",
       "      <th>16721</th>\n",
       "      <th>16795</th>\n",
       "      <th>16916</th>\n",
       "      <th>16943</th>\n",
       "      <th>16966</th>\n",
       "    </tr>\n",
       "    <tr>\n",
       "      <th>ISBN</th>\n",
       "      <th></th>\n",
       "      <th></th>\n",
       "      <th></th>\n",
       "      <th></th>\n",
       "      <th></th>\n",
       "      <th></th>\n",
       "      <th></th>\n",
       "      <th></th>\n",
       "      <th></th>\n",
       "      <th></th>\n",
       "      <th></th>\n",
       "      <th></th>\n",
       "      <th></th>\n",
       "      <th></th>\n",
       "      <th></th>\n",
       "      <th></th>\n",
       "      <th></th>\n",
       "      <th></th>\n",
       "      <th></th>\n",
       "      <th></th>\n",
       "      <th></th>\n",
       "    </tr>\n",
       "  </thead>\n",
       "  <tbody>\n",
       "    <tr>\n",
       "      <th>000649840X</th>\n",
       "      <td>NaN</td>\n",
       "      <td>NaN</td>\n",
       "      <td>NaN</td>\n",
       "      <td>NaN</td>\n",
       "      <td>NaN</td>\n",
       "      <td>NaN</td>\n",
       "      <td>NaN</td>\n",
       "      <td>NaN</td>\n",
       "      <td>NaN</td>\n",
       "      <td>NaN</td>\n",
       "      <td>...</td>\n",
       "      <td>NaN</td>\n",
       "      <td>NaN</td>\n",
       "      <td>NaN</td>\n",
       "      <td>NaN</td>\n",
       "      <td>NaN</td>\n",
       "      <td>NaN</td>\n",
       "      <td>NaN</td>\n",
       "      <td>NaN</td>\n",
       "      <td>NaN</td>\n",
       "      <td>NaN</td>\n",
       "    </tr>\n",
       "    <tr>\n",
       "      <th>002026478X</th>\n",
       "      <td>NaN</td>\n",
       "      <td>NaN</td>\n",
       "      <td>NaN</td>\n",
       "      <td>NaN</td>\n",
       "      <td>NaN</td>\n",
       "      <td>NaN</td>\n",
       "      <td>NaN</td>\n",
       "      <td>NaN</td>\n",
       "      <td>NaN</td>\n",
       "      <td>NaN</td>\n",
       "      <td>...</td>\n",
       "      <td>NaN</td>\n",
       "      <td>NaN</td>\n",
       "      <td>0.0</td>\n",
       "      <td>NaN</td>\n",
       "      <td>NaN</td>\n",
       "      <td>NaN</td>\n",
       "      <td>NaN</td>\n",
       "      <td>NaN</td>\n",
       "      <td>NaN</td>\n",
       "      <td>NaN</td>\n",
       "    </tr>\n",
       "    <tr>\n",
       "      <th>0020442203</th>\n",
       "      <td>NaN</td>\n",
       "      <td>NaN</td>\n",
       "      <td>NaN</td>\n",
       "      <td>NaN</td>\n",
       "      <td>NaN</td>\n",
       "      <td>NaN</td>\n",
       "      <td>NaN</td>\n",
       "      <td>NaN</td>\n",
       "      <td>NaN</td>\n",
       "      <td>NaN</td>\n",
       "      <td>...</td>\n",
       "      <td>NaN</td>\n",
       "      <td>NaN</td>\n",
       "      <td>NaN</td>\n",
       "      <td>NaN</td>\n",
       "      <td>9.0</td>\n",
       "      <td>NaN</td>\n",
       "      <td>NaN</td>\n",
       "      <td>NaN</td>\n",
       "      <td>NaN</td>\n",
       "      <td>NaN</td>\n",
       "    </tr>\n",
       "    <tr>\n",
       "      <th>002542730X</th>\n",
       "      <td>NaN</td>\n",
       "      <td>NaN</td>\n",
       "      <td>NaN</td>\n",
       "      <td>NaN</td>\n",
       "      <td>NaN</td>\n",
       "      <td>NaN</td>\n",
       "      <td>NaN</td>\n",
       "      <td>NaN</td>\n",
       "      <td>NaN</td>\n",
       "      <td>NaN</td>\n",
       "      <td>...</td>\n",
       "      <td>NaN</td>\n",
       "      <td>NaN</td>\n",
       "      <td>NaN</td>\n",
       "      <td>NaN</td>\n",
       "      <td>NaN</td>\n",
       "      <td>NaN</td>\n",
       "      <td>0.0</td>\n",
       "      <td>NaN</td>\n",
       "      <td>NaN</td>\n",
       "      <td>NaN</td>\n",
       "    </tr>\n",
       "    <tr>\n",
       "      <th>0028604199</th>\n",
       "      <td>NaN</td>\n",
       "      <td>NaN</td>\n",
       "      <td>NaN</td>\n",
       "      <td>NaN</td>\n",
       "      <td>NaN</td>\n",
       "      <td>NaN</td>\n",
       "      <td>NaN</td>\n",
       "      <td>NaN</td>\n",
       "      <td>NaN</td>\n",
       "      <td>NaN</td>\n",
       "      <td>...</td>\n",
       "      <td>NaN</td>\n",
       "      <td>NaN</td>\n",
       "      <td>NaN</td>\n",
       "      <td>NaN</td>\n",
       "      <td>NaN</td>\n",
       "      <td>NaN</td>\n",
       "      <td>NaN</td>\n",
       "      <td>NaN</td>\n",
       "      <td>NaN</td>\n",
       "      <td>NaN</td>\n",
       "    </tr>\n",
       "    <tr>\n",
       "      <th>...</th>\n",
       "      <td>...</td>\n",
       "      <td>...</td>\n",
       "      <td>...</td>\n",
       "      <td>...</td>\n",
       "      <td>...</td>\n",
       "      <td>...</td>\n",
       "      <td>...</td>\n",
       "      <td>...</td>\n",
       "      <td>...</td>\n",
       "      <td>...</td>\n",
       "      <td>...</td>\n",
       "      <td>...</td>\n",
       "      <td>...</td>\n",
       "      <td>...</td>\n",
       "      <td>...</td>\n",
       "      <td>...</td>\n",
       "      <td>...</td>\n",
       "      <td>...</td>\n",
       "      <td>...</td>\n",
       "      <td>...</td>\n",
       "      <td>...</td>\n",
       "    </tr>\n",
       "    <tr>\n",
       "      <th>0061097659</th>\n",
       "      <td>NaN</td>\n",
       "      <td>NaN</td>\n",
       "      <td>NaN</td>\n",
       "      <td>NaN</td>\n",
       "      <td>NaN</td>\n",
       "      <td>NaN</td>\n",
       "      <td>NaN</td>\n",
       "      <td>NaN</td>\n",
       "      <td>NaN</td>\n",
       "      <td>NaN</td>\n",
       "      <td>...</td>\n",
       "      <td>NaN</td>\n",
       "      <td>NaN</td>\n",
       "      <td>NaN</td>\n",
       "      <td>NaN</td>\n",
       "      <td>NaN</td>\n",
       "      <td>NaN</td>\n",
       "      <td>NaN</td>\n",
       "      <td>NaN</td>\n",
       "      <td>NaN</td>\n",
       "      <td>NaN</td>\n",
       "    </tr>\n",
       "    <tr>\n",
       "      <th>0061097853</th>\n",
       "      <td>NaN</td>\n",
       "      <td>NaN</td>\n",
       "      <td>NaN</td>\n",
       "      <td>NaN</td>\n",
       "      <td>NaN</td>\n",
       "      <td>NaN</td>\n",
       "      <td>NaN</td>\n",
       "      <td>NaN</td>\n",
       "      <td>NaN</td>\n",
       "      <td>NaN</td>\n",
       "      <td>...</td>\n",
       "      <td>NaN</td>\n",
       "      <td>NaN</td>\n",
       "      <td>NaN</td>\n",
       "      <td>NaN</td>\n",
       "      <td>NaN</td>\n",
       "      <td>NaN</td>\n",
       "      <td>NaN</td>\n",
       "      <td>NaN</td>\n",
       "      <td>NaN</td>\n",
       "      <td>NaN</td>\n",
       "    </tr>\n",
       "    <tr>\n",
       "      <th>0061097861</th>\n",
       "      <td>NaN</td>\n",
       "      <td>NaN</td>\n",
       "      <td>NaN</td>\n",
       "      <td>NaN</td>\n",
       "      <td>NaN</td>\n",
       "      <td>NaN</td>\n",
       "      <td>NaN</td>\n",
       "      <td>NaN</td>\n",
       "      <td>NaN</td>\n",
       "      <td>NaN</td>\n",
       "      <td>...</td>\n",
       "      <td>NaN</td>\n",
       "      <td>NaN</td>\n",
       "      <td>NaN</td>\n",
       "      <td>NaN</td>\n",
       "      <td>NaN</td>\n",
       "      <td>NaN</td>\n",
       "      <td>NaN</td>\n",
       "      <td>NaN</td>\n",
       "      <td>NaN</td>\n",
       "      <td>NaN</td>\n",
       "    </tr>\n",
       "    <tr>\n",
       "      <th>0061098035</th>\n",
       "      <td>NaN</td>\n",
       "      <td>NaN</td>\n",
       "      <td>NaN</td>\n",
       "      <td>NaN</td>\n",
       "      <td>NaN</td>\n",
       "      <td>NaN</td>\n",
       "      <td>NaN</td>\n",
       "      <td>NaN</td>\n",
       "      <td>NaN</td>\n",
       "      <td>NaN</td>\n",
       "      <td>...</td>\n",
       "      <td>NaN</td>\n",
       "      <td>NaN</td>\n",
       "      <td>NaN</td>\n",
       "      <td>NaN</td>\n",
       "      <td>NaN</td>\n",
       "      <td>NaN</td>\n",
       "      <td>0.0</td>\n",
       "      <td>NaN</td>\n",
       "      <td>NaN</td>\n",
       "      <td>NaN</td>\n",
       "    </tr>\n",
       "    <tr>\n",
       "      <th>0061098361</th>\n",
       "      <td>NaN</td>\n",
       "      <td>NaN</td>\n",
       "      <td>NaN</td>\n",
       "      <td>NaN</td>\n",
       "      <td>NaN</td>\n",
       "      <td>NaN</td>\n",
       "      <td>NaN</td>\n",
       "      <td>NaN</td>\n",
       "      <td>NaN</td>\n",
       "      <td>NaN</td>\n",
       "      <td>...</td>\n",
       "      <td>NaN</td>\n",
       "      <td>NaN</td>\n",
       "      <td>NaN</td>\n",
       "      <td>NaN</td>\n",
       "      <td>NaN</td>\n",
       "      <td>NaN</td>\n",
       "      <td>0.0</td>\n",
       "      <td>NaN</td>\n",
       "      <td>NaN</td>\n",
       "      <td>NaN</td>\n",
       "    </tr>\n",
       "  </tbody>\n",
       "</table>\n",
       "<p>100 rows × 100 columns</p>\n",
       "</div>"
      ],
      "text/plain": [
       "User-ID     254    507    882    1424   1435   1733   1903   2033   2110   \\\n",
       "ISBN                                                                        \n",
       "000649840X    NaN    NaN    NaN    NaN    NaN    NaN    NaN    NaN    NaN   \n",
       "002026478X    NaN    NaN    NaN    NaN    NaN    NaN    NaN    NaN    NaN   \n",
       "0020442203    NaN    NaN    NaN    NaN    NaN    NaN    NaN    NaN    NaN   \n",
       "002542730X    NaN    NaN    NaN    NaN    NaN    NaN    NaN    NaN    NaN   \n",
       "0028604199    NaN    NaN    NaN    NaN    NaN    NaN    NaN    NaN    NaN   \n",
       "...           ...    ...    ...    ...    ...    ...    ...    ...    ...   \n",
       "0061097659    NaN    NaN    NaN    NaN    NaN    NaN    NaN    NaN    NaN   \n",
       "0061097853    NaN    NaN    NaN    NaN    NaN    NaN    NaN    NaN    NaN   \n",
       "0061097861    NaN    NaN    NaN    NaN    NaN    NaN    NaN    NaN    NaN   \n",
       "0061098035    NaN    NaN    NaN    NaN    NaN    NaN    NaN    NaN    NaN   \n",
       "0061098361    NaN    NaN    NaN    NaN    NaN    NaN    NaN    NaN    NaN   \n",
       "\n",
       "User-ID     2276   ...  16161  16413  16488  16601  16634  16721  16795  \\\n",
       "ISBN               ...                                                    \n",
       "000649840X    NaN  ...    NaN    NaN    NaN    NaN    NaN    NaN    NaN   \n",
       "002026478X    NaN  ...    NaN    NaN    0.0    NaN    NaN    NaN    NaN   \n",
       "0020442203    NaN  ...    NaN    NaN    NaN    NaN    9.0    NaN    NaN   \n",
       "002542730X    NaN  ...    NaN    NaN    NaN    NaN    NaN    NaN    0.0   \n",
       "0028604199    NaN  ...    NaN    NaN    NaN    NaN    NaN    NaN    NaN   \n",
       "...           ...  ...    ...    ...    ...    ...    ...    ...    ...   \n",
       "0061097659    NaN  ...    NaN    NaN    NaN    NaN    NaN    NaN    NaN   \n",
       "0061097853    NaN  ...    NaN    NaN    NaN    NaN    NaN    NaN    NaN   \n",
       "0061097861    NaN  ...    NaN    NaN    NaN    NaN    NaN    NaN    NaN   \n",
       "0061098035    NaN  ...    NaN    NaN    NaN    NaN    NaN    NaN    0.0   \n",
       "0061098361    NaN  ...    NaN    NaN    NaN    NaN    NaN    NaN    0.0   \n",
       "\n",
       "User-ID     16916  16943  16966  \n",
       "ISBN                             \n",
       "000649840X    NaN    NaN    NaN  \n",
       "002026478X    NaN    NaN    NaN  \n",
       "0020442203    NaN    NaN    NaN  \n",
       "002542730X    NaN    NaN    NaN  \n",
       "0028604199    NaN    NaN    NaN  \n",
       "...           ...    ...    ...  \n",
       "0061097659    NaN    NaN    NaN  \n",
       "0061097853    NaN    NaN    NaN  \n",
       "0061097861    NaN    NaN    NaN  \n",
       "0061098035    NaN    NaN    NaN  \n",
       "0061098361    NaN    NaN    NaN  \n",
       "\n",
       "[100 rows x 100 columns]"
      ]
     },
     "execution_count": 26,
     "metadata": {},
     "output_type": "execute_result"
    }
   ],
   "source": [
    "piv_table.iloc[:100, :100]"
   ]
  },
  {
   "cell_type": "markdown",
   "id": "38f9b5ee",
   "metadata": {
    "papermill": {
     "duration": 0.014822,
     "end_time": "2023-01-22T08:58:20.549971",
     "exception": false,
     "start_time": "2023-01-22T08:58:20.535149",
     "status": "completed"
    },
    "tags": []
   },
   "source": [
    "As you can see it is a very sparse table with most values as NaN. We will replace Nan to 0 to logically define that if  user A has given a rating of 0 we will not recommend that to similar users. This is true if user A has not read the book as well."
   ]
  },
  {
   "cell_type": "code",
   "execution_count": 27,
   "id": "796b54ff",
   "metadata": {
    "execution": {
     "iopub.execute_input": "2023-01-22T08:58:20.582214Z",
     "iopub.status.busy": "2023-01-22T08:58:20.581742Z",
     "iopub.status.idle": "2023-01-22T08:58:20.602246Z",
     "shell.execute_reply": "2023-01-22T08:58:20.601033Z"
    },
    "papermill": {
     "duration": 0.04007,
     "end_time": "2023-01-22T08:58:20.605119",
     "exception": false,
     "start_time": "2023-01-22T08:58:20.565049",
     "status": "completed"
    },
    "tags": []
   },
   "outputs": [],
   "source": [
    "piv_table = piv_table.fillna(0)"
   ]
  },
  {
   "cell_type": "code",
   "execution_count": 28,
   "id": "28d37204",
   "metadata": {
    "execution": {
     "iopub.execute_input": "2023-01-22T08:58:20.638139Z",
     "iopub.status.busy": "2023-01-22T08:58:20.637155Z",
     "iopub.status.idle": "2023-01-22T08:58:20.659926Z",
     "shell.execute_reply": "2023-01-22T08:58:20.658757Z"
    },
    "papermill": {
     "duration": 0.04225,
     "end_time": "2023-01-22T08:58:20.662524",
     "exception": false,
     "start_time": "2023-01-22T08:58:20.620274",
     "status": "completed"
    },
    "tags": []
   },
   "outputs": [
    {
     "data": {
      "text/plain": [
       "0"
      ]
     },
     "execution_count": 28,
     "metadata": {},
     "output_type": "execute_result"
    }
   ],
   "source": [
    "pd.DataFrame(piv_table).isnull().sum().sum()"
   ]
  },
  {
   "cell_type": "code",
   "execution_count": 29,
   "id": "d1b1177f",
   "metadata": {
    "execution": {
     "iopub.execute_input": "2023-01-22T08:58:20.694738Z",
     "iopub.status.busy": "2023-01-22T08:58:20.694249Z",
     "iopub.status.idle": "2023-01-22T08:58:21.123123Z",
     "shell.execute_reply": "2023-01-22T08:58:21.121701Z"
    },
    "papermill": {
     "duration": 0.448103,
     "end_time": "2023-01-22T08:58:21.125863",
     "exception": false,
     "start_time": "2023-01-22T08:58:20.677760",
     "status": "completed"
    },
    "tags": []
   },
   "outputs": [
    {
     "data": {
      "text/plain": [
       "NearestNeighbors(algorithm='brute')"
      ]
     },
     "execution_count": 29,
     "metadata": {},
     "output_type": "execute_result"
    }
   ],
   "source": [
    "from sklearn.neighbors import NearestNeighbors\n",
    "model = NearestNeighbors(algorithm='brute')\n",
    "model.fit(piv_table)"
   ]
  },
  {
   "cell_type": "markdown",
   "id": "48243683",
   "metadata": {
    "papermill": {
     "duration": 0.014936,
     "end_time": "2023-01-22T08:58:21.156076",
     "exception": false,
     "start_time": "2023-01-22T08:58:21.141140",
     "status": "completed"
    },
    "tags": []
   },
   "source": [
    "Let's list a few books at random and see which one wwe know. "
   ]
  },
  {
   "cell_type": "code",
   "execution_count": 30,
   "id": "af469fcc",
   "metadata": {
    "execution": {
     "iopub.execute_input": "2023-01-22T08:58:21.189737Z",
     "iopub.status.busy": "2023-01-22T08:58:21.189230Z",
     "iopub.status.idle": "2023-01-22T08:58:21.214440Z",
     "shell.execute_reply": "2023-01-22T08:58:21.213142Z"
    },
    "papermill": {
     "duration": 0.044889,
     "end_time": "2023-01-22T08:58:21.216861",
     "exception": false,
     "start_time": "2023-01-22T08:58:21.171972",
     "status": "completed"
    },
    "tags": []
   },
   "outputs": [
    {
     "data": {
      "text/html": [
       "<div>\n",
       "<style scoped>\n",
       "    .dataframe tbody tr th:only-of-type {\n",
       "        vertical-align: middle;\n",
       "    }\n",
       "\n",
       "    .dataframe tbody tr th {\n",
       "        vertical-align: top;\n",
       "    }\n",
       "\n",
       "    .dataframe thead th {\n",
       "        text-align: right;\n",
       "    }\n",
       "</style>\n",
       "<table border=\"1\" class=\"dataframe\">\n",
       "  <thead>\n",
       "    <tr style=\"text-align: right;\">\n",
       "      <th></th>\n",
       "      <th>User-ID</th>\n",
       "      <th>ISBN</th>\n",
       "      <th>Book-Rating</th>\n",
       "      <th>Book-Title</th>\n",
       "      <th>Book-Author</th>\n",
       "      <th>Year-Of-Publication</th>\n",
       "      <th>Publisher</th>\n",
       "    </tr>\n",
       "  </thead>\n",
       "  <tbody>\n",
       "    <tr>\n",
       "      <th>329296</th>\n",
       "      <td>216724</td>\n",
       "      <td>0821769278</td>\n",
       "      <td>8</td>\n",
       "      <td>Plain Jane</td>\n",
       "      <td>Fern Michaels</td>\n",
       "      <td>2002</td>\n",
       "      <td>Zebra Books</td>\n",
       "    </tr>\n",
       "    <tr>\n",
       "      <th>58467</th>\n",
       "      <td>251844</td>\n",
       "      <td>0452284449</td>\n",
       "      <td>8</td>\n",
       "      <td>The Virgin Blue</td>\n",
       "      <td>Tracy Chevalier</td>\n",
       "      <td>2003</td>\n",
       "      <td>Plume Books</td>\n",
       "    </tr>\n",
       "    <tr>\n",
       "      <th>212150</th>\n",
       "      <td>76942</td>\n",
       "      <td>080411868X</td>\n",
       "      <td>6</td>\n",
       "      <td>Welcome to the World, Baby Girl!</td>\n",
       "      <td>Fannie Flagg</td>\n",
       "      <td>1999</td>\n",
       "      <td>Ballantine Books</td>\n",
       "    </tr>\n",
       "    <tr>\n",
       "      <th>111849</th>\n",
       "      <td>243077</td>\n",
       "      <td>0446605239</td>\n",
       "      <td>0</td>\n",
       "      <td>The Notebook</td>\n",
       "      <td>Nicholas Sparks</td>\n",
       "      <td>1998</td>\n",
       "      <td>Warner Books</td>\n",
       "    </tr>\n",
       "    <tr>\n",
       "      <th>427079</th>\n",
       "      <td>115003</td>\n",
       "      <td>0804102988</td>\n",
       "      <td>9</td>\n",
       "      <td>Sarum: The Novel of England</td>\n",
       "      <td>Edward Rutherford</td>\n",
       "      <td>1992</td>\n",
       "      <td>Ivy Books</td>\n",
       "    </tr>\n",
       "    <tr>\n",
       "      <th>...</th>\n",
       "      <td>...</td>\n",
       "      <td>...</td>\n",
       "      <td>...</td>\n",
       "      <td>...</td>\n",
       "      <td>...</td>\n",
       "      <td>...</td>\n",
       "      <td>...</td>\n",
       "    </tr>\n",
       "    <tr>\n",
       "      <th>121919</th>\n",
       "      <td>124942</td>\n",
       "      <td>0425180964</td>\n",
       "      <td>0</td>\n",
       "      <td>The Bear and the Dragon (Jack Ryan Novels)</td>\n",
       "      <td>Tom Clancy</td>\n",
       "      <td>2001</td>\n",
       "      <td>Berkley Publishing Group</td>\n",
       "    </tr>\n",
       "    <tr>\n",
       "      <th>225388</th>\n",
       "      <td>100459</td>\n",
       "      <td>037570504X</td>\n",
       "      <td>8</td>\n",
       "      <td>Breath, Eyes, Memory</td>\n",
       "      <td>Edwidge Danticat</td>\n",
       "      <td>1998</td>\n",
       "      <td>Vintage Books USA</td>\n",
       "    </tr>\n",
       "    <tr>\n",
       "      <th>204999</th>\n",
       "      <td>10314</td>\n",
       "      <td>1573225789</td>\n",
       "      <td>8</td>\n",
       "      <td>The Color of Water: A Black Man's Tribute to H...</td>\n",
       "      <td>James McBride</td>\n",
       "      <td>1997</td>\n",
       "      <td>Riverhead Books</td>\n",
       "    </tr>\n",
       "    <tr>\n",
       "      <th>442023</th>\n",
       "      <td>35050</td>\n",
       "      <td>0515120871</td>\n",
       "      <td>0</td>\n",
       "      <td>Finding the Dream</td>\n",
       "      <td>Nora Roberts</td>\n",
       "      <td>1997</td>\n",
       "      <td>Jove Books</td>\n",
       "    </tr>\n",
       "    <tr>\n",
       "      <th>196964</th>\n",
       "      <td>100578</td>\n",
       "      <td>0618002227</td>\n",
       "      <td>0</td>\n",
       "      <td>The Fellowship of the Ring (The Lord of the Ri...</td>\n",
       "      <td>J. R. R. Tolkien</td>\n",
       "      <td>1999</td>\n",
       "      <td>Houghton Mifflin Company</td>\n",
       "    </tr>\n",
       "  </tbody>\n",
       "</table>\n",
       "<p>117 rows × 7 columns</p>\n",
       "</div>"
      ],
      "text/plain": [
       "        User-ID        ISBN  Book-Rating  \\\n",
       "329296   216724  0821769278            8   \n",
       "58467    251844  0452284449            8   \n",
       "212150    76942  080411868X            6   \n",
       "111849   243077  0446605239            0   \n",
       "427079   115003  0804102988            9   \n",
       "...         ...         ...          ...   \n",
       "121919   124942  0425180964            0   \n",
       "225388   100459  037570504X            8   \n",
       "204999    10314  1573225789            8   \n",
       "442023    35050  0515120871            0   \n",
       "196964   100578  0618002227            0   \n",
       "\n",
       "                                               Book-Title        Book-Author  \\\n",
       "329296                                         Plain Jane      Fern Michaels   \n",
       "58467                                     The Virgin Blue    Tracy Chevalier   \n",
       "212150                   Welcome to the World, Baby Girl!       Fannie Flagg   \n",
       "111849                                       The Notebook    Nicholas Sparks   \n",
       "427079                        Sarum: The Novel of England  Edward Rutherford   \n",
       "...                                                   ...                ...   \n",
       "121919         The Bear and the Dragon (Jack Ryan Novels)         Tom Clancy   \n",
       "225388                               Breath, Eyes, Memory   Edwidge Danticat   \n",
       "204999  The Color of Water: A Black Man's Tribute to H...      James McBride   \n",
       "442023                                  Finding the Dream       Nora Roberts   \n",
       "196964  The Fellowship of the Ring (The Lord of the Ri...   J. R. R. Tolkien   \n",
       "\n",
       "       Year-Of-Publication                 Publisher  \n",
       "329296                2002               Zebra Books  \n",
       "58467                 2003               Plume Books  \n",
       "212150                1999          Ballantine Books  \n",
       "111849                1998              Warner Books  \n",
       "427079                1992                 Ivy Books  \n",
       "...                    ...                       ...  \n",
       "121919                2001  Berkley Publishing Group  \n",
       "225388                1998         Vintage Books USA  \n",
       "204999                1997           Riverhead Books  \n",
       "442023                1997                Jove Books  \n",
       "196964                1999  Houghton Mifflin Company  \n",
       "\n",
       "[117 rows x 7 columns]"
      ]
     },
     "execution_count": 30,
     "metadata": {},
     "output_type": "execute_result"
    }
   ],
   "source": [
    "ratings.sample(frac = 0.001)"
   ]
  },
  {
   "cell_type": "markdown",
   "id": "7ad481ad",
   "metadata": {
    "papermill": {
     "duration": 0.01509,
     "end_time": "2023-01-22T08:58:21.247600",
     "exception": false,
     "start_time": "2023-01-22T08:58:21.232510",
     "status": "completed"
    },
    "tags": []
   },
   "source": []
  },
  {
   "cell_type": "markdown",
   "id": "fed2fe36",
   "metadata": {
    "papermill": {
     "duration": 0.01551,
     "end_time": "2023-01-22T08:58:21.278736",
     "exception": false,
     "start_time": "2023-01-22T08:58:21.263226",
     "status": "completed"
    },
    "tags": []
   },
   "source": [
    "I had to sample multiple times to get a book that I have read. 'The Fellowship of the Ring' with ISBN 0618002227 at index 196979"
   ]
  },
  {
   "cell_type": "markdown",
   "id": "a0adcf1e",
   "metadata": {
    "papermill": {
     "duration": 0.015018,
     "end_time": "2023-01-22T08:58:21.309489",
     "exception": false,
     "start_time": "2023-01-22T08:58:21.294471",
     "status": "completed"
    },
    "tags": []
   },
   "source": []
  },
  {
   "cell_type": "code",
   "execution_count": 31,
   "id": "4036a4bc",
   "metadata": {
    "execution": {
     "iopub.execute_input": "2023-01-22T08:58:21.342764Z",
     "iopub.status.busy": "2023-01-22T08:58:21.342288Z",
     "iopub.status.idle": "2023-01-22T08:58:21.371579Z",
     "shell.execute_reply": "2023-01-22T08:58:21.370265Z"
    },
    "papermill": {
     "duration": 0.048858,
     "end_time": "2023-01-22T08:58:21.374002",
     "exception": false,
     "start_time": "2023-01-22T08:58:21.325144",
     "status": "completed"
    },
    "tags": []
   },
   "outputs": [
    {
     "data": {
      "text/html": [
       "<div>\n",
       "<style scoped>\n",
       "    .dataframe tbody tr th:only-of-type {\n",
       "        vertical-align: middle;\n",
       "    }\n",
       "\n",
       "    .dataframe tbody tr th {\n",
       "        vertical-align: top;\n",
       "    }\n",
       "\n",
       "    .dataframe thead th {\n",
       "        text-align: right;\n",
       "    }\n",
       "</style>\n",
       "<table border=\"1\" class=\"dataframe\">\n",
       "  <thead>\n",
       "    <tr style=\"text-align: right;\">\n",
       "      <th>User-ID</th>\n",
       "      <th>254</th>\n",
       "      <th>507</th>\n",
       "      <th>882</th>\n",
       "      <th>1424</th>\n",
       "      <th>1435</th>\n",
       "      <th>1733</th>\n",
       "      <th>1903</th>\n",
       "      <th>2033</th>\n",
       "      <th>2110</th>\n",
       "      <th>2276</th>\n",
       "      <th>...</th>\n",
       "      <th>276018</th>\n",
       "      <th>276463</th>\n",
       "      <th>276680</th>\n",
       "      <th>276925</th>\n",
       "      <th>277427</th>\n",
       "      <th>277478</th>\n",
       "      <th>277639</th>\n",
       "      <th>278137</th>\n",
       "      <th>278188</th>\n",
       "      <th>278418</th>\n",
       "    </tr>\n",
       "    <tr>\n",
       "      <th>ISBN</th>\n",
       "      <th></th>\n",
       "      <th></th>\n",
       "      <th></th>\n",
       "      <th></th>\n",
       "      <th></th>\n",
       "      <th></th>\n",
       "      <th></th>\n",
       "      <th></th>\n",
       "      <th></th>\n",
       "      <th></th>\n",
       "      <th></th>\n",
       "      <th></th>\n",
       "      <th></th>\n",
       "      <th></th>\n",
       "      <th></th>\n",
       "      <th></th>\n",
       "      <th></th>\n",
       "      <th></th>\n",
       "      <th></th>\n",
       "      <th></th>\n",
       "      <th></th>\n",
       "    </tr>\n",
       "  </thead>\n",
       "  <tbody>\n",
       "    <tr>\n",
       "      <th>0618002227</th>\n",
       "      <td>8.0</td>\n",
       "      <td>0.0</td>\n",
       "      <td>0.0</td>\n",
       "      <td>0.0</td>\n",
       "      <td>0.0</td>\n",
       "      <td>0.0</td>\n",
       "      <td>0.0</td>\n",
       "      <td>0.0</td>\n",
       "      <td>0.0</td>\n",
       "      <td>0.0</td>\n",
       "      <td>...</td>\n",
       "      <td>0.0</td>\n",
       "      <td>0.0</td>\n",
       "      <td>0.0</td>\n",
       "      <td>0.0</td>\n",
       "      <td>0.0</td>\n",
       "      <td>0.0</td>\n",
       "      <td>0.0</td>\n",
       "      <td>0.0</td>\n",
       "      <td>0.0</td>\n",
       "      <td>0.0</td>\n",
       "    </tr>\n",
       "  </tbody>\n",
       "</table>\n",
       "<p>1 rows × 1793 columns</p>\n",
       "</div>"
      ],
      "text/plain": [
       "User-ID     254     507     882     1424    1435    1733    1903    2033    \\\n",
       "ISBN                                                                         \n",
       "0618002227     8.0     0.0     0.0     0.0     0.0     0.0     0.0     0.0   \n",
       "\n",
       "User-ID     2110    2276    ...  276018  276463  276680  276925  277427  \\\n",
       "ISBN                        ...                                           \n",
       "0618002227     0.0     0.0  ...     0.0     0.0     0.0     0.0     0.0   \n",
       "\n",
       "User-ID     277478  277639  278137  278188  278418  \n",
       "ISBN                                                \n",
       "0618002227     0.0     0.0     0.0     0.0     0.0  \n",
       "\n",
       "[1 rows x 1793 columns]"
      ]
     },
     "execution_count": 31,
     "metadata": {},
     "output_type": "execute_result"
    }
   ],
   "source": [
    "piv_table[piv_table.index == '0618002227']"
   ]
  },
  {
   "cell_type": "code",
   "execution_count": 32,
   "id": "35697ff6",
   "metadata": {
    "execution": {
     "iopub.execute_input": "2023-01-22T08:58:21.409184Z",
     "iopub.status.busy": "2023-01-22T08:58:21.408674Z",
     "iopub.status.idle": "2023-01-22T08:58:21.415667Z",
     "shell.execute_reply": "2023-01-22T08:58:21.414456Z"
    },
    "papermill": {
     "duration": 0.027235,
     "end_time": "2023-01-22T08:58:21.418009",
     "exception": false,
     "start_time": "2023-01-22T08:58:21.390774",
     "status": "completed"
    },
    "tags": []
   },
   "outputs": [],
   "source": [
    "test_book = piv_table[piv_table.index == '0618002227'].values"
   ]
  },
  {
   "cell_type": "code",
   "execution_count": 33,
   "id": "24e20aea",
   "metadata": {
    "execution": {
     "iopub.execute_input": "2023-01-22T08:58:21.451644Z",
     "iopub.status.busy": "2023-01-22T08:58:21.451177Z",
     "iopub.status.idle": "2023-01-22T08:58:21.458885Z",
     "shell.execute_reply": "2023-01-22T08:58:21.457677Z"
    },
    "papermill": {
     "duration": 0.027306,
     "end_time": "2023-01-22T08:58:21.461125",
     "exception": false,
     "start_time": "2023-01-22T08:58:21.433819",
     "status": "completed"
    },
    "tags": []
   },
   "outputs": [
    {
     "data": {
      "text/plain": [
       "array([[8., 0., 0., ..., 0., 0., 0.]])"
      ]
     },
     "execution_count": 33,
     "metadata": {},
     "output_type": "execute_result"
    }
   ],
   "source": [
    "test_book"
   ]
  },
  {
   "cell_type": "code",
   "execution_count": 34,
   "id": "8063a062",
   "metadata": {
    "execution": {
     "iopub.execute_input": "2023-01-22T08:58:21.495626Z",
     "iopub.status.busy": "2023-01-22T08:58:21.494637Z",
     "iopub.status.idle": "2023-01-22T08:58:21.521997Z",
     "shell.execute_reply": "2023-01-22T08:58:21.520082Z"
    },
    "papermill": {
     "duration": 0.049734,
     "end_time": "2023-01-22T08:58:21.526839",
     "exception": false,
     "start_time": "2023-01-22T08:58:21.477105",
     "status": "completed"
    },
    "tags": []
   },
   "outputs": [
    {
     "data": {
      "text/plain": [
       "(array([[ 0.        , 41.76122604, 41.78516483, 41.78516483, 41.86884283]]),\n",
       " array([[1626, 1001, 2088, 2098, 1299]]))"
      ]
     },
     "execution_count": 34,
     "metadata": {},
     "output_type": "execute_result"
    }
   ],
   "source": [
    "model.kneighbors(test_book)"
   ]
  },
  {
   "cell_type": "markdown",
   "id": "4c581eb2",
   "metadata": {
    "papermill": {
     "duration": 0.043063,
     "end_time": "2023-01-22T08:58:21.612182",
     "exception": false,
     "start_time": "2023-01-22T08:58:21.569119",
     "status": "completed"
    },
    "tags": []
   },
   "source": [
    "From the doc we are getting distances and the "
   ]
  },
  {
   "cell_type": "code",
   "execution_count": 35,
   "id": "8cb02ecd",
   "metadata": {
    "execution": {
     "iopub.execute_input": "2023-01-22T08:58:21.661240Z",
     "iopub.status.busy": "2023-01-22T08:58:21.660737Z",
     "iopub.status.idle": "2023-01-22T08:58:21.679059Z",
     "shell.execute_reply": "2023-01-22T08:58:21.677281Z"
    },
    "papermill": {
     "duration": 0.041771,
     "end_time": "2023-01-22T08:58:21.683841",
     "exception": false,
     "start_time": "2023-01-22T08:58:21.642070",
     "status": "completed"
    },
    "tags": []
   },
   "outputs": [],
   "source": [
    "_, closest = model.kneighbors(test_book)"
   ]
  },
  {
   "cell_type": "code",
   "execution_count": 36,
   "id": "ebd81536",
   "metadata": {
    "execution": {
     "iopub.execute_input": "2023-01-22T08:58:21.770341Z",
     "iopub.status.busy": "2023-01-22T08:58:21.769533Z",
     "iopub.status.idle": "2023-01-22T08:58:21.779664Z",
     "shell.execute_reply": "2023-01-22T08:58:21.778375Z"
    },
    "papermill": {
     "duration": 0.058546,
     "end_time": "2023-01-22T08:58:21.784989",
     "exception": false,
     "start_time": "2023-01-22T08:58:21.726443",
     "status": "completed"
    },
    "tags": []
   },
   "outputs": [
    {
     "name": "stdout",
     "output_type": "stream",
     "text": [
      "[1626 1001 2088 2098 1299]\n"
     ]
    }
   ],
   "source": [
    "for i in closest[:5]:\n",
    "    print(i)"
   ]
  },
  {
   "cell_type": "code",
   "execution_count": 37,
   "id": "6ed69467",
   "metadata": {
    "execution": {
     "iopub.execute_input": "2023-01-22T08:58:21.826039Z",
     "iopub.status.busy": "2023-01-22T08:58:21.825496Z",
     "iopub.status.idle": "2023-01-22T08:58:22.031011Z",
     "shell.execute_reply": "2023-01-22T08:58:22.029723Z"
    },
    "papermill": {
     "duration": 0.226204,
     "end_time": "2023-01-22T08:58:22.033753",
     "exception": false,
     "start_time": "2023-01-22T08:58:21.807549",
     "status": "completed"
    },
    "tags": []
   },
   "outputs": [
    {
     "data": {
      "text/html": [
       "<div>\n",
       "<style scoped>\n",
       "    .dataframe tbody tr th:only-of-type {\n",
       "        vertical-align: middle;\n",
       "    }\n",
       "\n",
       "    .dataframe tbody tr th {\n",
       "        vertical-align: top;\n",
       "    }\n",
       "\n",
       "    .dataframe thead th {\n",
       "        text-align: right;\n",
       "    }\n",
       "</style>\n",
       "<table border=\"1\" class=\"dataframe\">\n",
       "  <thead>\n",
       "    <tr style=\"text-align: right;\">\n",
       "      <th></th>\n",
       "      <th>ISBN</th>\n",
       "      <th>Book-Title_x</th>\n",
       "      <th>Book-Author_x</th>\n",
       "      <th>Year-Of-Publication_x</th>\n",
       "      <th>Publisher_x</th>\n",
       "      <th>User-ID</th>\n",
       "      <th>Book-Rating</th>\n",
       "      <th>Book-Title_y</th>\n",
       "      <th>Book-Author_y</th>\n",
       "      <th>Year-Of-Publication_y</th>\n",
       "      <th>Publisher_y</th>\n",
       "    </tr>\n",
       "  </thead>\n",
       "  <tbody>\n",
       "    <tr>\n",
       "      <th>0</th>\n",
       "      <td>0440234743</td>\n",
       "      <td>The Testament</td>\n",
       "      <td>John Grisham</td>\n",
       "      <td>1999</td>\n",
       "      <td>Dell</td>\n",
       "      <td>277478</td>\n",
       "      <td>0</td>\n",
       "      <td>The Testament</td>\n",
       "      <td>John Grisham</td>\n",
       "      <td>1999</td>\n",
       "      <td>Dell</td>\n",
       "    </tr>\n",
       "    <tr>\n",
       "      <th>1</th>\n",
       "      <td>0440234743</td>\n",
       "      <td>The Testament</td>\n",
       "      <td>John Grisham</td>\n",
       "      <td>1999</td>\n",
       "      <td>Dell</td>\n",
       "      <td>2977</td>\n",
       "      <td>0</td>\n",
       "      <td>The Testament</td>\n",
       "      <td>John Grisham</td>\n",
       "      <td>1999</td>\n",
       "      <td>Dell</td>\n",
       "    </tr>\n",
       "    <tr>\n",
       "      <th>2</th>\n",
       "      <td>0440234743</td>\n",
       "      <td>The Testament</td>\n",
       "      <td>John Grisham</td>\n",
       "      <td>1999</td>\n",
       "      <td>Dell</td>\n",
       "      <td>3363</td>\n",
       "      <td>0</td>\n",
       "      <td>The Testament</td>\n",
       "      <td>John Grisham</td>\n",
       "      <td>1999</td>\n",
       "      <td>Dell</td>\n",
       "    </tr>\n",
       "    <tr>\n",
       "      <th>3</th>\n",
       "      <td>0440234743</td>\n",
       "      <td>The Testament</td>\n",
       "      <td>John Grisham</td>\n",
       "      <td>1999</td>\n",
       "      <td>Dell</td>\n",
       "      <td>7346</td>\n",
       "      <td>9</td>\n",
       "      <td>The Testament</td>\n",
       "      <td>John Grisham</td>\n",
       "      <td>1999</td>\n",
       "      <td>Dell</td>\n",
       "    </tr>\n",
       "    <tr>\n",
       "      <th>4</th>\n",
       "      <td>0440234743</td>\n",
       "      <td>The Testament</td>\n",
       "      <td>John Grisham</td>\n",
       "      <td>1999</td>\n",
       "      <td>Dell</td>\n",
       "      <td>9747</td>\n",
       "      <td>0</td>\n",
       "      <td>The Testament</td>\n",
       "      <td>John Grisham</td>\n",
       "      <td>1999</td>\n",
       "      <td>Dell</td>\n",
       "    </tr>\n",
       "  </tbody>\n",
       "</table>\n",
       "</div>"
      ],
      "text/plain": [
       "         ISBN   Book-Title_x Book-Author_x Year-Of-Publication_x Publisher_x  \\\n",
       "0  0440234743  The Testament  John Grisham                  1999        Dell   \n",
       "1  0440234743  The Testament  John Grisham                  1999        Dell   \n",
       "2  0440234743  The Testament  John Grisham                  1999        Dell   \n",
       "3  0440234743  The Testament  John Grisham                  1999        Dell   \n",
       "4  0440234743  The Testament  John Grisham                  1999        Dell   \n",
       "\n",
       "   User-ID  Book-Rating   Book-Title_y Book-Author_y Year-Of-Publication_y  \\\n",
       "0   277478            0  The Testament  John Grisham                  1999   \n",
       "1     2977            0  The Testament  John Grisham                  1999   \n",
       "2     3363            0  The Testament  John Grisham                  1999   \n",
       "3     7346            9  The Testament  John Grisham                  1999   \n",
       "4     9747            0  The Testament  John Grisham                  1999   \n",
       "\n",
       "  Publisher_y  \n",
       "0        Dell  \n",
       "1        Dell  \n",
       "2        Dell  \n",
       "3        Dell  \n",
       "4        Dell  "
      ]
     },
     "execution_count": 37,
     "metadata": {},
     "output_type": "execute_result"
    }
   ],
   "source": [
    "new_df=books.merge(ratings,on='ISBN')\n",
    "new_df.head()"
   ]
  },
  {
   "cell_type": "code",
   "execution_count": 38,
   "id": "03dbf2dc",
   "metadata": {
    "execution": {
     "iopub.execute_input": "2023-01-22T08:58:22.070649Z",
     "iopub.status.busy": "2023-01-22T08:58:22.069221Z",
     "iopub.status.idle": "2023-01-22T08:58:22.194868Z",
     "shell.execute_reply": "2023-01-22T08:58:22.193026Z"
    },
    "papermill": {
     "duration": 0.147058,
     "end_time": "2023-01-22T08:58:22.197939",
     "exception": false,
     "start_time": "2023-01-22T08:58:22.050881",
     "status": "completed"
    },
    "tags": []
   },
   "outputs": [
    {
     "name": "stdout",
     "output_type": "stream",
     "text": [
      "             ISBN                                         Book-Title  \\\n",
      "12763  0618002227  The Fellowship of the Ring (The Lord of the Ri...   \n",
      "\n",
      "            Book-Author Year-Of-Publication                 Publisher  \n",
      "12763  J. R. R. Tolkien                1999  Houghton Mifflin Company  \n",
      "             ISBN                             Book-Title     Book-Author  \\\n",
      "18670  0440944597  The Chocolate War (Laurel Leaf Books)  ROBERT CORMIER   \n",
      "\n",
      "      Year-Of-Publication    Publisher  \n",
      "18670                1986  Laurel Leaf  \n",
      "            ISBN Book-Title   Book-Author Year-Of-Publication  \\\n",
      "3028  1844262553       Free  Paul Vincent                2003   \n",
      "\n",
      "               Publisher  \n",
      "3028  Upfront Publishing  \n",
      "            ISBN               Book-Title      Book-Author  \\\n",
      "8838  3423202327  MÃ?Â¶rder ohne Gesicht.  Henning Mankell   \n",
      "\n",
      "     Year-Of-Publication Publisher  \n",
      "8838                1999       Dtv  \n",
      "            ISBN    Book-Title   Book-Author Year-Of-Publication    Publisher\n",
      "2227  0451208811  Blood Orchid  Stuart Woods                2003  Signet Book\n"
     ]
    }
   ],
   "source": [
    "for i in closest[:5][0]:\n",
    "    print(books[books['ISBN'] == piv_table.index[i]])"
   ]
  },
  {
   "cell_type": "code",
   "execution_count": 39,
   "id": "94047735",
   "metadata": {
    "execution": {
     "iopub.execute_input": "2023-01-22T08:58:22.234116Z",
     "iopub.status.busy": "2023-01-22T08:58:22.233626Z",
     "iopub.status.idle": "2023-01-22T08:58:22.430155Z",
     "shell.execute_reply": "2023-01-22T08:58:22.428758Z"
    },
    "papermill": {
     "duration": 0.218084,
     "end_time": "2023-01-22T08:58:22.433402",
     "exception": false,
     "start_time": "2023-01-22T08:58:22.215318",
     "status": "completed"
    },
    "tags": []
   },
   "outputs": [],
   "source": [
    "\n",
    "books_data=books.merge(ratings,on=\"ISBN\")"
   ]
  },
  {
   "cell_type": "code",
   "execution_count": 40,
   "id": "cce42d9e",
   "metadata": {
    "execution": {
     "iopub.execute_input": "2023-01-22T08:58:22.470295Z",
     "iopub.status.busy": "2023-01-22T08:58:22.469792Z",
     "iopub.status.idle": "2023-01-22T08:58:22.488307Z",
     "shell.execute_reply": "2023-01-22T08:58:22.487131Z"
    },
    "papermill": {
     "duration": 0.040805,
     "end_time": "2023-01-22T08:58:22.491021",
     "exception": false,
     "start_time": "2023-01-22T08:58:22.450216",
     "status": "completed"
    },
    "tags": []
   },
   "outputs": [
    {
     "data": {
      "text/html": [
       "<div>\n",
       "<style scoped>\n",
       "    .dataframe tbody tr th:only-of-type {\n",
       "        vertical-align: middle;\n",
       "    }\n",
       "\n",
       "    .dataframe tbody tr th {\n",
       "        vertical-align: top;\n",
       "    }\n",
       "\n",
       "    .dataframe thead th {\n",
       "        text-align: right;\n",
       "    }\n",
       "</style>\n",
       "<table border=\"1\" class=\"dataframe\">\n",
       "  <thead>\n",
       "    <tr style=\"text-align: right;\">\n",
       "      <th></th>\n",
       "      <th>ISBN</th>\n",
       "      <th>Book-Title_x</th>\n",
       "      <th>Book-Author_x</th>\n",
       "      <th>Year-Of-Publication_x</th>\n",
       "      <th>Publisher_x</th>\n",
       "      <th>User-ID</th>\n",
       "      <th>Book-Rating</th>\n",
       "      <th>Book-Title_y</th>\n",
       "      <th>Book-Author_y</th>\n",
       "      <th>Year-Of-Publication_y</th>\n",
       "      <th>Publisher_y</th>\n",
       "    </tr>\n",
       "  </thead>\n",
       "  <tbody>\n",
       "    <tr>\n",
       "      <th>0</th>\n",
       "      <td>0440234743</td>\n",
       "      <td>The Testament</td>\n",
       "      <td>John Grisham</td>\n",
       "      <td>1999</td>\n",
       "      <td>Dell</td>\n",
       "      <td>277478</td>\n",
       "      <td>0</td>\n",
       "      <td>The Testament</td>\n",
       "      <td>John Grisham</td>\n",
       "      <td>1999</td>\n",
       "      <td>Dell</td>\n",
       "    </tr>\n",
       "    <tr>\n",
       "      <th>1</th>\n",
       "      <td>0440234743</td>\n",
       "      <td>The Testament</td>\n",
       "      <td>John Grisham</td>\n",
       "      <td>1999</td>\n",
       "      <td>Dell</td>\n",
       "      <td>2977</td>\n",
       "      <td>0</td>\n",
       "      <td>The Testament</td>\n",
       "      <td>John Grisham</td>\n",
       "      <td>1999</td>\n",
       "      <td>Dell</td>\n",
       "    </tr>\n",
       "    <tr>\n",
       "      <th>2</th>\n",
       "      <td>0440234743</td>\n",
       "      <td>The Testament</td>\n",
       "      <td>John Grisham</td>\n",
       "      <td>1999</td>\n",
       "      <td>Dell</td>\n",
       "      <td>3363</td>\n",
       "      <td>0</td>\n",
       "      <td>The Testament</td>\n",
       "      <td>John Grisham</td>\n",
       "      <td>1999</td>\n",
       "      <td>Dell</td>\n",
       "    </tr>\n",
       "    <tr>\n",
       "      <th>3</th>\n",
       "      <td>0440234743</td>\n",
       "      <td>The Testament</td>\n",
       "      <td>John Grisham</td>\n",
       "      <td>1999</td>\n",
       "      <td>Dell</td>\n",
       "      <td>7346</td>\n",
       "      <td>9</td>\n",
       "      <td>The Testament</td>\n",
       "      <td>John Grisham</td>\n",
       "      <td>1999</td>\n",
       "      <td>Dell</td>\n",
       "    </tr>\n",
       "    <tr>\n",
       "      <th>4</th>\n",
       "      <td>0440234743</td>\n",
       "      <td>The Testament</td>\n",
       "      <td>John Grisham</td>\n",
       "      <td>1999</td>\n",
       "      <td>Dell</td>\n",
       "      <td>9747</td>\n",
       "      <td>0</td>\n",
       "      <td>The Testament</td>\n",
       "      <td>John Grisham</td>\n",
       "      <td>1999</td>\n",
       "      <td>Dell</td>\n",
       "    </tr>\n",
       "    <tr>\n",
       "      <th>5</th>\n",
       "      <td>0440234743</td>\n",
       "      <td>The Testament</td>\n",
       "      <td>John Grisham</td>\n",
       "      <td>1999</td>\n",
       "      <td>Dell</td>\n",
       "      <td>9856</td>\n",
       "      <td>0</td>\n",
       "      <td>The Testament</td>\n",
       "      <td>John Grisham</td>\n",
       "      <td>1999</td>\n",
       "      <td>Dell</td>\n",
       "    </tr>\n",
       "    <tr>\n",
       "      <th>6</th>\n",
       "      <td>0440234743</td>\n",
       "      <td>The Testament</td>\n",
       "      <td>John Grisham</td>\n",
       "      <td>1999</td>\n",
       "      <td>Dell</td>\n",
       "      <td>11676</td>\n",
       "      <td>9</td>\n",
       "      <td>The Testament</td>\n",
       "      <td>John Grisham</td>\n",
       "      <td>1999</td>\n",
       "      <td>Dell</td>\n",
       "    </tr>\n",
       "    <tr>\n",
       "      <th>7</th>\n",
       "      <td>0440234743</td>\n",
       "      <td>The Testament</td>\n",
       "      <td>John Grisham</td>\n",
       "      <td>1999</td>\n",
       "      <td>Dell</td>\n",
       "      <td>13552</td>\n",
       "      <td>8</td>\n",
       "      <td>The Testament</td>\n",
       "      <td>John Grisham</td>\n",
       "      <td>1999</td>\n",
       "      <td>Dell</td>\n",
       "    </tr>\n",
       "  </tbody>\n",
       "</table>\n",
       "</div>"
      ],
      "text/plain": [
       "         ISBN   Book-Title_x Book-Author_x Year-Of-Publication_x Publisher_x  \\\n",
       "0  0440234743  The Testament  John Grisham                  1999        Dell   \n",
       "1  0440234743  The Testament  John Grisham                  1999        Dell   \n",
       "2  0440234743  The Testament  John Grisham                  1999        Dell   \n",
       "3  0440234743  The Testament  John Grisham                  1999        Dell   \n",
       "4  0440234743  The Testament  John Grisham                  1999        Dell   \n",
       "5  0440234743  The Testament  John Grisham                  1999        Dell   \n",
       "6  0440234743  The Testament  John Grisham                  1999        Dell   \n",
       "7  0440234743  The Testament  John Grisham                  1999        Dell   \n",
       "\n",
       "   User-ID  Book-Rating   Book-Title_y Book-Author_y Year-Of-Publication_y  \\\n",
       "0   277478            0  The Testament  John Grisham                  1999   \n",
       "1     2977            0  The Testament  John Grisham                  1999   \n",
       "2     3363            0  The Testament  John Grisham                  1999   \n",
       "3     7346            9  The Testament  John Grisham                  1999   \n",
       "4     9747            0  The Testament  John Grisham                  1999   \n",
       "5     9856            0  The Testament  John Grisham                  1999   \n",
       "6    11676            9  The Testament  John Grisham                  1999   \n",
       "7    13552            8  The Testament  John Grisham                  1999   \n",
       "\n",
       "  Publisher_y  \n",
       "0        Dell  \n",
       "1        Dell  \n",
       "2        Dell  \n",
       "3        Dell  \n",
       "4        Dell  \n",
       "5        Dell  \n",
       "6        Dell  \n",
       "7        Dell  "
      ]
     },
     "execution_count": 40,
     "metadata": {},
     "output_type": "execute_result"
    }
   ],
   "source": [
    "books_data.head(8)"
   ]
  },
  {
   "cell_type": "code",
   "execution_count": 41,
   "id": "82ed0c1e",
   "metadata": {
    "execution": {
     "iopub.execute_input": "2023-01-22T08:58:22.528674Z",
     "iopub.status.busy": "2023-01-22T08:58:22.528221Z",
     "iopub.status.idle": "2023-01-22T08:58:22.738789Z",
     "shell.execute_reply": "2023-01-22T08:58:22.737185Z"
    },
    "papermill": {
     "duration": 0.232429,
     "end_time": "2023-01-22T08:58:22.741549",
     "exception": false,
     "start_time": "2023-01-22T08:58:22.509120",
     "status": "completed"
    },
    "tags": []
   },
   "outputs": [
    {
     "data": {
      "text/html": [
       "<div>\n",
       "<style scoped>\n",
       "    .dataframe tbody tr th:only-of-type {\n",
       "        vertical-align: middle;\n",
       "    }\n",
       "\n",
       "    .dataframe tbody tr th {\n",
       "        vertical-align: top;\n",
       "    }\n",
       "\n",
       "    .dataframe thead th {\n",
       "        text-align: right;\n",
       "    }\n",
       "</style>\n",
       "<table border=\"1\" class=\"dataframe\">\n",
       "  <thead>\n",
       "    <tr style=\"text-align: right;\">\n",
       "      <th></th>\n",
       "      <th>ISBN</th>\n",
       "      <th>Book-Title_x</th>\n",
       "      <th>Book-Author_x</th>\n",
       "      <th>Year-Of-Publication_x</th>\n",
       "      <th>Publisher_x</th>\n",
       "      <th>User-ID</th>\n",
       "      <th>Book-Rating</th>\n",
       "      <th>Book-Title_y</th>\n",
       "      <th>Book-Author_y</th>\n",
       "      <th>Year-Of-Publication_y</th>\n",
       "      <th>Publisher_y</th>\n",
       "    </tr>\n",
       "  </thead>\n",
       "  <tbody>\n",
       "    <tr>\n",
       "      <th>0</th>\n",
       "      <td>0440234743</td>\n",
       "      <td>The Testament</td>\n",
       "      <td>John Grisham</td>\n",
       "      <td>1999</td>\n",
       "      <td>Dell</td>\n",
       "      <td>277478</td>\n",
       "      <td>0</td>\n",
       "      <td>The Testament</td>\n",
       "      <td>John Grisham</td>\n",
       "      <td>1999</td>\n",
       "      <td>Dell</td>\n",
       "    </tr>\n",
       "    <tr>\n",
       "      <th>1</th>\n",
       "      <td>0440234743</td>\n",
       "      <td>The Testament</td>\n",
       "      <td>John Grisham</td>\n",
       "      <td>1999</td>\n",
       "      <td>Dell</td>\n",
       "      <td>2977</td>\n",
       "      <td>0</td>\n",
       "      <td>The Testament</td>\n",
       "      <td>John Grisham</td>\n",
       "      <td>1999</td>\n",
       "      <td>Dell</td>\n",
       "    </tr>\n",
       "    <tr>\n",
       "      <th>2</th>\n",
       "      <td>0440234743</td>\n",
       "      <td>The Testament</td>\n",
       "      <td>John Grisham</td>\n",
       "      <td>1999</td>\n",
       "      <td>Dell</td>\n",
       "      <td>3363</td>\n",
       "      <td>0</td>\n",
       "      <td>The Testament</td>\n",
       "      <td>John Grisham</td>\n",
       "      <td>1999</td>\n",
       "      <td>Dell</td>\n",
       "    </tr>\n",
       "    <tr>\n",
       "      <th>3</th>\n",
       "      <td>0440234743</td>\n",
       "      <td>The Testament</td>\n",
       "      <td>John Grisham</td>\n",
       "      <td>1999</td>\n",
       "      <td>Dell</td>\n",
       "      <td>7346</td>\n",
       "      <td>9</td>\n",
       "      <td>The Testament</td>\n",
       "      <td>John Grisham</td>\n",
       "      <td>1999</td>\n",
       "      <td>Dell</td>\n",
       "    </tr>\n",
       "    <tr>\n",
       "      <th>4</th>\n",
       "      <td>0440234743</td>\n",
       "      <td>The Testament</td>\n",
       "      <td>John Grisham</td>\n",
       "      <td>1999</td>\n",
       "      <td>Dell</td>\n",
       "      <td>9747</td>\n",
       "      <td>0</td>\n",
       "      <td>The Testament</td>\n",
       "      <td>John Grisham</td>\n",
       "      <td>1999</td>\n",
       "      <td>Dell</td>\n",
       "    </tr>\n",
       "  </tbody>\n",
       "</table>\n",
       "</div>"
      ],
      "text/plain": [
       "         ISBN   Book-Title_x Book-Author_x Year-Of-Publication_x Publisher_x  \\\n",
       "0  0440234743  The Testament  John Grisham                  1999        Dell   \n",
       "1  0440234743  The Testament  John Grisham                  1999        Dell   \n",
       "2  0440234743  The Testament  John Grisham                  1999        Dell   \n",
       "3  0440234743  The Testament  John Grisham                  1999        Dell   \n",
       "4  0440234743  The Testament  John Grisham                  1999        Dell   \n",
       "\n",
       "   User-ID  Book-Rating   Book-Title_y Book-Author_y Year-Of-Publication_y  \\\n",
       "0   277478            0  The Testament  John Grisham                  1999   \n",
       "1     2977            0  The Testament  John Grisham                  1999   \n",
       "2     3363            0  The Testament  John Grisham                  1999   \n",
       "3     7346            9  The Testament  John Grisham                  1999   \n",
       "4     9747            0  The Testament  John Grisham                  1999   \n",
       "\n",
       "  Publisher_y  \n",
       "0        Dell  \n",
       "1        Dell  \n",
       "2        Dell  \n",
       "3        Dell  \n",
       "4        Dell  "
      ]
     },
     "execution_count": 41,
     "metadata": {},
     "output_type": "execute_result"
    }
   ],
   "source": [
    "new_df=books.merge(ratings,on='ISBN')\n",
    "new_df.head()"
   ]
  },
  {
   "cell_type": "code",
   "execution_count": 42,
   "id": "d3422503",
   "metadata": {
    "execution": {
     "iopub.execute_input": "2023-01-22T08:58:22.778522Z",
     "iopub.status.busy": "2023-01-22T08:58:22.777209Z",
     "iopub.status.idle": "2023-01-22T08:58:22.963411Z",
     "shell.execute_reply": "2023-01-22T08:58:22.961885Z"
    },
    "papermill": {
     "duration": 0.207658,
     "end_time": "2023-01-22T08:58:22.966387",
     "exception": false,
     "start_time": "2023-01-22T08:58:22.758729",
     "status": "completed"
    },
    "tags": []
   },
   "outputs": [],
   "source": [
    "new_df=books.merge(ratings,on='ISBN')"
   ]
  },
  {
   "cell_type": "code",
   "execution_count": 43,
   "id": "86875e6a",
   "metadata": {
    "execution": {
     "iopub.execute_input": "2023-01-22T08:58:23.004498Z",
     "iopub.status.busy": "2023-01-22T08:58:23.004036Z",
     "iopub.status.idle": "2023-01-22T08:58:23.011478Z",
     "shell.execute_reply": "2023-01-22T08:58:23.010330Z"
    },
    "papermill": {
     "duration": 0.029067,
     "end_time": "2023-01-22T08:58:23.013752",
     "exception": false,
     "start_time": "2023-01-22T08:58:22.984685",
     "status": "completed"
    },
    "tags": []
   },
   "outputs": [
    {
     "data": {
      "text/plain": [
       "(116873, 11)"
      ]
     },
     "execution_count": 43,
     "metadata": {},
     "output_type": "execute_result"
    }
   ],
   "source": [
    "new_df.shape"
   ]
  },
  {
   "cell_type": "code",
   "execution_count": 44,
   "id": "b129908f",
   "metadata": {
    "execution": {
     "iopub.execute_input": "2023-01-22T08:58:23.053007Z",
     "iopub.status.busy": "2023-01-22T08:58:23.051794Z",
     "iopub.status.idle": "2023-01-22T08:58:23.165985Z",
     "shell.execute_reply": "2023-01-22T08:58:23.164200Z"
    },
    "papermill": {
     "duration": 0.137131,
     "end_time": "2023-01-22T08:58:23.168473",
     "exception": true,
     "start_time": "2023-01-22T08:58:23.031342",
     "status": "failed"
    },
    "tags": []
   },
   "outputs": [
    {
     "ename": "NameError",
     "evalue": "name 'df_with_avg_ratings' is not defined",
     "output_type": "error",
     "traceback": [
      "\u001b[0;31m---------------------------------------------------------------------------\u001b[0m",
      "\u001b[0;31mNameError\u001b[0m                                 Traceback (most recent call last)",
      "\u001b[0;32m/tmp/ipykernel_19/746070481.py\u001b[0m in \u001b[0;36m<module>\u001b[0;34m\u001b[0m\n\u001b[0;32m----> 1\u001b[0;31m \u001b[0mdf_with_avg_ratings\u001b[0m\u001b[0;34m.\u001b[0m\u001b[0mshape\u001b[0m\u001b[0;34m\u001b[0m\u001b[0;34m\u001b[0m\u001b[0m\n\u001b[0m",
      "\u001b[0;31mNameError\u001b[0m: name 'df_with_avg_ratings' is not defined"
     ]
    }
   ],
   "source": [
    "df_with_avg_ratings.shape"
   ]
  },
  {
   "cell_type": "code",
   "execution_count": null,
   "id": "113bd053",
   "metadata": {
    "execution": {
     "iopub.execute_input": "2023-01-22T08:56:32.403141Z",
     "iopub.status.busy": "2023-01-22T08:56:32.402029Z",
     "iopub.status.idle": "2023-01-22T08:56:32.673995Z",
     "shell.execute_reply": "2023-01-22T08:56:32.672583Z",
     "shell.execute_reply.started": "2023-01-22T08:56:32.403050Z"
    },
    "papermill": {
     "duration": null,
     "end_time": null,
     "exception": null,
     "start_time": null,
     "status": "pending"
    },
    "tags": []
   },
   "outputs": [],
   "source": [
    "books_sorted=df_with_num_ratings.merge(df_with_avg_ratings,on='Book-Title').sort_values(by=['Num_of_ratings'],ascending=False)\n",
    "books_sorted.head()"
   ]
  },
  {
   "cell_type": "code",
   "execution_count": null,
   "id": "1d40b463",
   "metadata": {
    "execution": {
     "iopub.execute_input": "2023-01-22T08:56:32.679168Z",
     "iopub.status.busy": "2023-01-22T08:56:32.678750Z",
     "iopub.status.idle": "2023-01-22T08:56:32.852646Z",
     "shell.execute_reply": "2023-01-22T08:56:32.851406Z",
     "shell.execute_reply.started": "2023-01-22T08:56:32.679135Z"
    },
    "papermill": {
     "duration": null,
     "end_time": null,
     "exception": null,
     "start_time": null,
     "status": "pending"
    },
    "tags": []
   },
   "outputs": [],
   "source": [
    "popular_books=books_sorted[books_sorted['Num_of_ratings']>300].sort_values(by=['avg_ratings'],ascending=False).head(10)\n",
    "popular_books=popular_books.merge(books,on='Book-Title').drop_duplicates('Book-Title')[['Book-Title','Book-Author','Publisher','Num_of_ratings','avg_ratings']]"
   ]
  },
  {
   "cell_type": "code",
   "execution_count": null,
   "id": "80de900a",
   "metadata": {
    "execution": {
     "iopub.execute_input": "2023-01-22T08:56:32.854800Z",
     "iopub.status.busy": "2023-01-22T08:56:32.854426Z",
     "iopub.status.idle": "2023-01-22T08:56:33.144250Z",
     "shell.execute_reply": "2023-01-22T08:56:33.143022Z",
     "shell.execute_reply.started": "2023-01-22T08:56:32.854766Z"
    },
    "papermill": {
     "duration": null,
     "end_time": null,
     "exception": null,
     "start_time": null,
     "status": "pending"
    },
    "tags": []
   },
   "outputs": [],
   "source": [
    "\n",
    "plt.figure(figsize=(10,6))\n",
    "sns.barplot(x=popular_books['avg_ratings'].head(10),y=popular_books['Book-Title'].head(10));"
   ]
  },
  {
   "cell_type": "code",
   "execution_count": null,
   "id": "851c249d",
   "metadata": {
    "execution": {
     "iopub.execute_input": "2023-01-22T08:56:33.147391Z",
     "iopub.status.busy": "2023-01-22T08:56:33.146968Z",
     "iopub.status.idle": "2023-01-22T08:56:33.652553Z",
     "shell.execute_reply": "2023-01-22T08:56:33.651140Z",
     "shell.execute_reply.started": "2023-01-22T08:56:33.147355Z"
    },
    "papermill": {
     "duration": null,
     "end_time": null,
     "exception": null,
     "start_time": null,
     "status": "pending"
    },
    "tags": []
   },
   "outputs": [],
   "source": [
    "plt.figure(figsize=(10,6))\n",
    "sns.barplot(x=popular_books['Num_of_ratings'].head(10),y=popular_books['Book-Title'].head(10));"
   ]
  },
  {
   "cell_type": "markdown",
   "id": "ad805769",
   "metadata": {
    "papermill": {
     "duration": null,
     "end_time": null,
     "exception": null,
     "start_time": null,
     "status": "pending"
    },
    "tags": []
   },
   "source": []
  }
 ],
 "metadata": {
  "kernelspec": {
   "display_name": "Python 3",
   "language": "python",
   "name": "python3"
  },
  "language_info": {
   "codemirror_mode": {
    "name": "ipython",
    "version": 3
   },
   "file_extension": ".py",
   "mimetype": "text/x-python",
   "name": "python",
   "nbconvert_exporter": "python",
   "pygments_lexer": "ipython3",
   "version": "3.7.12"
  },
  "papermill": {
   "default_parameters": {},
   "duration": 22.388611,
   "end_time": "2023-01-22T08:58:24.212245",
   "environment_variables": {},
   "exception": true,
   "input_path": "__notebook__.ipynb",
   "output_path": "__notebook__.ipynb",
   "parameters": {},
   "start_time": "2023-01-22T08:58:01.823634",
   "version": "2.3.4"
  }
 },
 "nbformat": 4,
 "nbformat_minor": 5
}

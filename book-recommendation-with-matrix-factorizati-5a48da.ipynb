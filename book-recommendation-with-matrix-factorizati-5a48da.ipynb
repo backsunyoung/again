{
 "cells": [
  {
   "cell_type": "code",
   "execution_count": 1,
   "id": "0c380ccb",
   "metadata": {
    "_cell_guid": "b1076dfc-b9ad-4769-8c92-a6c4dae69d19",
    "_uuid": "8f2839f25d086af736a60e9eeb907d3b93b6e0e5",
    "execution": {
     "iopub.execute_input": "2023-01-22T04:12:20.209488Z",
     "iopub.status.busy": "2023-01-22T04:12:20.208904Z",
     "iopub.status.idle": "2023-01-22T04:12:20.232617Z",
     "shell.execute_reply": "2023-01-22T04:12:20.231539Z"
    },
    "papermill": {
     "duration": 0.040144,
     "end_time": "2023-01-22T04:12:20.236022",
     "exception": false,
     "start_time": "2023-01-22T04:12:20.195878",
     "status": "completed"
    },
    "tags": []
   },
   "outputs": [
    {
     "name": "stdout",
     "output_type": "stream",
     "text": [
      "/kaggle/input/book-recommendation-dataset/Ratings.csv\n",
      "/kaggle/input/book-recommendation-dataset/Users.csv\n",
      "/kaggle/input/book-recommendation-dataset/Books.csv\n"
     ]
    }
   ],
   "source": [
    "# This Python 3 environment comes with many helpful analytics libraries installed\n",
    "# It is defined by the kaggle/python Docker image: https://github.com/kaggle/docker-python\n",
    "# For example, here's several helpful packages to load\n",
    "\n",
    "import numpy as np # linear algebra\n",
    "import matplotlib as mpl # graph\n",
    "import pandas as pd # data processing, CSV file I/O (e.g. pd.read_csv)\n",
    "import matplotlib.pyplot as plt # graph\n",
    "\n",
    "# Input data files are available in the read-only \"../input/\" directory\n",
    "# For example, running this (by clicking run or pressing Shift+Enter) will list all files under the input directory\n",
    "\n",
    "import os\n",
    "for dirname, _, filenames in os.walk('/kaggle/input'):\n",
    "    for filename in filenames:\n",
    "        print(os.path.join(dirname, filename))\n",
    "\n",
    "# You can write up to 20GB to the current directory (/kaggle/working/) that gets preserved as output when you create a version using \"Save & Run All\" \n",
    "# You can also write temporary files to /kaggle/temp/, but they won't be saved outside of the current session"
   ]
  },
  {
   "cell_type": "code",
   "execution_count": 2,
   "id": "9bf334e2",
   "metadata": {
    "execution": {
     "iopub.execute_input": "2023-01-22T04:12:20.258581Z",
     "iopub.status.busy": "2023-01-22T04:12:20.258223Z",
     "iopub.status.idle": "2023-01-22T04:12:22.892961Z",
     "shell.execute_reply": "2023-01-22T04:12:22.890918Z"
    },
    "papermill": {
     "duration": 2.648808,
     "end_time": "2023-01-22T04:12:22.895664",
     "exception": false,
     "start_time": "2023-01-22T04:12:20.246856",
     "status": "completed"
    },
    "tags": []
   },
   "outputs": [
    {
     "name": "stderr",
     "output_type": "stream",
     "text": [
      "/opt/conda/lib/python3.7/site-packages/IPython/core/interactiveshell.py:3552: DtypeWarning: Columns (3) have mixed types.Specify dtype option on import or set low_memory=False.\n",
      "  exec(code_obj, self.user_global_ns, self.user_ns)\n"
     ]
    }
   ],
   "source": [
    "#read all the input files\n",
    "books = pd.read_csv(\"../input/book-recommendation-dataset/Books.csv\")"
   ]
  },
  {
   "cell_type": "code",
   "execution_count": 3,
   "id": "1ef51f66",
   "metadata": {
    "execution": {
     "iopub.execute_input": "2023-01-22T04:12:22.919428Z",
     "iopub.status.busy": "2023-01-22T04:12:22.918996Z",
     "iopub.status.idle": "2023-01-22T04:12:24.189362Z",
     "shell.execute_reply": "2023-01-22T04:12:24.188228Z"
    },
    "papermill": {
     "duration": 1.285749,
     "end_time": "2023-01-22T04:12:24.191781",
     "exception": false,
     "start_time": "2023-01-22T04:12:22.906032",
     "status": "completed"
    },
    "tags": []
   },
   "outputs": [],
   "source": [
    "users = pd.read_csv(\"../input/book-recommendation-dataset/Users.csv\")\n",
    "ratings = pd.read_csv(\"../input/book-recommendation-dataset/Ratings.csv\")"
   ]
  },
  {
   "cell_type": "code",
   "execution_count": 4,
   "id": "72d035b0",
   "metadata": {
    "execution": {
     "iopub.execute_input": "2023-01-22T04:12:24.213330Z",
     "iopub.status.busy": "2023-01-22T04:12:24.212597Z",
     "iopub.status.idle": "2023-01-22T04:12:24.234720Z",
     "shell.execute_reply": "2023-01-22T04:12:24.233686Z"
    },
    "papermill": {
     "duration": 0.035157,
     "end_time": "2023-01-22T04:12:24.236916",
     "exception": false,
     "start_time": "2023-01-22T04:12:24.201759",
     "status": "completed"
    },
    "tags": []
   },
   "outputs": [
    {
     "data": {
      "text/html": [
       "<div>\n",
       "<style scoped>\n",
       "    .dataframe tbody tr th:only-of-type {\n",
       "        vertical-align: middle;\n",
       "    }\n",
       "\n",
       "    .dataframe tbody tr th {\n",
       "        vertical-align: top;\n",
       "    }\n",
       "\n",
       "    .dataframe thead th {\n",
       "        text-align: right;\n",
       "    }\n",
       "</style>\n",
       "<table border=\"1\" class=\"dataframe\">\n",
       "  <thead>\n",
       "    <tr style=\"text-align: right;\">\n",
       "      <th></th>\n",
       "      <th>ISBN</th>\n",
       "      <th>Book-Title</th>\n",
       "      <th>Book-Author</th>\n",
       "      <th>Year-Of-Publication</th>\n",
       "      <th>Publisher</th>\n",
       "      <th>Image-URL-S</th>\n",
       "      <th>Image-URL-M</th>\n",
       "      <th>Image-URL-L</th>\n",
       "    </tr>\n",
       "  </thead>\n",
       "  <tbody>\n",
       "    <tr>\n",
       "      <th>0</th>\n",
       "      <td>0195153448</td>\n",
       "      <td>Classical Mythology</td>\n",
       "      <td>Mark P. O. Morford</td>\n",
       "      <td>2002</td>\n",
       "      <td>Oxford University Press</td>\n",
       "      <td>http://images.amazon.com/images/P/0195153448.0...</td>\n",
       "      <td>http://images.amazon.com/images/P/0195153448.0...</td>\n",
       "      <td>http://images.amazon.com/images/P/0195153448.0...</td>\n",
       "    </tr>\n",
       "    <tr>\n",
       "      <th>1</th>\n",
       "      <td>0002005018</td>\n",
       "      <td>Clara Callan</td>\n",
       "      <td>Richard Bruce Wright</td>\n",
       "      <td>2001</td>\n",
       "      <td>HarperFlamingo Canada</td>\n",
       "      <td>http://images.amazon.com/images/P/0002005018.0...</td>\n",
       "      <td>http://images.amazon.com/images/P/0002005018.0...</td>\n",
       "      <td>http://images.amazon.com/images/P/0002005018.0...</td>\n",
       "    </tr>\n",
       "    <tr>\n",
       "      <th>2</th>\n",
       "      <td>0060973129</td>\n",
       "      <td>Decision in Normandy</td>\n",
       "      <td>Carlo D'Este</td>\n",
       "      <td>1991</td>\n",
       "      <td>HarperPerennial</td>\n",
       "      <td>http://images.amazon.com/images/P/0060973129.0...</td>\n",
       "      <td>http://images.amazon.com/images/P/0060973129.0...</td>\n",
       "      <td>http://images.amazon.com/images/P/0060973129.0...</td>\n",
       "    </tr>\n",
       "    <tr>\n",
       "      <th>3</th>\n",
       "      <td>0374157065</td>\n",
       "      <td>Flu: The Story of the Great Influenza Pandemic...</td>\n",
       "      <td>Gina Bari Kolata</td>\n",
       "      <td>1999</td>\n",
       "      <td>Farrar Straus Giroux</td>\n",
       "      <td>http://images.amazon.com/images/P/0374157065.0...</td>\n",
       "      <td>http://images.amazon.com/images/P/0374157065.0...</td>\n",
       "      <td>http://images.amazon.com/images/P/0374157065.0...</td>\n",
       "    </tr>\n",
       "    <tr>\n",
       "      <th>4</th>\n",
       "      <td>0393045218</td>\n",
       "      <td>The Mummies of Urumchi</td>\n",
       "      <td>E. J. W. Barber</td>\n",
       "      <td>1999</td>\n",
       "      <td>W. W. Norton &amp;amp; Company</td>\n",
       "      <td>http://images.amazon.com/images/P/0393045218.0...</td>\n",
       "      <td>http://images.amazon.com/images/P/0393045218.0...</td>\n",
       "      <td>http://images.amazon.com/images/P/0393045218.0...</td>\n",
       "    </tr>\n",
       "  </tbody>\n",
       "</table>\n",
       "</div>"
      ],
      "text/plain": [
       "         ISBN                                         Book-Title  \\\n",
       "0  0195153448                                Classical Mythology   \n",
       "1  0002005018                                       Clara Callan   \n",
       "2  0060973129                               Decision in Normandy   \n",
       "3  0374157065  Flu: The Story of the Great Influenza Pandemic...   \n",
       "4  0393045218                             The Mummies of Urumchi   \n",
       "\n",
       "            Book-Author Year-Of-Publication                   Publisher  \\\n",
       "0    Mark P. O. Morford                2002     Oxford University Press   \n",
       "1  Richard Bruce Wright                2001       HarperFlamingo Canada   \n",
       "2          Carlo D'Este                1991             HarperPerennial   \n",
       "3      Gina Bari Kolata                1999        Farrar Straus Giroux   \n",
       "4       E. J. W. Barber                1999  W. W. Norton &amp; Company   \n",
       "\n",
       "                                         Image-URL-S  \\\n",
       "0  http://images.amazon.com/images/P/0195153448.0...   \n",
       "1  http://images.amazon.com/images/P/0002005018.0...   \n",
       "2  http://images.amazon.com/images/P/0060973129.0...   \n",
       "3  http://images.amazon.com/images/P/0374157065.0...   \n",
       "4  http://images.amazon.com/images/P/0393045218.0...   \n",
       "\n",
       "                                         Image-URL-M  \\\n",
       "0  http://images.amazon.com/images/P/0195153448.0...   \n",
       "1  http://images.amazon.com/images/P/0002005018.0...   \n",
       "2  http://images.amazon.com/images/P/0060973129.0...   \n",
       "3  http://images.amazon.com/images/P/0374157065.0...   \n",
       "4  http://images.amazon.com/images/P/0393045218.0...   \n",
       "\n",
       "                                         Image-URL-L  \n",
       "0  http://images.amazon.com/images/P/0195153448.0...  \n",
       "1  http://images.amazon.com/images/P/0002005018.0...  \n",
       "2  http://images.amazon.com/images/P/0060973129.0...  \n",
       "3  http://images.amazon.com/images/P/0374157065.0...  \n",
       "4  http://images.amazon.com/images/P/0393045218.0...  "
      ]
     },
     "execution_count": 4,
     "metadata": {},
     "output_type": "execute_result"
    }
   ],
   "source": [
    "books.head(8)"
   ]
  },
  {
   "cell_type": "code",
   "execution_count": 5,
   "id": "5ca6197e",
   "metadata": {
    "execution": {
     "iopub.execute_input": "2023-01-22T04:12:24.259108Z",
     "iopub.status.busy": "2023-01-22T04:12:24.258669Z",
     "iopub.status.idle": "2023-01-22T04:12:24.263902Z",
     "shell.execute_reply": "2023-01-22T04:12:24.262861Z"
    },
    "papermill": {
     "duration": 0.019103,
     "end_time": "2023-01-22T04:12:24.266080",
     "exception": false,
     "start_time": "2023-01-22T04:12:24.246977",
     "status": "completed"
    },
    "tags": []
   },
   "outputs": [],
   "source": [
    "#Selecting only useful information ( removing image URLs)\n",
    "books = books.iloc[:,:5]"
   ]
  },
  {
   "cell_type": "code",
   "execution_count": 6,
   "id": "d5123770",
   "metadata": {
    "execution": {
     "iopub.execute_input": "2023-01-22T04:12:24.287842Z",
     "iopub.status.busy": "2023-01-22T04:12:24.287414Z",
     "iopub.status.idle": "2023-01-22T04:12:24.300170Z",
     "shell.execute_reply": "2023-01-22T04:12:24.299142Z"
    },
    "papermill": {
     "duration": 0.02634,
     "end_time": "2023-01-22T04:12:24.302507",
     "exception": false,
     "start_time": "2023-01-22T04:12:24.276167",
     "status": "completed"
    },
    "tags": []
   },
   "outputs": [
    {
     "data": {
      "text/html": [
       "<div>\n",
       "<style scoped>\n",
       "    .dataframe tbody tr th:only-of-type {\n",
       "        vertical-align: middle;\n",
       "    }\n",
       "\n",
       "    .dataframe tbody tr th {\n",
       "        vertical-align: top;\n",
       "    }\n",
       "\n",
       "    .dataframe thead th {\n",
       "        text-align: right;\n",
       "    }\n",
       "</style>\n",
       "<table border=\"1\" class=\"dataframe\">\n",
       "  <thead>\n",
       "    <tr style=\"text-align: right;\">\n",
       "      <th></th>\n",
       "      <th>ISBN</th>\n",
       "      <th>Biiiook-Title</th>\n",
       "      <th>Book-Auiithor</th>\n",
       "      <th>Year-Oiiiiif-Publication</th>\n",
       "      <th>Publisher</th>\n",
       "    </tr>\n",
       "  </thead>\n",
       "  <tbody>\n",
       "    <tr>\n",
       "      <th>0</th>\n",
       "      <td>0195153448</td>\n",
       "      <td>Classical Mythology</td>\n",
       "      <td>Mark P. O. Morford</td>\n",
       "      <td>2002</td>\n",
       "      <td>Oxford University Press</td>\n",
       "    </tr>\n",
       "    <tr>\n",
       "      <th>1</th>\n",
       "      <td>0002005018</td>\n",
       "      <td>Clara Callan</td>\n",
       "      <td>Richard Bruce Wright</td>\n",
       "      <td>2001</td>\n",
       "      <td>HarperFlamingo Canada</td>\n",
       "    </tr>\n",
       "    <tr>\n",
       "      <th>2</th>\n",
       "      <td>0060973129</td>\n",
       "      <td>Decision in Normandy</td>\n",
       "      <td>Carlo D'Este</td>\n",
       "      <td>1991</td>\n",
       "      <td>HarperPerennial</td>\n",
       "    </tr>\n",
       "    <tr>\n",
       "      <th>3</th>\n",
       "      <td>0374157065</td>\n",
       "      <td>Flu: The Story of the Great Influenza Pandemic...</td>\n",
       "      <td>Gina Bari Kolata</td>\n",
       "      <td>1999</td>\n",
       "      <td>Farrar Straus Giroux</td>\n",
       "    </tr>\n",
       "    <tr>\n",
       "      <th>4</th>\n",
       "      <td>0393045218</td>\n",
       "      <td>The Mummies of Urumchi</td>\n",
       "      <td>E. J. W. Barber</td>\n",
       "      <td>1999</td>\n",
       "      <td>W. W. Norton &amp;amp; Company</td>\n",
       "    </tr>\n",
       "  </tbody>\n",
       "</table>\n",
       "</div>"
      ],
      "text/plain": [
       "         ISBN                                         Book-Title  \\\n",
       "0  0195153448                                Classical Mythology   \n",
       "1  0002005018                                       Clara Callan   \n",
       "2  0060973129                               Decision in Normandy   \n",
       "3  0374157065  Flu: The Story of the Great Influenza Pandemic...   \n",
       "4  0393045218                             The Mummies of Urumchi   \n",
       "\n",
       "            Book-Author Year-Of-Publication                   Publisher  \n",
       "0    Mark P. O. Morford                2002     Oxford University Press  \n",
       "1  Richard Bruce Wright                2001       HarperFlamingo Canada  \n",
       "2          Carlo D'Este                1991             HarperPerennial  \n",
       "3      Gina Bari Kolata                1999        Farrar Straus Giroux  \n",
       "4       E. J. W. Barber                1999  W. W. Norton &amp; Company  "
      ]
     },
     "execution_count": 6,
     "metadata": {},
     "output_type": "execute_result"
    }
   ],
   "source": [
    "books.head(3)"
   ]
  },
  {
   "cell_type": "code",
   "execution_count": 7,
   "id": "78177cee",
   "metadata": {
    "execution": {
     "iopub.execute_input": "2023-01-22T04:12:24.325300Z",
     "iopub.status.busy": "2023-01-22T04:12:24.324922Z",
     "iopub.status.idle": "2023-01-22T04:12:24.336181Z",
     "shell.execute_reply": "2023-01-22T04:12:24.335075Z"
    },
    "papermill": {
     "duration": 0.025381,
     "end_time": "2023-01-22T04:12:24.338466",
     "exception": false,
     "start_time": "2023-01-22T04:12:24.313085",
     "status": "completed"
    },
    "tags": []
   },
   "outputs": [
    {
     "data": {
      "text/html": [
       "<div>\n",
       "<style scoped>\n",
       "    .dataframe tbody tr th:only-of-type {\n",
       "        vertical-align: middle;\n",
       "    }\n",
       "\n",
       "    .dataframe tbody tr th {\n",
       "        vertical-align: top;\n",
       "    }\n",
       "\n",
       "    .dataframe thead th {\n",
       "        text-align: right;\n",
       "    }\n",
       "</style>\n",
       "<table border=\"1\" class=\"dataframe\">\n",
       "  <thead>\n",
       "    <tr style=\"text-align: right;\">\n",
       "      <th></th>\n",
       "      <th>User-ID</th>\n",
       "      <th>Location</th>\n",
       "      <th>Age</th>\n",
       "    </tr>\n",
       "  </thead>\n",
       "  <tbody>\n",
       "    <tr>\n",
       "      <th>0</th>\n",
       "      <td>1</td>\n",
       "      <td>nyc, new york, usa</td>\n",
       "      <td>NaN</td>\n",
       "    </tr>\n",
       "    <tr>\n",
       "      <th>1</th>\n",
       "      <td>2</td>\n",
       "      <td>stockton, california, usa</td>\n",
       "      <td>18.0</td>\n",
       "    </tr>\n",
       "    <tr>\n",
       "      <th>2</th>\n",
       "      <td>3</td>\n",
       "      <td>moscow, yukon territory, russia</td>\n",
       "      <td>NaN</td>\n",
       "    </tr>\n",
       "    <tr>\n",
       "      <th>3</th>\n",
       "      <td>4</td>\n",
       "      <td>porto, v.n.gaia, portugal</td>\n",
       "      <td>17.0</td>\n",
       "    </tr>\n",
       "    <tr>\n",
       "      <th>4</th>\n",
       "      <td>5</td>\n",
       "      <td>farnborough, hants, united kingdom</td>\n",
       "      <td>NaN</td>\n",
       "    </tr>\n",
       "  </tbody>\n",
       "</table>\n",
       "</div>"
      ],
      "text/plain": [
       "   User-ID                            Location   Age\n",
       "0        1                  nyc, new york, usa   NaN\n",
       "1        2           stockton, california, usa  18.0\n",
       "2        3     moscow, yukon territory, russia   NaN\n",
       "3        4           porto, v.n.gaia, portugal  17.0\n",
       "4        5  farnborough, hants, united kingdom   NaN"
      ]
     },
     "execution_count": 7,
     "metadata": {},
     "output_type": "execute_result"
    }
   ],
   "source": [
    "users.head()"
   ]
  },
  {
   "cell_type": "code",
   "execution_count": 8,
   "id": "a57c34dc",
   "metadata": {
    "execution": {
     "iopub.execute_input": "2023-01-22T04:12:24.361682Z",
     "iopub.status.busy": "2023-01-22T04:12:24.360888Z",
     "iopub.status.idle": "2023-01-22T04:12:24.371470Z",
     "shell.execute_reply": "2023-01-22T04:12:24.370427Z"
    },
    "papermill": {
     "duration": 0.025043,
     "end_time": "2023-01-22T04:12:24.373978",
     "exception": false,
     "start_time": "2023-01-22T04:12:24.348935",
     "status": "completed"
    },
    "tags": []
   },
   "outputs": [
    {
     "data": {
      "text/html": [
       "<div>\n",
       "<style scoped>\n",
       "    .dataframe tbody tr th:only-of-type {\n",
       "        vertical-align: middle;\n",
       "    }\n",
       "\n",
       "    .dataframe tbody tr th {\n",
       "        vertical-align: top;\n",
       "    }\n",
       "\n",
       "    .dataframe thead th {\n",
       "        text-align: right;\n",
       "    }\n",
       "</style>\n",
       "<table border=\"1\" class=\"dataframe\">\n",
       "  <thead>\n",
       "    <tr style=\"text-align: right;\">\n",
       "      <th></th>\n",
       "      <th>User-ID</th>\n",
       "      <th>ISBN</th>\n",
       "      <th>Book-Rating</th>\n",
       "    </tr>\n",
       "  </thead>\n",
       "  <tbody>\n",
       "    <tr>\n",
       "      <th>0</th>\n",
       "      <td>276725</td>\n",
       "      <td>034545104X</td>\n",
       "      <td>0</td>\n",
       "    </tr>\n",
       "    <tr>\n",
       "      <th>1</th>\n",
       "      <td>276726</td>\n",
       "      <td>0155061224</td>\n",
       "      <td>5</td>\n",
       "    </tr>\n",
       "    <tr>\n",
       "      <th>2</th>\n",
       "      <td>276727</td>\n",
       "      <td>0446520802</td>\n",
       "      <td>0</td>\n",
       "    </tr>\n",
       "    <tr>\n",
       "      <th>3</th>\n",
       "      <td>276729</td>\n",
       "      <td>052165615X</td>\n",
       "      <td>3</td>\n",
       "    </tr>\n",
       "    <tr>\n",
       "      <th>4</th>\n",
       "      <td>276729</td>\n",
       "      <td>0521795028</td>\n",
       "      <td>6</td>\n",
       "    </tr>\n",
       "  </tbody>\n",
       "</table>\n",
       "</div>"
      ],
      "text/plain": [
       "   User-ID        ISBN  Book-Rating\n",
       "0   276725  034545104X            0\n",
       "1   276726  0155061224            5\n",
       "2   276727  0446520802            0\n",
       "3   276729  052165615X            3\n",
       "4   276729  0521795028            6"
      ]
     },
     "execution_count": 8,
     "metadata": {},
     "output_type": "execute_result"
    }
   ],
   "source": [
    "ratings.head()"
   ]
  },
  {
   "cell_type": "code",
   "execution_count": 9,
   "id": "c39a3d4d",
   "metadata": {
    "execution": {
     "iopub.execute_input": "2023-01-22T04:12:24.397072Z",
     "iopub.status.busy": "2023-01-22T04:12:24.396644Z",
     "iopub.status.idle": "2023-01-22T04:12:24.598194Z",
     "shell.execute_reply": "2023-01-22T04:12:24.597139Z"
    },
    "papermill": {
     "duration": 0.216292,
     "end_time": "2023-01-22T04:12:24.600950",
     "exception": false,
     "start_time": "2023-01-22T04:12:24.384658",
     "status": "completed"
    },
    "tags": []
   },
   "outputs": [],
   "source": [
    "#Groupby to see which user has rated how many books\n",
    "user_rating_count = ratings.groupby('User-ID').count().sort_values(by = 'ISBN', ascending = False)"
   ]
  },
  {
   "cell_type": "code",
   "execution_count": 10,
   "id": "66168b74",
   "metadata": {
    "execution": {
     "iopub.execute_input": "2023-01-22T04:12:24.624167Z",
     "iopub.status.busy": "2023-01-22T04:12:24.623757Z",
     "iopub.status.idle": "2023-01-22T04:12:24.630367Z",
     "shell.execute_reply": "2023-01-22T04:12:24.629380Z"
    },
    "papermill": {
     "duration": 0.021016,
     "end_time": "2023-01-22T04:12:24.632782",
     "exception": false,
     "start_time": "2023-01-22T04:12:24.611766",
     "status": "completed"
    },
    "tags": []
   },
   "outputs": [
    {
     "data": {
      "text/plain": [
       "(105283, 2)"
      ]
     },
     "execution_count": 10,
     "metadata": {},
     "output_type": "execute_result"
    }
   ],
   "source": [
    "user_rating_count.shape"
   ]
  },
  {
   "cell_type": "code",
   "execution_count": 11,
   "id": "4c40a0db",
   "metadata": {
    "execution": {
     "iopub.execute_input": "2023-01-22T04:12:24.656461Z",
     "iopub.status.busy": "2023-01-22T04:12:24.656087Z",
     "iopub.status.idle": "2023-01-22T04:12:24.662324Z",
     "shell.execute_reply": "2023-01-22T04:12:24.661504Z"
    },
    "papermill": {
     "duration": 0.020641,
     "end_time": "2023-01-22T04:12:24.664289",
     "exception": false,
     "start_time": "2023-01-22T04:12:24.643648",
     "status": "completed"
    },
    "tags": []
   },
   "outputs": [],
   "source": [
    "#keep only those users who have given ratings to more than 100 books)\n",
    "user_rating_count = user_rating_count[user_rating_count['ISBN']>100]"
   ]
  },
  {
   "cell_type": "code",
   "execution_count": 12,
   "id": "f783b09c",
   "metadata": {
    "execution": {
     "iopub.execute_input": "2023-01-22T04:12:24.687916Z",
     "iopub.status.busy": "2023-01-22T04:12:24.687492Z",
     "iopub.status.idle": "2023-01-22T04:12:24.693814Z",
     "shell.execute_reply": "2023-01-22T04:12:24.692789Z"
    },
    "papermill": {
     "duration": 0.021274,
     "end_time": "2023-01-22T04:12:24.696169",
     "exception": false,
     "start_time": "2023-01-22T04:12:24.674895",
     "status": "completed"
    },
    "tags": []
   },
   "outputs": [
    {
     "data": {
      "text/plain": [
       "(1825, 2)"
      ]
     },
     "execution_count": 12,
     "metadata": {},
     "output_type": "execute_result"
    }
   ],
   "source": [
    "user_rating_count.shape"
   ]
  },
  {
   "cell_type": "code",
   "execution_count": 13,
   "id": "820a04b6",
   "metadata": {
    "execution": {
     "iopub.execute_input": "2023-01-22T04:12:24.720052Z",
     "iopub.status.busy": "2023-01-22T04:12:24.719600Z",
     "iopub.status.idle": "2023-01-22T04:12:25.517843Z",
     "shell.execute_reply": "2023-01-22T04:12:25.516456Z"
    },
    "papermill": {
     "duration": 0.813176,
     "end_time": "2023-01-22T04:12:25.520474",
     "exception": false,
     "start_time": "2023-01-22T04:12:24.707298",
     "status": "completed"
    },
    "tags": []
   },
   "outputs": [],
   "source": [
    "#Get counts of the ratings for each book\n",
    "book_rating_count = ratings.groupby('ISBN').count().sort_values(by = 'Book-Rating', ascending = False)"
   ]
  },
  {
   "cell_type": "code",
   "execution_count": 14,
   "id": "6a2d2f23",
   "metadata": {
    "execution": {
     "iopub.execute_input": "2023-01-22T04:12:25.544828Z",
     "iopub.status.busy": "2023-01-22T04:12:25.544451Z",
     "iopub.status.idle": "2023-01-22T04:12:25.553342Z",
     "shell.execute_reply": "2023-01-22T04:12:25.552412Z"
    },
    "papermill": {
     "duration": 0.025383,
     "end_time": "2023-01-22T04:12:25.557278",
     "exception": false,
     "start_time": "2023-01-22T04:12:25.531895",
     "status": "completed"
    },
    "tags": []
   },
   "outputs": [
    {
     "data": {
      "text/html": [
       "<div>\n",
       "<style scoped>\n",
       "    .dataframe tbody tr th:only-of-type {\n",
       "        vertical-align: middle;\n",
       "    }\n",
       "\n",
       "    .dataframe tbody tr th {\n",
       "        vertical-align: top;\n",
       "    }\n",
       "\n",
       "    .dataframe thead th {\n",
       "        text-align: right;\n",
       "    }\n",
       "</style>\n",
       "<table border=\"1\" class=\"dataframe\">\n",
       "  <thead>\n",
       "    <tr style=\"text-align: right;\">\n",
       "      <th></th>\n",
       "      <th>User-ID</th>\n",
       "      <th>Book-Rating</th>\n",
       "    </tr>\n",
       "    <tr>\n",
       "      <th>ISBN</th>\n",
       "      <th></th>\n",
       "      <th></th>\n",
       "    </tr>\n",
       "  </thead>\n",
       "  <tbody>\n",
       "    <tr>\n",
       "      <th>0971880107</th>\n",
       "      <td>2502</td>\n",
       "      <td>2502</td>\n",
       "    </tr>\n",
       "    <tr>\n",
       "      <th>0316666343</th>\n",
       "      <td>1295</td>\n",
       "      <td>1295</td>\n",
       "    </tr>\n",
       "    <tr>\n",
       "      <th>0385504209</th>\n",
       "      <td>883</td>\n",
       "      <td>883</td>\n",
       "    </tr>\n",
       "    <tr>\n",
       "      <th>0060928336</th>\n",
       "      <td>732</td>\n",
       "      <td>732</td>\n",
       "    </tr>\n",
       "    <tr>\n",
       "      <th>0312195516</th>\n",
       "      <td>723</td>\n",
       "      <td>723</td>\n",
       "    </tr>\n",
       "    <tr>\n",
       "      <th>044023722X</th>\n",
       "      <td>647</td>\n",
       "      <td>647</td>\n",
       "    </tr>\n",
       "    <tr>\n",
       "      <th>0679781587</th>\n",
       "      <td>639</td>\n",
       "      <td>639</td>\n",
       "    </tr>\n",
       "    <tr>\n",
       "      <th>0142001740</th>\n",
       "      <td>615</td>\n",
       "      <td>615</td>\n",
       "    </tr>\n",
       "    <tr>\n",
       "      <th>067976402X</th>\n",
       "      <td>614</td>\n",
       "      <td>614</td>\n",
       "    </tr>\n",
       "    <tr>\n",
       "      <th>0671027360</th>\n",
       "      <td>586</td>\n",
       "      <td>586</td>\n",
       "    </tr>\n",
       "  </tbody>\n",
       "</table>\n",
       "</div>"
      ],
      "text/plain": [
       "            사용자 아이디  책-비율\n",
       "ISBN                            \n",
       "0971880107     2502         2502\n",
       "0316666343     1295         1295\n",
       "0385504209      883          883\n",
       "0060928336      732          732\n",
       "0312195516      723          723\n",
       "044023722X      647          647\n",
       "0679781587      639          639\n",
       "0142001740      615          615\n",
       "067976402X      614          614\n",
       "0671027360      586          586"
      ]
     },
     "execution_count": 14,
     "metadata": {},
     "output_type": "execute_result"
    }
   ],
   "source": [
    "book_rating_count.head(3)"
   ]
  },
  {
   "cell_type": "code",
   "execution_count": 15,
   "id": "427766d5",
   "metadata": {
    "execution": {
     "iopub.execute_input": "2023-01-22T04:12:25.580921Z",
     "iopub.status.busy": "2023-01-22T04:12:25.580342Z",
     "iopub.status.idle": "2023-01-22T04:12:25.587081Z",
     "shell.execute_reply": "2023-01-22T04:12:25.586056Z"
    },
    "papermill": {
     "duration": 0.021106,
     "end_time": "2023-01-22T04:12:25.589449",
     "exception": false,
     "start_time": "2023-01-22T04:12:25.568343",
     "status": "completed"
    },
    "tags": []
   },
   "outputs": [],
   "source": [
    "#only keep books with more than 50 ratings\n",
    "book_rating_count = book_rating_count[book_rating_count['User-ID'] > 50]"
   ]
  },
  {
   "cell_type": "code",
   "execution_count": 16,
   "id": "df625217",
   "metadata": {
    "execution": {
     "iopub.execute_input": "2023-01-22T04:12:25.613290Z",
     "iopub.status.busy": "2023-01-22T04:12:25.612896Z",
     "iopub.status.idle": "2023-01-22T04:12:26.420724Z",
     "shell.execute_reply": "2023-01-22T04:12:26.419572Z"
    },
    "papermill": {
     "duration": 0.822696,
     "end_time": "2023-01-22T04:12:26.423439",
     "exception": false,
     "start_time": "2023-01-22T04:12:25.600743",
     "status": "completed"
    },
    "tags": []
   },
   "outputs": [],
   "source": [
    "ratings = ratings.merge(books, on = 'ISBN')"
   ]
  },
  {
   "cell_type": "code",
   "execution_count": 17,
   "id": "c9b274f3",
   "metadata": {
    "execution": {
     "iopub.execute_input": "2023-01-22T04:12:26.448917Z",
     "iopub.status.busy": "2023-01-22T04:12:26.448255Z",
     "iopub.status.idle": "2023-01-22T04:12:26.461454Z",
     "shell.execute_reply": "2023-01-22T04:12:26.460394Z"
    },
    "papermill": {
     "duration": 0.027979,
     "end_time": "2023-01-22T04:12:26.463709",
     "exception": false,
     "start_time": "2023-01-22T04:12:26.435730",
     "status": "completed"
    },
    "tags": []
   },
   "outputs": [
    {
     "data": {
      "text/html": [
       "<div>\n",
       "<style scoped>\n",
       "    .dataframe tbody tr th:only-of-type {\n",
       "        vertical-align: middle;\n",
       "    }\n",
       "\n",
       "    .dataframe tbody tr th {\n",
       "        vertical-align: top;\n",
       "    }\n",
       "\n",
       "    .dataframe thead th {\n",
       "        text-align: right;\n",
       "    }\n",
       "</style>\n",
       "<table border=\"1\" class=\"dataframe\">\n",
       "  <thead>\n",
       "    <tr style=\"text-align: right;\">\n",
       "      <th></th>\n",
       "      <th>User-ID</th>\n",
       "      <th>ISBN</th>\n",
       "      <th>Book-Rating</th>\n",
       "      <th>Book-Title</th>\n",
       "      <th>Book-Author</th>\n",
       "      <th>Year-Of-Publication</th>\n",
       "      <th>Publisher</th>\n",
       "    </tr>\n",
       "  </thead>\n",
       "  <tbody>\n",
       "    <tr>\n",
       "      <th>0</th>\n",
       "      <td>276725</td>\n",
       "      <td>034545104X</td>\n",
       "      <td>0</td>\n",
       "      <td>Flesh Tones: A Novel</td>\n",
       "      <td>M. J. Rose</td>\n",
       "      <td>2002</td>\n",
       "      <td>Ballantine Books</td>\n",
       "    </tr>\n",
       "    <tr>\n",
       "      <th>1</th>\n",
       "      <td>2313</td>\n",
       "      <td>034545104X</td>\n",
       "      <td>5</td>\n",
       "      <td>Flesh Tones: A Novel</td>\n",
       "      <td>M. J. Rose</td>\n",
       "      <td>2002</td>\n",
       "      <td>Ballantine Books</td>\n",
       "    </tr>\n",
       "    <tr>\n",
       "      <th>2</th>\n",
       "      <td>6543</td>\n",
       "      <td>034545104X</td>\n",
       "      <td>0</td>\n",
       "      <td>Flesh Tones: A Novel</td>\n",
       "      <td>M. J. Rose</td>\n",
       "      <td>2002</td>\n",
       "      <td>Ballantine Books</td>\n",
       "    </tr>\n",
       "    <tr>\n",
       "      <th>3</th>\n",
       "      <td>8680</td>\n",
       "      <td>034545104X</td>\n",
       "      <td>5</td>\n",
       "      <td>Flesh Tones: A Novel</td>\n",
       "      <td>M. J. Rose</td>\n",
       "      <td>2002</td>\n",
       "      <td>Ballantine Books</td>\n",
       "    </tr>\n",
       "    <tr>\n",
       "      <th>4</th>\n",
       "      <td>10314</td>\n",
       "      <td>034545104X</td>\n",
       "      <td>9</td>\n",
       "      <td>Flesh Tones: A Novel</td>\n",
       "      <td>M. J. Rose</td>\n",
       "      <td>2002</td>\n",
       "      <td>Ballantine Books</td>\n",
       "    </tr>\n",
       "  </tbody>\n",
       "</table>\n",
       "</div>"
      ],
      "text/plain": [
       "   User-ID        ISBN  Book-Rating            Book-Title Book-Author  \\\n",
       "0   276725  034545104X            0  Flesh Tones: A Novel  M. J. Rose   \n",
       "1     2313  034545104X            5  Flesh Tones: A Novel  M. J. Rose   \n",
       "2     6543  034545104X            0  Flesh Tones: A Novel  M. J. Rose   \n",
       "3     8680  034545104X            5  Flesh Tones: A Novel  M. J. Rose   \n",
       "4    10314  034545104X            9  Flesh Tones: A Novel  M. J. Rose   \n",
       "\n",
       "  Year-Of-Publication         Publisher  \n",
       "0                2002  Ballantine Books  \n",
       "1                2002  Ballantine Books  \n",
       "2                2002  Ballantine Books  \n",
       "3                2002  Ballantine Books  \n",
       "4                2002  Ballantine Books  "
      ]
     },
     "execution_count": 17,
     "metadata": {},
     "output_type": "execute_result"
    }
   ],
   "source": [
    "ratings.head(7)"
   ]
  },
  {
   "cell_type": "code",
   "execution_count": 18,
   "id": "1a594dd6",
   "metadata": {
    "execution": {
     "iopub.execute_input": "2023-01-22T04:12:26.487834Z",
     "iopub.status.busy": "2023-01-22T04:12:26.487418Z",
     "iopub.status.idle": "2023-01-22T04:12:26.493866Z",
     "shell.execute_reply": "2023-01-22T04:12:26.492828Z"
    },
    "papermill": {
     "duration": 0.021071,
     "end_time": "2023-01-22T04:12:26.496124",
     "exception": false,
     "start_time": "2023-01-22T04:12:26.475053",
     "status": "completed"
    },
    "tags": []
   },
   "outputs": [
    {
     "data": {
      "text/plain": [
       "(1031136, 7)"
      ]
     },
     "execution_count": 18,
     "metadata": {},
     "output_type": "execute_result"
    }
   ],
   "source": [
    "ratings.shape"
   ]
  },
  {
   "cell_type": "code",
   "execution_count": 19,
   "id": "832d6fda",
   "metadata": {
    "execution": {
     "iopub.execute_input": "2023-01-22T04:12:26.520278Z",
     "iopub.status.busy": "2023-01-22T04:12:26.519872Z",
     "iopub.status.idle": "2023-01-22T04:12:26.879269Z",
     "shell.execute_reply": "2023-01-22T04:12:26.878092Z"
    },
    "papermill": {
     "duration": 0.374518,
     "end_time": "2023-01-22T04:12:26.882073",
     "exception": false,
     "start_time": "2023-01-22T04:12:26.507555",
     "status": "completed"
    },
    "tags": []
   },
   "outputs": [],
   "source": [
    "ratings = ratings[ratings['User-ID'].isin(user_rating_count.index)]"
   ]
  },
  {
   "cell_type": "code",
   "execution_count": 20,
   "id": "fe2a857a",
   "metadata": {
    "execution": {
     "iopub.execute_input": "2023-01-22T04:12:26.907123Z",
     "iopub.status.busy": "2023-01-22T04:12:26.906712Z",
     "iopub.status.idle": "2023-01-22T04:12:26.913027Z",
     "shell.execute_reply": "2023-01-22T04:12:26.911996Z"
    },
    "papermill": {
     "duration": 0.021943,
     "end_time": "2023-01-22T04:12:26.915605",
     "exception": false,
     "start_time": "2023-01-22T04:12:26.893662",
     "status": "completed"
    },
    "tags": []
   },
   "outputs": [
    {
     "data": {
      "text/plain": [
       "(604854, 7)"
      ]
     },
     "execution_count": 20,
     "metadata": {},
     "output_type": "execute_result"
    }
   ],
   "source": [
    "ratings.shape"
   ]
  },
  {
   "cell_type": "code",
   "execution_count": 21,
   "id": "d21db3bf",
   "metadata": {
    "execution": {
     "iopub.execute_input": "2023-01-22T04:12:26.940306Z",
     "iopub.status.busy": "2023-01-22T04:12:26.939928Z",
     "iopub.status.idle": "2023-01-22T04:12:27.025367Z",
     "shell.execute_reply": "2023-01-22T04:12:27.024495Z"
    },
    "papermill": {
     "duration": 0.100869,
     "end_time": "2023-01-22T04:12:27.028041",
     "exception": false,
     "start_time": "2023-01-22T04:12:26.927172",
     "status": "completed"
    },
    "tags": []
   },
   "outputs": [],
   "source": [
    "ratings = ratings[ratings['ISBN'].isin(book_rating_count.index)]"
   ]
  },
  {
   "cell_type": "code",
   "execution_count": 22,
   "id": "92c4b53d",
   "metadata": {
    "execution": {
     "iopub.execute_input": "2023-01-22T04:12:27.053437Z",
     "iopub.status.busy": "2023-01-22T04:12:27.052415Z",
     "iopub.status.idle": "2023-01-22T04:12:27.059049Z",
     "shell.execute_reply": "2023-01-22T04:12:27.058033Z"
    },
    "papermill": {
     "duration": 0.021703,
     "end_time": "2023-01-22T04:12:27.061267",
     "exception": false,
     "start_time": "2023-01-22T04:12:27.039564",
     "status": "completed"
    },
    "tags": []
   },
   "outputs": [
    {
     "data": {
      "text/plain": [
       "(116873, 7)"
      ]
     },
     "execution_count": 22,
     "metadata": {},
     "output_type": "execute_result"
    }
   ],
   "source": [
    "ratings.shape"
   ]
  },
  {
   "cell_type": "code",
   "execution_count": 23,
   "id": "fb39d258",
   "metadata": {
    "execution": {
     "iopub.execute_input": "2023-01-22T04:12:27.086326Z",
     "iopub.status.busy": "2023-01-22T04:12:27.085185Z",
     "iopub.status.idle": "2023-01-22T04:12:27.099031Z",
     "shell.execute_reply": "2023-01-22T04:12:27.097973Z"
    },
    "papermill": {
     "duration": 0.028617,
     "end_time": "2023-01-22T04:12:27.101348",
     "exception": false,
     "start_time": "2023-01-22T04:12:27.072731",
     "status": "completed"
    },
    "tags": []
   },
   "outputs": [
    {
     "data": {
      "text/html": [
       "<div>\n",
       "<style scoped>\n",
       "    .dataframe tbody tr th:only-of-type {\n",
       "        vertical-align: middle;\n",
       "    }\n",
       "\n",
       "    .dataframe tbody tr th {\n",
       "        vertical-align: top;\n",
       "    }\n",
       "\n",
       "    .dataframe thead th {\n",
       "        text-align: right;\n",
       "    }\n",
       "</style>\n",
       "<table border=\"1\" class=\"dataframe\">\n",
       "  <thead>\n",
       "    <tr style=\"text-align: right;\">\n",
       "      <th></th>\n",
       "      <th>User-ID</th>\n",
       "      <th>ISBN</th>\n",
       "      <th>Book-Rating</th>\n",
       "      <th>Book-Title</th>\n",
       "      <th>Book-Author</th>\n",
       "      <th>Year-Of-Publication</th>\n",
       "      <th>Publisher</th>\n",
       "    </tr>\n",
       "  </thead>\n",
       "  <tbody>\n",
       "    <tr>\n",
       "      <th>2</th>\n",
       "      <td>6543</td>\n",
       "      <td>034545104X</td>\n",
       "      <td>0</td>\n",
       "      <td>Flesh Tones: A Novel</td>\n",
       "      <td>M. J. Rose</td>\n",
       "      <td>2002</td>\n",
       "      <td>Ballantine Books</td>\n",
       "    </tr>\n",
       "    <tr>\n",
       "      <th>4</th>\n",
       "      <td>10314</td>\n",
       "      <td>034545104X</td>\n",
       "      <td>9</td>\n",
       "      <td>Flesh Tones: A Novel</td>\n",
       "      <td>M. J. Rose</td>\n",
       "      <td>2002</td>\n",
       "      <td>Ballantine Books</td>\n",
       "    </tr>\n",
       "    <tr>\n",
       "      <th>5</th>\n",
       "      <td>23768</td>\n",
       "      <td>034545104X</td>\n",
       "      <td>0</td>\n",
       "      <td>Flesh Tones: A Novel</td>\n",
       "      <td>M. J. Rose</td>\n",
       "      <td>2002</td>\n",
       "      <td>Ballantine Books</td>\n",
       "    </tr>\n",
       "    <tr>\n",
       "      <th>7</th>\n",
       "      <td>28523</td>\n",
       "      <td>034545104X</td>\n",
       "      <td>0</td>\n",
       "      <td>Flesh Tones: A Novel</td>\n",
       "      <td>M. J. Rose</td>\n",
       "      <td>2002</td>\n",
       "      <td>Ballantine Books</td>\n",
       "    </tr>\n",
       "    <tr>\n",
       "      <th>14</th>\n",
       "      <td>77480</td>\n",
       "      <td>034545104X</td>\n",
       "      <td>8</td>\n",
       "      <td>Flesh Tones: A Novel</td>\n",
       "      <td>M. J. Rose</td>\n",
       "      <td>2002</td>\n",
       "      <td>Ballantine Books</td>\n",
       "    </tr>\n",
       "  </tbody>\n",
       "</table>\n",
       "</div>"
      ],
      "text/plain": [
       "    User-ID        ISBN  Book-Rating            Book-Title Book-Author  \\\n",
       "2      6543  034545104X            0  Flesh Tones: A Novel  M. J. Rose   \n",
       "4     10314  034545104X            9  Flesh Tones: A Novel  M. J. Rose   \n",
       "5     23768  034545104X            0  Flesh Tones: A Novel  M. J. Rose   \n",
       "7     28523  034545104X            0  Flesh Tones: A Novel  M. J. Rose   \n",
       "14    77480  034545104X            8  Flesh Tones: A Novel  M. J. Rose   \n",
       "\n",
       "   Year-Of-Publication         Publisher  \n",
       "2                 2002  Ballantine Books  \n",
       "4                 2002  Ballantine Books  \n",
       "5                 2002  Ballantine Books  \n",
       "7                 2002  Ballantine Books  \n",
       "14                2002  Ballantine Books  "
      ]
     },
     "execution_count": 23,
     "metadata": {},
     "output_type": "execute_result"
    }
   ],
   "source": [
    "ratings.head()"
   ]
  },
  {
   "cell_type": "code",
   "execution_count": 24,
   "id": "f10a4d86",
   "metadata": {
    "execution": {
     "iopub.execute_input": "2023-01-22T04:12:27.126931Z",
     "iopub.status.busy": "2023-01-22T04:12:27.126500Z",
     "iopub.status.idle": "2023-01-22T04:12:27.297102Z",
     "shell.execute_reply": "2023-01-22T04:12:27.296139Z"
    },
    "papermill": {
     "duration": 0.186297,
     "end_time": "2023-01-22T04:12:27.299561",
     "exception": false,
     "start_time": "2023-01-22T04:12:27.113264",
     "status": "completed"
    },
    "tags": []
   },
   "outputs": [],
   "source": [
    "piv_table = ratings.pivot_table(columns = \"User-ID\", index = \"ISBN\", values = \"Book-Rating\")"
   ]
  },
  {
   "cell_type": "code",
   "execution_count": 25,
   "id": "feddef4c",
   "metadata": {
    "execution": {
     "iopub.execute_input": "2023-01-22T04:12:27.324886Z",
     "iopub.status.busy": "2023-01-22T04:12:27.324460Z",
     "iopub.status.idle": "2023-01-22T04:12:27.331179Z",
     "shell.execute_reply": "2023-01-22T04:12:27.330169Z"
    },
    "papermill": {
     "duration": 0.021875,
     "end_time": "2023-01-22T04:12:27.333356",
     "exception": false,
     "start_time": "2023-01-22T04:12:27.311481",
     "status": "completed"
    },
    "tags": []
   },
   "outputs": [
    {
     "data": {
      "text/plain": [
       "(2101, 1793)"
      ]
     },
     "execution_count": 25,
     "metadata": {},
     "output_type": "execute_result"
    }
   ],
   "source": [
    "piv_table.shape"
   ]
  },
  {
   "cell_type": "markdown",
   "id": "a383367c",
   "metadata": {
    "papermill": {
     "duration": 0.011469,
     "end_time": "2023-01-22T04:12:27.356586",
     "exception": false,
     "start_time": "2023-01-22T04:12:27.345117",
     "status": "completed"
    },
    "tags": []
   },
   "source": [
    "So we have 2101 books and 1792 users.\n"
   ]
  },
  {
   "cell_type": "code",
   "execution_count": 26,
   "id": "cdf946c4",
   "metadata": {
    "execution": {
     "iopub.execute_input": "2023-01-22T04:12:27.382500Z",
     "iopub.status.busy": "2023-01-22T04:12:27.381535Z",
     "iopub.status.idle": "2023-01-22T04:12:27.413329Z",
     "shell.execute_reply": "2023-01-22T04:12:27.412248Z"
    },
    "papermill": {
     "duration": 0.047086,
     "end_time": "2023-01-22T04:12:27.415563",
     "exception": false,
     "start_time": "2023-01-22T04:12:27.368477",
     "status": "completed"
    },
    "tags": []
   },
   "outputs": [
    {
     "data": {
      "text/html": [
       "<div>\n",
       "<style scoped>\n",
       "    .dataframe tbody tr th:only-of-type {\n",
       "        vertical-align: middle;\n",
       "    }\n",
       "\n",
       "    .dataframe tbody tr th {\n",
       "        vertical-align: top;\n",
       "    }\n",
       "\n",
       "    .dataframe thead th {\n",
       "        text-align: right;\n",
       "    }\n",
       "</style>\n",
       "<table border=\"1\" class=\"dataframe\">\n",
       "  <thead>\n",
       "    <tr style=\"text-align: right;\">\n",
       "      <th>User-ID</th>\n",
       "      <th>254</th>\n",
       "      <th>507</th>\n",
       "      <th>882</th>\n",
       "      <th>1424</th>\n",
       "      <th>1435</th>\n",
       "      <th>1733</th>\n",
       "      <th>1903</th>\n",
       "      <th>2033</th>\n",
       "      <th>2110</th>\n",
       "      <th>2276</th>\n",
       "      <th>...</th>\n",
       "      <th>16161</th>\n",
       "      <th>16413</th>\n",
       "      <th>16488</th>\n",
       "      <th>16601</th>\n",
       "      <th>16634</th>\n",
       "      <th>16721</th>\n",
       "      <th>16795</th>\n",
       "      <th>16916</th>\n",
       "      <th>16943</th>\n",
       "      <th>16966</th>\n",
       "    </tr>\n",
       "    <tr>\n",
       "      <th>ISBN</th>\n",
       "      <th></th>\n",
       "      <th></th>\n",
       "      <th></th>\n",
       "      <th></th>\n",
       "      <th></th>\n",
       "      <th></th>\n",
       "      <th></th>\n",
       "      <th></th>\n",
       "      <th></th>\n",
       "      <th></th>\n",
       "      <th></th>\n",
       "      <th></th>\n",
       "      <th></th>\n",
       "      <th></th>\n",
       "      <th></th>\n",
       "      <th></th>\n",
       "      <th></th>\n",
       "      <th></th>\n",
       "      <th></th>\n",
       "      <th></th>\n",
       "      <th></th>\n",
       "    </tr>\n",
       "  </thead>\n",
       "  <tbody>\n",
       "    <tr>\n",
       "      <th>000649840X</th>\n",
       "      <td>NaN</td>\n",
       "      <td>NaN</td>\n",
       "      <td>NaN</td>\n",
       "      <td>NaN</td>\n",
       "      <td>NaN</td>\n",
       "      <td>NaN</td>\n",
       "      <td>NaN</td>\n",
       "      <td>NaN</td>\n",
       "      <td>NaN</td>\n",
       "      <td>NaN</td>\n",
       "      <td>...</td>\n",
       "      <td>NaN</td>\n",
       "      <td>NaN</td>\n",
       "      <td>NaN</td>\n",
       "      <td>NaN</td>\n",
       "      <td>NaN</td>\n",
       "      <td>NaN</td>\n",
       "      <td>NaN</td>\n",
       "      <td>NaN</td>\n",
       "      <td>NaN</td>\n",
       "      <td>NaN</td>\n",
       "    </tr>\n",
       "    <tr>\n",
       "      <th>002026478X</th>\n",
       "      <td>NaN</td>\n",
       "      <td>NaN</td>\n",
       "      <td>NaN</td>\n",
       "      <td>NaN</td>\n",
       "      <td>NaN</td>\n",
       "      <td>NaN</td>\n",
       "      <td>NaN</td>\n",
       "      <td>NaN</td>\n",
       "      <td>NaN</td>\n",
       "      <td>NaN</td>\n",
       "      <td>...</td>\n",
       "      <td>NaN</td>\n",
       "      <td>NaN</td>\n",
       "      <td>0.0</td>\n",
       "      <td>NaN</td>\n",
       "      <td>NaN</td>\n",
       "      <td>NaN</td>\n",
       "      <td>NaN</td>\n",
       "      <td>NaN</td>\n",
       "      <td>NaN</td>\n",
       "      <td>NaN</td>\n",
       "    </tr>\n",
       "    <tr>\n",
       "      <th>0020442203</th>\n",
       "      <td>NaN</td>\n",
       "      <td>NaN</td>\n",
       "      <td>NaN</td>\n",
       "      <td>NaN</td>\n",
       "      <td>NaN</td>\n",
       "      <td>NaN</td>\n",
       "      <td>NaN</td>\n",
       "      <td>NaN</td>\n",
       "      <td>NaN</td>\n",
       "      <td>NaN</td>\n",
       "      <td>...</td>\n",
       "      <td>NaN</td>\n",
       "      <td>NaN</td>\n",
       "      <td>NaN</td>\n",
       "      <td>NaN</td>\n",
       "      <td>9.0</td>\n",
       "      <td>NaN</td>\n",
       "      <td>NaN</td>\n",
       "      <td>NaN</td>\n",
       "      <td>NaN</td>\n",
       "      <td>NaN</td>\n",
       "    </tr>\n",
       "    <tr>\n",
       "      <th>002542730X</th>\n",
       "      <td>NaN</td>\n",
       "      <td>NaN</td>\n",
       "      <td>NaN</td>\n",
       "      <td>NaN</td>\n",
       "      <td>NaN</td>\n",
       "      <td>NaN</td>\n",
       "      <td>NaN</td>\n",
       "      <td>NaN</td>\n",
       "      <td>NaN</td>\n",
       "      <td>NaN</td>\n",
       "      <td>...</td>\n",
       "      <td>NaN</td>\n",
       "      <td>NaN</td>\n",
       "      <td>NaN</td>\n",
       "      <td>NaN</td>\n",
       "      <td>NaN</td>\n",
       "      <td>NaN</td>\n",
       "      <td>0.0</td>\n",
       "      <td>NaN</td>\n",
       "      <td>NaN</td>\n",
       "      <td>NaN</td>\n",
       "    </tr>\n",
       "    <tr>\n",
       "      <th>0028604199</th>\n",
       "      <td>NaN</td>\n",
       "      <td>NaN</td>\n",
       "      <td>NaN</td>\n",
       "      <td>NaN</td>\n",
       "      <td>NaN</td>\n",
       "      <td>NaN</td>\n",
       "      <td>NaN</td>\n",
       "      <td>NaN</td>\n",
       "      <td>NaN</td>\n",
       "      <td>NaN</td>\n",
       "      <td>...</td>\n",
       "      <td>NaN</td>\n",
       "      <td>NaN</td>\n",
       "      <td>NaN</td>\n",
       "      <td>NaN</td>\n",
       "      <td>NaN</td>\n",
       "      <td>NaN</td>\n",
       "      <td>NaN</td>\n",
       "      <td>NaN</td>\n",
       "      <td>NaN</td>\n",
       "      <td>NaN</td>\n",
       "    </tr>\n",
       "    <tr>\n",
       "      <th>...</th>\n",
       "      <td>...</td>\n",
       "      <td>...</td>\n",
       "      <td>...</td>\n",
       "      <td>...</td>\n",
       "      <td>...</td>\n",
       "      <td>...</td>\n",
       "      <td>...</td>\n",
       "      <td>...</td>\n",
       "      <td>...</td>\n",
       "      <td>...</td>\n",
       "      <td>...</td>\n",
       "      <td>...</td>\n",
       "      <td>...</td>\n",
       "      <td>...</td>\n",
       "      <td>...</td>\n",
       "      <td>...</td>\n",
       "      <td>...</td>\n",
       "      <td>...</td>\n",
       "      <td>...</td>\n",
       "      <td>...</td>\n",
       "      <td>...</td>\n",
       "    </tr>\n",
       "    <tr>\n",
       "      <th>0061097659</th>\n",
       "      <td>NaN</td>\n",
       "      <td>NaN</td>\n",
       "      <td>NaN</td>\n",
       "      <td>NaN</td>\n",
       "      <td>NaN</td>\n",
       "      <td>NaN</td>\n",
       "      <td>NaN</td>\n",
       "      <td>NaN</td>\n",
       "      <td>NaN</td>\n",
       "      <td>NaN</td>\n",
       "      <td>...</td>\n",
       "      <td>NaN</td>\n",
       "      <td>NaN</td>\n",
       "      <td>NaN</td>\n",
       "      <td>NaN</td>\n",
       "      <td>NaN</td>\n",
       "      <td>NaN</td>\n",
       "      <td>NaN</td>\n",
       "      <td>NaN</td>\n",
       "      <td>NaN</td>\n",
       "      <td>NaN</td>\n",
       "    </tr>\n",
       "    <tr>\n",
       "      <th>0061097853</th>\n",
       "      <td>NaN</td>\n",
       "      <td>NaN</td>\n",
       "      <td>NaN</td>\n",
       "      <td>NaN</td>\n",
       "      <td>NaN</td>\n",
       "      <td>NaN</td>\n",
       "      <td>NaN</td>\n",
       "      <td>NaN</td>\n",
       "      <td>NaN</td>\n",
       "      <td>NaN</td>\n",
       "      <td>...</td>\n",
       "      <td>NaN</td>\n",
       "      <td>NaN</td>\n",
       "      <td>NaN</td>\n",
       "      <td>NaN</td>\n",
       "      <td>NaN</td>\n",
       "      <td>NaN</td>\n",
       "      <td>NaN</td>\n",
       "      <td>NaN</td>\n",
       "      <td>NaN</td>\n",
       "      <td>NaN</td>\n",
       "    </tr>\n",
       "    <tr>\n",
       "      <th>0061097861</th>\n",
       "      <td>NaN</td>\n",
       "      <td>NaN</td>\n",
       "      <td>NaN</td>\n",
       "      <td>NaN</td>\n",
       "      <td>NaN</td>\n",
       "      <td>NaN</td>\n",
       "      <td>NaN</td>\n",
       "      <td>NaN</td>\n",
       "      <td>NaN</td>\n",
       "      <td>NaN</td>\n",
       "      <td>...</td>\n",
       "      <td>NaN</td>\n",
       "      <td>NaN</td>\n",
       "      <td>NaN</td>\n",
       "      <td>NaN</td>\n",
       "      <td>NaN</td>\n",
       "      <td>NaN</td>\n",
       "      <td>NaN</td>\n",
       "      <td>NaN</td>\n",
       "      <td>NaN</td>\n",
       "      <td>NaN</td>\n",
       "    </tr>\n",
       "    <tr>\n",
       "      <th>0061098035</th>\n",
       "      <td>NaN</td>\n",
       "      <td>NaN</td>\n",
       "      <td>NaN</td>\n",
       "      <td>NaN</td>\n",
       "      <td>NaN</td>\n",
       "      <td>NaN</td>\n",
       "      <td>NaN</td>\n",
       "      <td>NaN</td>\n",
       "      <td>NaN</td>\n",
       "      <td>NaN</td>\n",
       "      <td>...</td>\n",
       "      <td>NaN</td>\n",
       "      <td>NaN</td>\n",
       "      <td>NaN</td>\n",
       "      <td>NaN</td>\n",
       "      <td>NaN</td>\n",
       "      <td>NaN</td>\n",
       "      <td>0.0</td>\n",
       "      <td>NaN</td>\n",
       "      <td>NaN</td>\n",
       "      <td>NaN</td>\n",
       "    </tr>\n",
       "    <tr>\n",
       "      <th>0061098361</th>\n",
       "      <td>NaN</td>\n",
       "      <td>NaN</td>\n",
       "      <td>NaN</td>\n",
       "      <td>NaN</td>\n",
       "      <td>NaN</td>\n",
       "      <td>NaN</td>\n",
       "      <td>NaN</td>\n",
       "      <td>NaN</td>\n",
       "      <td>NaN</td>\n",
       "      <td>NaN</td>\n",
       "      <td>...</td>\n",
       "      <td>NaN</td>\n",
       "      <td>NaN</td>\n",
       "      <td>NaN</td>\n",
       "      <td>NaN</td>\n",
       "      <td>NaN</td>\n",
       "      <td>NaN</td>\n",
       "      <td>0.0</td>\n",
       "      <td>NaN</td>\n",
       "      <td>NaN</td>\n",
       "      <td>NaN</td>\n",
       "    </tr>\n",
       "  </tbody>\n",
       "</table>\n",
       "<p>100 rows × 100 columns</p>\n",
       "</div>"
      ],
      "text/plain": [
       "User-ID     254    507    882    1424   1435   1733   1903   2033   2110   \\\n",
       "ISBN                                                                        \n",
       "000649840X    NaN    NaN    NaN    NaN    NaN    NaN    NaN    NaN    NaN   \n",
       "002026478X    NaN    NaN    NaN    NaN    NaN    NaN    NaN    NaN    NaN   \n",
       "0020442203    NaN    NaN    NaN    NaN    NaN    NaN    NaN    NaN    NaN   \n",
       "002542730X    NaN    NaN    NaN    NaN    NaN    NaN    NaN    NaN    NaN   \n",
       "0028604199    NaN    NaN    NaN    NaN    NaN    NaN    NaN    NaN    NaN   \n",
       "...           ...    ...    ...    ...    ...    ...    ...    ...    ...   \n",
       "0061097659    NaN    NaN    NaN    NaN    NaN    NaN    NaN    NaN    NaN   \n",
       "0061097853    NaN    NaN    NaN    NaN    NaN    NaN    NaN    NaN    NaN   \n",
       "0061097861    NaN    NaN    NaN    NaN    NaN    NaN    NaN    NaN    NaN   \n",
       "0061098035    NaN    NaN    NaN    NaN    NaN    NaN    NaN    NaN    NaN   \n",
       "0061098361    NaN    NaN    NaN    NaN    NaN    NaN    NaN    NaN    NaN   \n",
       "\n",
       "User-ID     2276   ...  16161  16413  16488  16601  16634  16721  16795  \\\n",
       "ISBN               ...                                                    \n",
       "000649840X    NaN  ...    NaN    NaN    NaN    NaN    NaN    NaN    NaN   \n",
       "002026478X    NaN  ...    NaN    NaN    0.0    NaN    NaN    NaN    NaN   \n",
       "0020442203    NaN  ...    NaN    NaN    NaN    NaN    9.0    NaN    NaN   \n",
       "002542730X    NaN  ...    NaN    NaN    NaN    NaN    NaN    NaN    0.0   \n",
       "0028604199    NaN  ...    NaN    NaN    NaN    NaN    NaN    NaN    NaN   \n",
       "...           ...  ...    ...    ...    ...    ...    ...    ...    ...   \n",
       "0061097659    NaN  ...    NaN    NaN    NaN    NaN    NaN    NaN    NaN   \n",
       "0061097853    NaN  ...    NaN    NaN    NaN    NaN    NaN    NaN    NaN   \n",
       "0061097861    NaN  ...    NaN    NaN    NaN    NaN    NaN    NaN    NaN   \n",
       "0061098035    NaN  ...    NaN    NaN    NaN    NaN    NaN    NaN    0.0   \n",
       "0061098361    NaN  ...    NaN    NaN    NaN    NaN    NaN    NaN    0.0   \n",
       "\n",
       "User-ID     16916  16943  16966  \n",
       "ISBN                             \n",
       "000649840X    NaN    NaN    NaN  \n",
       "002026478X    NaN    NaN    NaN  \n",
       "0020442203    NaN    NaN    NaN  \n",
       "002542730X    NaN    NaN    NaN  \n",
       "0028604199    NaN    NaN    NaN  \n",
       "...           ...    ...    ...  \n",
       "0061097659    NaN    NaN    NaN  \n",
       "0061097853    NaN    NaN    NaN  \n",
       "0061097861    NaN    NaN    NaN  \n",
       "0061098035    NaN    NaN    NaN  \n",
       "0061098361    NaN    NaN    NaN  \n",
       "\n",
       "[100 rows x 100 columns]"
      ]
     },
     "execution_count": 26,
     "metadata": {},
     "output_type": "execute_result"
    }
   ],
   "source": [
    "piv_table.iloc[:100, :100]"
   ]
  },
  {
   "cell_type": "markdown",
   "id": "4547ce12",
   "metadata": {
    "papermill": {
     "duration": 0.012276,
     "end_time": "2023-01-22T04:12:27.440515",
     "exception": false,
     "start_time": "2023-01-22T04:12:27.428239",
     "status": "completed"
    },
    "tags": []
   },
   "source": [
    "As you can see it is a very sparse table with most values as NaN. We will replace Nan to 0 to logically define that if  user A has given a rating of 0 we will not recommend that to similar users. This is true if user A has not read the book as well."
   ]
  },
  {
   "cell_type": "code",
   "execution_count": 27,
   "id": "7a6f1821",
   "metadata": {
    "execution": {
     "iopub.execute_input": "2023-01-22T04:12:27.466948Z",
     "iopub.status.busy": "2023-01-22T04:12:27.466545Z",
     "iopub.status.idle": "2023-01-22T04:12:27.485988Z",
     "shell.execute_reply": "2023-01-22T04:12:27.484786Z"
    },
    "papermill": {
     "duration": 0.035647,
     "end_time": "2023-01-22T04:12:27.488618",
     "exception": false,
     "start_time": "2023-01-22T04:12:27.452971",
     "status": "completed"
    },
    "tags": []
   },
   "outputs": [],
   "source": [
    "piv_table = piv_table.fillna(0)"
   ]
  },
  {
   "cell_type": "code",
   "execution_count": 28,
   "id": "125e1252",
   "metadata": {
    "execution": {
     "iopub.execute_input": "2023-01-22T04:12:27.515919Z",
     "iopub.status.busy": "2023-01-22T04:12:27.515108Z",
     "iopub.status.idle": "2023-01-22T04:12:27.534795Z",
     "shell.execute_reply": "2023-01-22T04:12:27.533716Z"
    },
    "papermill": {
     "duration": 0.036202,
     "end_time": "2023-01-22T04:12:27.537169",
     "exception": false,
     "start_time": "2023-01-22T04:12:27.500967",
     "status": "completed"
    },
    "tags": []
   },
   "outputs": [
    {
     "data": {
      "text/plain": [
       "0"
      ]
     },
     "execution_count": 28,
     "metadata": {},
     "output_type": "execute_result"
    }
   ],
   "source": [
    "pd.DataFrame(piv_table).isnull().sum().sum()"
   ]
  },
  {
   "cell_type": "code",
   "execution_count": 29,
   "id": "d02201b0",
   "metadata": {
    "execution": {
     "iopub.execute_input": "2023-01-22T04:12:27.564708Z",
     "iopub.status.busy": "2023-01-22T04:12:27.563758Z",
     "iopub.status.idle": "2023-01-22T04:12:28.523308Z",
     "shell.execute_reply": "2023-01-22T04:12:28.522396Z"
    },
    "papermill": {
     "duration": 0.975787,
     "end_time": "2023-01-22T04:12:28.525532",
     "exception": false,
     "start_time": "2023-01-22T04:12:27.549745",
     "status": "completed"
    },
    "tags": []
   },
   "outputs": [
    {
     "data": {
      "text/plain": [
       "NearestNeighbors(algorithm='brute')"
      ]
     },
     "execution_count": 29,
     "metadata": {},
     "output_type": "execute_result"
    }
   ],
   "source": [
    "from sklearn.neighbors import NearestNeighbors\n",
    "model = NearestNeighbors(algorithm='brute')\n",
    "model.fit(piv_table)"
   ]
  },
  {
   "cell_type": "markdown",
   "id": "d48018e0",
   "metadata": {
    "papermill": {
     "duration": 0.012307,
     "end_time": "2023-01-22T04:12:28.550365",
     "exception": false,
     "start_time": "2023-01-22T04:12:28.538058",
     "status": "completed"
    },
    "tags": []
   },
   "source": [
    "Let's list a few books at random and see which one wwe know. "
   ]
  },
  {
   "cell_type": "code",
   "execution_count": 30,
   "id": "5150159f",
   "metadata": {
    "execution": {
     "iopub.execute_input": "2023-01-22T04:12:28.577850Z",
     "iopub.status.busy": "2023-01-22T04:12:28.577040Z",
     "iopub.status.idle": "2023-01-22T04:12:28.598043Z",
     "shell.execute_reply": "2023-01-22T04:12:28.596936Z"
    },
    "papermill": {
     "duration": 0.037713,
     "end_time": "2023-01-22T04:12:28.600465",
     "exception": false,
     "start_time": "2023-01-22T04:12:28.562752",
     "status": "completed"
    },
    "tags": []
   },
   "outputs": [
    {
     "data": {
      "text/html": [
       "<div>\n",
       "<style scoped>\n",
       "    .dataframe tbody tr th:only-of-type {\n",
       "        vertical-align: middle;\n",
       "    }\n",
       "\n",
       "    .dataframe tbody tr th {\n",
       "        vertical-align: top;\n",
       "    }\n",
       "\n",
       "    .dataframe thead th {\n",
       "        text-align: right;\n",
       "    }\n",
       "</style>\n",
       "<table border=\"1\" class=\"dataframe\">\n",
       "  <thead>\n",
       "    <tr style=\"text-align: right;\">\n",
       "      <th></th>\n",
       "      <th>User-ID</th>\n",
       "      <th>ISBN</th>\n",
       "      <th>Book-Rating</th>\n",
       "      <th>Book-Title</th>\n",
       "      <th>Book-Author</th>\n",
       "      <th>Year-Of-Publication</th>\n",
       "      <th>Publisher</th>\n",
       "    </tr>\n",
       "  </thead>\n",
       "  <tbody>\n",
       "    <tr>\n",
       "      <th>195739</th>\n",
       "      <td>245963</td>\n",
       "      <td>0446364762</td>\n",
       "      <td>0</td>\n",
       "      <td>The Stars Shine Down</td>\n",
       "      <td>Sidney Sheldon</td>\n",
       "      <td>1993</td>\n",
       "      <td>Warner Books</td>\n",
       "    </tr>\n",
       "    <tr>\n",
       "      <th>93934</th>\n",
       "      <td>220278</td>\n",
       "      <td>0446672211</td>\n",
       "      <td>0</td>\n",
       "      <td>Where the Heart Is (Oprah's Book Club (Paperba...</td>\n",
       "      <td>Billie Letts</td>\n",
       "      <td>1998</td>\n",
       "      <td>Warner Books</td>\n",
       "    </tr>\n",
       "    <tr>\n",
       "      <th>462916</th>\n",
       "      <td>35859</td>\n",
       "      <td>038531292X</td>\n",
       "      <td>0</td>\n",
       "      <td>The Gift</td>\n",
       "      <td>Danielle Steel</td>\n",
       "      <td>1994</td>\n",
       "      <td>Delacorte Press</td>\n",
       "    </tr>\n",
       "    <tr>\n",
       "      <th>292878</th>\n",
       "      <td>218568</td>\n",
       "      <td>0385314698</td>\n",
       "      <td>6</td>\n",
       "      <td>The Sixteen Pleasures: A Novel</td>\n",
       "      <td>Robert Hellenga</td>\n",
       "      <td>1995</td>\n",
       "      <td>Delta</td>\n",
       "    </tr>\n",
       "    <tr>\n",
       "      <th>40786</th>\n",
       "      <td>190925</td>\n",
       "      <td>0553576801</td>\n",
       "      <td>0</td>\n",
       "      <td>The Perfect Husband</td>\n",
       "      <td>LISA GARDNER</td>\n",
       "      <td>1997</td>\n",
       "      <td>Bantam</td>\n",
       "    </tr>\n",
       "    <tr>\n",
       "      <th>...</th>\n",
       "      <td>...</td>\n",
       "      <td>...</td>\n",
       "      <td>...</td>\n",
       "      <td>...</td>\n",
       "      <td>...</td>\n",
       "      <td>...</td>\n",
       "      <td>...</td>\n",
       "    </tr>\n",
       "    <tr>\n",
       "      <th>245959</th>\n",
       "      <td>168064</td>\n",
       "      <td>0743211375</td>\n",
       "      <td>0</td>\n",
       "      <td>From a Buick 8 : A Novel</td>\n",
       "      <td>Stephen King</td>\n",
       "      <td>2002</td>\n",
       "      <td>Scribner</td>\n",
       "    </tr>\n",
       "    <tr>\n",
       "      <th>296126</th>\n",
       "      <td>264317</td>\n",
       "      <td>1573225517</td>\n",
       "      <td>0</td>\n",
       "      <td>High Fidelity</td>\n",
       "      <td>Nick Hornby</td>\n",
       "      <td>1996</td>\n",
       "      <td>Riverhead Books</td>\n",
       "    </tr>\n",
       "    <tr>\n",
       "      <th>185532</th>\n",
       "      <td>270713</td>\n",
       "      <td>0553278398</td>\n",
       "      <td>0</td>\n",
       "      <td>Prelude to Foundation (Foundation Novels (Pape...</td>\n",
       "      <td>ISAAC ASIMOV</td>\n",
       "      <td>1989</td>\n",
       "      <td>Spectra</td>\n",
       "    </tr>\n",
       "    <tr>\n",
       "      <th>24009</th>\n",
       "      <td>26593</td>\n",
       "      <td>0449221512</td>\n",
       "      <td>0</td>\n",
       "      <td>I Is for Innocent</td>\n",
       "      <td>Sue Grafton</td>\n",
       "      <td>1994</td>\n",
       "      <td>Fawcett Books</td>\n",
       "    </tr>\n",
       "    <tr>\n",
       "      <th>176701</th>\n",
       "      <td>127129</td>\n",
       "      <td>0440224624</td>\n",
       "      <td>0</td>\n",
       "      <td>The Loop</td>\n",
       "      <td>Nicholas Evans</td>\n",
       "      <td>1999</td>\n",
       "      <td>Dell Publishing Company</td>\n",
       "    </tr>\n",
       "  </tbody>\n",
       "</table>\n",
       "<p>117 rows × 7 columns</p>\n",
       "</div>"
      ],
      "text/plain": [
       "        User-ID        ISBN  Book-Rating  \\\n",
       "195739   245963  0446364762            0   \n",
       "93934    220278  0446672211            0   \n",
       "462916    35859  038531292X            0   \n",
       "292878   218568  0385314698            6   \n",
       "40786    190925  0553576801            0   \n",
       "...         ...         ...          ...   \n",
       "245959   168064  0743211375            0   \n",
       "296126   264317  1573225517            0   \n",
       "185532   270713  0553278398            0   \n",
       "24009     26593  0449221512            0   \n",
       "176701   127129  0440224624            0   \n",
       "\n",
       "                                               Book-Title      Book-Author  \\\n",
       "195739                               The Stars Shine Down   Sidney Sheldon   \n",
       "93934   Where the Heart Is (Oprah's Book Club (Paperba...     Billie Letts   \n",
       "462916                                           The Gift   Danielle Steel   \n",
       "292878                     The Sixteen Pleasures: A Novel  Robert Hellenga   \n",
       "40786                                 The Perfect Husband     LISA GARDNER   \n",
       "...                                                   ...              ...   \n",
       "245959                           From a Buick 8 : A Novel     Stephen King   \n",
       "296126                                      High Fidelity      Nick Hornby   \n",
       "185532  Prelude to Foundation (Foundation Novels (Pape...     ISAAC ASIMOV   \n",
       "24009                                   I Is for Innocent      Sue Grafton   \n",
       "176701                                           The Loop   Nicholas Evans   \n",
       "\n",
       "       Year-Of-Publication                Publisher  \n",
       "195739                1993             Warner Books  \n",
       "93934                 1998             Warner Books  \n",
       "462916                1994          Delacorte Press  \n",
       "292878                1995                    Delta  \n",
       "40786                 1997                   Bantam  \n",
       "...                    ...                      ...  \n",
       "245959                2002                 Scribner  \n",
       "296126                1996          Riverhead Books  \n",
       "185532                1989                  Spectra  \n",
       "24009                 1994            Fawcett Books  \n",
       "176701                1999  Dell Publishing Company  \n",
       "\n",
       "[117 rows x 7 columns]"
      ]
     },
     "execution_count": 30,
     "metadata": {},
     "output_type": "execute_result"
    }
   ],
   "source": [
    "ratings.sample(frac = 0.001)"
   ]
  },
  {
   "cell_type": "code",
   "execution_count": null,
   "id": "796e53df",
   "metadata": {
    "papermill": {
     "duration": 0.012603,
     "end_time": "2023-01-22T04:12:28.626239",
     "exception": false,
     "start_time": "2023-01-22T04:12:28.613636",
     "status": "completed"
    },
    "tags": []
   },
   "outputs": [],
   "source": []
  },
  {
   "cell_type": "markdown",
   "id": "2a4fdfa7",
   "metadata": {
    "papermill": {
     "duration": 0.012906,
     "end_time": "2023-01-22T04:12:28.652178",
     "exception": false,
     "start_time": "2023-01-22T04:12:28.639272",
     "status": "completed"
    },
    "tags": []
   },
   "source": []
  },
  {
   "cell_type": "markdown",
   "id": "9ebce188",
   "metadata": {
    "papermill": {
     "duration": 0.012955,
     "end_time": "2023-01-22T04:12:28.678871",
     "exception": false,
     "start_time": "2023-01-22T04:12:28.665916",
     "status": "completed"
    },
    "tags": []
   },
   "source": [
    "I had to sample multiple times to get a book that I have read. 'The Fellowship of the Ring' with ISBN 0618002227 at index 196979"
   ]
  },
  {
   "cell_type": "markdown",
   "id": "a8316699",
   "metadata": {
    "papermill": {
     "duration": 0.01271,
     "end_time": "2023-01-22T04:12:28.704330",
     "exception": false,
     "start_time": "2023-01-22T04:12:28.691620",
     "status": "completed"
    },
    "tags": []
   },
   "source": []
  },
  {
   "cell_type": "code",
   "execution_count": 31,
   "id": "0167d411",
   "metadata": {
    "execution": {
     "iopub.execute_input": "2023-01-22T04:12:28.731619Z",
     "iopub.status.busy": "2023-01-22T04:12:28.731236Z",
     "iopub.status.idle": "2023-01-22T04:12:28.755271Z",
     "shell.execute_reply": "2023-01-22T04:12:28.754221Z"
    },
    "papermill": {
     "duration": 0.040494,
     "end_time": "2023-01-22T04:12:28.757586",
     "exception": false,
     "start_time": "2023-01-22T04:12:28.717092",
     "status": "completed"
    },
    "tags": []
   },
   "outputs": [
    {
     "data": {
      "text/html": [
       "<div>\n",
       "<style scoped>\n",
       "    .dataframe tbody tr th:only-of-type {\n",
       "        vertical-align: middle;\n",
       "    }\n",
       "\n",
       "    .dataframe tbody tr th {\n",
       "        vertical-align: top;\n",
       "    }\n",
       "\n",
       "    .dataframe thead th {\n",
       "        text-align: right;\n",
       "    }\n",
       "</style>\n",
       "<table border=\"1\" class=\"dataframe\">\n",
       "  <thead>\n",
       "    <tr style=\"text-align: right;\">\n",
       "      <th>User-ID</th>\n",
       "      <th>254</th>\n",
       "      <th>507</th>\n",
       "      <th>882</th>\n",
       "      <th>1424</th>\n",
       "      <th>1435</th>\n",
       "      <th>1733</th>\n",
       "      <th>1903</th>\n",
       "      <th>2033</th>\n",
       "      <th>2110</th>\n",
       "      <th>2276</th>\n",
       "      <th>...</th>\n",
       "      <th>276018</th>\n",
       "      <th>276463</th>\n",
       "      <th>276680</th>\n",
       "      <th>276925</th>\n",
       "      <th>277427</th>\n",
       "      <th>277478</th>\n",
       "      <th>277639</th>\n",
       "      <th>278137</th>\n",
       "      <th>278188</th>\n",
       "      <th>278418</th>\n",
       "    </tr>\n",
       "    <tr>\n",
       "      <th>ISBN</th>\n",
       "      <th></th>\n",
       "      <th></th>\n",
       "      <th></th>\n",
       "      <th></th>\n",
       "      <th></th>\n",
       "      <th></th>\n",
       "      <th></th>\n",
       "      <th></th>\n",
       "      <th></th>\n",
       "      <th></th>\n",
       "      <th></th>\n",
       "      <th></th>\n",
       "      <th></th>\n",
       "      <th></th>\n",
       "      <th></th>\n",
       "      <th></th>\n",
       "      <th></th>\n",
       "      <th></th>\n",
       "      <th></th>\n",
       "      <th></th>\n",
       "      <th></th>\n",
       "    </tr>\n",
       "  </thead>\n",
       "  <tbody>\n",
       "    <tr>\n",
       "      <th>0618002227</th>\n",
       "      <td>8.0</td>\n",
       "      <td>0.0</td>\n",
       "      <td>0.0</td>\n",
       "      <td>0.0</td>\n",
       "      <td>0.0</td>\n",
       "      <td>0.0</td>\n",
       "      <td>0.0</td>\n",
       "      <td>0.0</td>\n",
       "      <td>0.0</td>\n",
       "      <td>0.0</td>\n",
       "      <td>...</td>\n",
       "      <td>0.0</td>\n",
       "      <td>0.0</td>\n",
       "      <td>0.0</td>\n",
       "      <td>0.0</td>\n",
       "      <td>0.0</td>\n",
       "      <td>0.0</td>\n",
       "      <td>0.0</td>\n",
       "      <td>0.0</td>\n",
       "      <td>0.0</td>\n",
       "      <td>0.0</td>\n",
       "    </tr>\n",
       "  </tbody>\n",
       "</table>\n",
       "<p>1 rows × 1793 columns</p>\n",
       "</div>"
      ],
      "text/plain": [
       "User-ID     254     507     882     1424    1435    1733    1903    2033    \\\n",
       "ISBN                                                                         \n",
       "0618002227     8.0     0.0     0.0     0.0     0.0     0.0     0.0     0.0   \n",
       "\n",
       "User-ID     2110    2276    ...  276018  276463  276680  276925  277427  \\\n",
       "ISBN                        ...                                           \n",
       "0618002227     0.0     0.0  ...     0.0     0.0     0.0     0.0     0.0   \n",
       "\n",
       "User-ID     277478  277639  278137  278188  278418  \n",
       "ISBN                                                \n",
       "0618002227     0.0     0.0     0.0     0.0     0.0  \n",
       "\n",
       "[1 rows x 1793 columns]"
      ]
     },
     "execution_count": 31,
     "metadata": {},
     "output_type": "execute_result"
    }
   ],
   "source": [
    "piv_table[piv_table.index == '0618002227']"
   ]
  },
  {
   "cell_type": "code",
   "execution_count": 32,
   "id": "c270a3d3",
   "metadata": {
    "execution": {
     "iopub.execute_input": "2023-01-22T04:12:28.786271Z",
     "iopub.status.busy": "2023-01-22T04:12:28.785886Z",
     "iopub.status.idle": "2023-01-22T04:12:28.791580Z",
     "shell.execute_reply": "2023-01-22T04:12:28.790553Z"
    },
    "papermill": {
     "duration": 0.022734,
     "end_time": "2023-01-22T04:12:28.793991",
     "exception": false,
     "start_time": "2023-01-22T04:12:28.771257",
     "status": "completed"
    },
    "tags": []
   },
   "outputs": [],
   "source": [
    "test_book = piv_table[piv_table.index == '0618002227'].values"
   ]
  },
  {
   "cell_type": "code",
   "execution_count": 33,
   "id": "99fff1fd",
   "metadata": {
    "execution": {
     "iopub.execute_input": "2023-01-22T04:12:28.822351Z",
     "iopub.status.busy": "2023-01-22T04:12:28.821987Z",
     "iopub.status.idle": "2023-01-22T04:12:28.827441Z",
     "shell.execute_reply": "2023-01-22T04:12:28.826747Z"
    },
    "papermill": {
     "duration": 0.022123,
     "end_time": "2023-01-22T04:12:28.829470",
     "exception": false,
     "start_time": "2023-01-22T04:12:28.807347",
     "status": "completed"
    },
    "tags": []
   },
   "outputs": [
    {
     "data": {
      "text/plain": [
       "array([[8., 0., 0., ..., 0., 0., 0.]])"
      ]
     },
     "execution_count": 33,
     "metadata": {},
     "output_type": "execute_result"
    }
   ],
   "source": [
    "test_book"
   ]
  },
  {
   "cell_type": "code",
   "execution_count": 34,
   "id": "72e404a6",
   "metadata": {
    "execution": {
     "iopub.execute_input": "2023-01-22T04:12:28.857356Z",
     "iopub.status.busy": "2023-01-22T04:12:28.856981Z",
     "iopub.status.idle": "2023-01-22T04:12:28.879413Z",
     "shell.execute_reply": "2023-01-22T04:12:28.877977Z"
    },
    "papermill": {
     "duration": 0.040614,
     "end_time": "2023-01-22T04:12:28.883364",
     "exception": false,
     "start_time": "2023-01-22T04:12:28.842750",
     "status": "completed"
    },
    "tags": []
   },
   "outputs": [
    {
     "data": {
      "text/plain": [
       "(array([[ 0.        , 41.76122604, 41.78516483, 41.78516483, 41.86884283]]),\n",
       " array([[1626, 1001, 2088, 2098, 1299]]))"
      ]
     },
     "execution_count": 34,
     "metadata": {},
     "output_type": "execute_result"
    }
   ],
   "source": [
    "model.kneighbors(test_book)"
   ]
  },
  {
   "cell_type": "markdown",
   "id": "9c4f3cf5",
   "metadata": {
    "papermill": {
     "duration": 0.034242,
     "end_time": "2023-01-22T04:12:28.953134",
     "exception": false,
     "start_time": "2023-01-22T04:12:28.918892",
     "status": "completed"
    },
    "tags": []
   },
   "source": [
    "From the doc we are getting distances and the "
   ]
  },
  {
   "cell_type": "code",
   "execution_count": 35,
   "id": "d50039b5",
   "metadata": {
    "execution": {
     "iopub.execute_input": "2023-01-22T04:12:29.005237Z",
     "iopub.status.busy": "2023-01-22T04:12:29.004801Z",
     "iopub.status.idle": "2023-01-22T04:12:29.019381Z",
     "shell.execute_reply": "2023-01-22T04:12:29.017996Z"
    },
    "papermill": {
     "duration": 0.035636,
     "end_time": "2023-01-22T04:12:29.023892",
     "exception": false,
     "start_time": "2023-01-22T04:12:28.988256",
     "status": "completed"
    },
    "tags": []
   },
   "outputs": [],
   "source": [
    "_, closest = model.kneighbors(test_book)"
   ]
  },
  {
   "cell_type": "code",
   "execution_count": 36,
   "id": "cde5bcb8",
   "metadata": {
    "execution": {
     "iopub.execute_input": "2023-01-22T04:12:29.094595Z",
     "iopub.status.busy": "2023-01-22T04:12:29.093930Z",
     "iopub.status.idle": "2023-01-22T04:12:29.102951Z",
     "shell.execute_reply": "2023-01-22T04:12:29.101453Z"
    },
    "papermill": {
     "duration": 0.049102,
     "end_time": "2023-01-22T04:12:29.107125",
     "exception": false,
     "start_time": "2023-01-22T04:12:29.058023",
     "status": "completed"
    },
    "tags": []
   },
   "outputs": [
    {
     "name": "stdout",
     "output_type": "stream",
     "text": [
      "[1626 1001 2088 2098 1299]\n"
     ]
    }
   ],
   "source": [
    "for i in closest[:5]:\n",
    "    print(i)"
   ]
  },
  {
   "cell_type": "code",
   "execution_count": 37,
   "id": "3f0111cc",
   "metadata": {
    "execution": {
     "iopub.execute_input": "2023-01-22T04:12:29.153611Z",
     "iopub.status.busy": "2023-01-22T04:12:29.153195Z",
     "iopub.status.idle": "2023-01-22T04:12:29.270024Z",
     "shell.execute_reply": "2023-01-22T04:12:29.268559Z"
    },
    "papermill": {
     "duration": 0.134071,
     "end_time": "2023-01-22T04:12:29.272558",
     "exception": false,
     "start_time": "2023-01-22T04:12:29.138487",
     "status": "completed"
    },
    "tags": []
   },
   "outputs": [
    {
     "name": "stdout",
     "output_type": "stream",
     "text": [
      "             ISBN                                         Book-Title  \\\n",
      "12763  0618002227  반지의 제왕 (The Lord of the Ri...   \n",
      "\n",
      "            Book-Author Year-Of-Publication                 Publisher  \n",
      "12763  J. R. R. Tolkien                1999  Houghton Mifflin Company  \n",
      "             ISBN                             Book-Title     Book-Author  \\\n",
      "18670  0440944597  The Chocolate War (Laurel Leaf Books)  ROBERT CORMIER   \n",
      "\n",
      "      Year-Of-Publication    Publisher  \n",
      "18670                1986  Laurel Leaf  \n",
      "            ISBN Book-Title   Book-Author Year-Of-Publication  \\\n",
      "3028  1844262553       Free  Paul Vincent                2003   \n",
      "\n",
      "               Publisher  \n",
      "3028  Upfront Publishing  \n",
      "            ISBN               Book-Title      Book-Author  \\\n",
      "8838  3423202327  MÃ?Â¶rder ohne Gesicht.  Henning Mankell   \n",
      "\n",
      "     Year-Of-Publication Publisher  \n",
      "8838                1999       Dtv  \n",
      "            ISBN    Book-Title   Book-Author Year-Of-Publication    Publisher\n",
      "2227  0451208811  Blood Orchid  Stuart Woods                2003  Signet Book\n"
     ]
    }
   ],
   "source": [
    "for i in closest[:5][0]:\n",
    "    print(books[books['ISBN'] == piv_table.index[i]])"
   ]
  },
  {
   "cell_type": "code",
   "execution_count": null,
   "id": "f9193a0a",
   "metadata": {
    "papermill": {
     "duration": 0.013156,
     "end_time": "2023-01-22T04:12:29.299307",
     "exception": false,
     "start_time": "2023-01-22T04:12:29.286151",
     "status": "completed"
    },
    "tags": []
   },
   "outputs": [],
   "source": []
  }
 ],
 "metadata": {
  "kernelspec": {
   "display_name": "Python 3",
   "language": "python",
   "name": "python3"
  },
  "language_info": {
   "codemirror_mode": {
    "name": "ipython",
    "version": 3
   },
   "file_extension": ".py",
   "mimetype": "text/x-python",
   "name": "python",
   "nbconvert_exporter": "python",
   "pygments_lexer": "ipython3",
   "version": "3.7.12"
  },
  "papermill": {
   "default_parameters": {},
   "duration": 18.04472,
   "end_time": "2023-01-22T04:12:30.134768",
   "environment_variables": {},
   "exception": null,
   "input_path": "__notebook__.ipynb",
   "output_path": "__notebook__.ipynb",
   "parameters": {},
   "start_time": "2023-01-22T04:12:12.090048",
   "version": "2.3.4"
  }
 },
 "nbformat": 4,
 "nbformat_minor": 5
}


